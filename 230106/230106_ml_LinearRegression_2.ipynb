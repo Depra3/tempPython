{
 "cells": [
  {
   "cell_type": "code",
   "execution_count": 7,
   "id": "270def99",
   "metadata": {},
   "outputs": [],
   "source": [
    "import pandas as pd\n",
    "import numpy as np\n",
    "import matplotlib.pyplot as plt\n",
    "import seaborn as sns"
   ]
  },
  {
   "cell_type": "code",
   "execution_count": null,
   "id": "88461781",
   "metadata": {},
   "outputs": [],
   "source": [
    "# 온라인에서 연간 특정 고객이 얼마를 지불할 지 고객 소비 예측 모델"
   ]
  },
  {
   "cell_type": "code",
   "execution_count": 5,
   "id": "f1eab78c",
   "metadata": {},
   "outputs": [
    {
     "data": {
      "text/html": [
       "<div>\n",
       "<style scoped>\n",
       "    .dataframe tbody tr th:only-of-type {\n",
       "        vertical-align: middle;\n",
       "    }\n",
       "\n",
       "    .dataframe tbody tr th {\n",
       "        vertical-align: top;\n",
       "    }\n",
       "\n",
       "    .dataframe thead th {\n",
       "        text-align: right;\n",
       "    }\n",
       "</style>\n",
       "<table border=\"1\" class=\"dataframe\">\n",
       "  <thead>\n",
       "    <tr style=\"text-align: right;\">\n",
       "      <th></th>\n",
       "      <th>Email</th>\n",
       "      <th>Address</th>\n",
       "      <th>Avatar</th>\n",
       "      <th>Avg. Session Length</th>\n",
       "      <th>Time on App</th>\n",
       "      <th>Time on Website</th>\n",
       "      <th>Length of Membership</th>\n",
       "      <th>Yearly Amount Spent</th>\n",
       "    </tr>\n",
       "  </thead>\n",
       "  <tbody>\n",
       "    <tr>\n",
       "      <th>0</th>\n",
       "      <td>mstephenson@fernandez.com</td>\n",
       "      <td>835 Frank Tunnel\\nWrightmouth, MI 82180-9605</td>\n",
       "      <td>Violet</td>\n",
       "      <td>34.497268</td>\n",
       "      <td>12.655651</td>\n",
       "      <td>39.577668</td>\n",
       "      <td>4.082621</td>\n",
       "      <td>587.951054</td>\n",
       "    </tr>\n",
       "    <tr>\n",
       "      <th>1</th>\n",
       "      <td>hduke@hotmail.com</td>\n",
       "      <td>4547 Archer Common\\nDiazchester, CA 06566-8576</td>\n",
       "      <td>DarkGreen</td>\n",
       "      <td>31.926272</td>\n",
       "      <td>11.109461</td>\n",
       "      <td>37.268959</td>\n",
       "      <td>2.664034</td>\n",
       "      <td>392.204933</td>\n",
       "    </tr>\n",
       "    <tr>\n",
       "      <th>2</th>\n",
       "      <td>pallen@yahoo.com</td>\n",
       "      <td>24645 Valerie Unions Suite 582\\nCobbborough, D...</td>\n",
       "      <td>Bisque</td>\n",
       "      <td>33.000915</td>\n",
       "      <td>11.330278</td>\n",
       "      <td>37.110597</td>\n",
       "      <td>4.104543</td>\n",
       "      <td>487.547505</td>\n",
       "    </tr>\n",
       "    <tr>\n",
       "      <th>3</th>\n",
       "      <td>riverarebecca@gmail.com</td>\n",
       "      <td>1414 David Throughway\\nPort Jason, OH 22070-1220</td>\n",
       "      <td>SaddleBrown</td>\n",
       "      <td>34.305557</td>\n",
       "      <td>13.717514</td>\n",
       "      <td>36.721283</td>\n",
       "      <td>3.120179</td>\n",
       "      <td>581.852344</td>\n",
       "    </tr>\n",
       "    <tr>\n",
       "      <th>4</th>\n",
       "      <td>mstephens@davidson-herman.com</td>\n",
       "      <td>14023 Rodriguez Passage\\nPort Jacobville, PR 3...</td>\n",
       "      <td>MediumAquaMarine</td>\n",
       "      <td>33.330673</td>\n",
       "      <td>12.795189</td>\n",
       "      <td>37.536653</td>\n",
       "      <td>4.446308</td>\n",
       "      <td>599.406092</td>\n",
       "    </tr>\n",
       "  </tbody>\n",
       "</table>\n",
       "</div>"
      ],
      "text/plain": [
       "                           Email  \\\n",
       "0      mstephenson@fernandez.com   \n",
       "1              hduke@hotmail.com   \n",
       "2               pallen@yahoo.com   \n",
       "3        riverarebecca@gmail.com   \n",
       "4  mstephens@davidson-herman.com   \n",
       "\n",
       "                                             Address            Avatar  \\\n",
       "0       835 Frank Tunnel\\nWrightmouth, MI 82180-9605            Violet   \n",
       "1     4547 Archer Common\\nDiazchester, CA 06566-8576         DarkGreen   \n",
       "2  24645 Valerie Unions Suite 582\\nCobbborough, D...            Bisque   \n",
       "3   1414 David Throughway\\nPort Jason, OH 22070-1220       SaddleBrown   \n",
       "4  14023 Rodriguez Passage\\nPort Jacobville, PR 3...  MediumAquaMarine   \n",
       "\n",
       "   Avg. Session Length  Time on App  Time on Website  Length of Membership  \\\n",
       "0            34.497268    12.655651        39.577668              4.082621   \n",
       "1            31.926272    11.109461        37.268959              2.664034   \n",
       "2            33.000915    11.330278        37.110597              4.104543   \n",
       "3            34.305557    13.717514        36.721283              3.120179   \n",
       "4            33.330673    12.795189        37.536653              4.446308   \n",
       "\n",
       "   Yearly Amount Spent  \n",
       "0           587.951054  \n",
       "1           392.204933  \n",
       "2           487.547505  \n",
       "3           581.852344  \n",
       "4           599.406092  "
      ]
     },
     "execution_count": 5,
     "metadata": {},
     "output_type": "execute_result"
    }
   ],
   "source": [
    "df = pd.read_csv('ref/data/Ecommerce Customers.txt')\n",
    "df.head()"
   ]
  },
  {
   "cell_type": "code",
   "execution_count": 8,
   "id": "be1bf096",
   "metadata": {},
   "outputs": [],
   "source": [
    "y = df['Yearly Amount Spent']\n",
    "x = df.drop(['Email', 'Address', 'Avatar', 'Yearly Amount Spent'], axis=1)"
   ]
  },
  {
   "cell_type": "code",
   "execution_count": 24,
   "id": "34684da9",
   "metadata": {},
   "outputs": [],
   "source": [
    "from sklearn.model_selection import train_test_split\n",
    "x_train, x_test, y_train, y_test = train_test_split(x, y, test_size=0.3)"
   ]
  },
  {
   "cell_type": "code",
   "execution_count": 25,
   "id": "062fb308",
   "metadata": {},
   "outputs": [],
   "source": [
    "from sklearn.linear_model import LinearRegression\n",
    "lin = LinearRegression()"
   ]
  },
  {
   "cell_type": "code",
   "execution_count": 26,
   "id": "35505d17",
   "metadata": {},
   "outputs": [
    {
     "data": {
      "text/plain": [
       "LinearRegression()"
      ]
     },
     "execution_count": 26,
     "metadata": {},
     "output_type": "execute_result"
    }
   ],
   "source": [
    "lin.fit(x_train, y_train)"
   ]
  },
  {
   "cell_type": "code",
   "execution_count": 27,
   "id": "595cce65",
   "metadata": {
    "collapsed": true
   },
   "outputs": [
    {
     "data": {
      "text/plain": [
       "array([457.98906322, 559.14066062, 444.57172546, 509.03419694,\n",
       "       434.87341516, 673.4053002 , 482.27741139, 455.98110593,\n",
       "       486.76408337, 543.79459539, 540.24325942, 472.6447614 ,\n",
       "       517.00262067, 548.01500255, 503.5804994 , 460.24152773,\n",
       "       673.25533787, 578.94655166, 524.09767327, 535.44220864,\n",
       "       506.30519059, 430.77186408, 635.53764645, 452.32506796,\n",
       "       532.4706316 , 351.4942748 , 407.07062817, 424.49664157,\n",
       "       520.74513103, 523.63016968, 549.39397078, 473.74648743,\n",
       "       557.86908961, 609.52541379, 528.38468412, 549.26764671,\n",
       "       437.05818457, 566.71880883, 508.47036804, 564.35173804,\n",
       "       500.51707576, 585.35948632, 553.79150531, 544.52411821,\n",
       "       388.56410873, 444.60228126, 485.96177156, 425.17771219,\n",
       "       494.29793831, 516.93532508, 532.01671261, 532.4222831 ,\n",
       "       420.96763218, 569.33313516, 476.55929473, 523.70823908,\n",
       "       602.77186896, 347.04107905, 459.90350691, 489.10899483,\n",
       "       447.83483186, 479.1608067 , 386.82822837, 599.01529659,\n",
       "       518.52016778, 507.72616712, 767.85125621, 540.38364231,\n",
       "       544.44902821, 589.25972039, 396.45962244, 611.67783237,\n",
       "       607.58466597, 441.91698541, 431.98859366, 472.52215755,\n",
       "       531.91073059, 536.93074447, 469.41427424, 425.69296198,\n",
       "       573.96484236, 397.55424297, 417.38333414, 370.06927929,\n",
       "       451.42537171, 284.08308188, 487.78269676, 603.2755562 ,\n",
       "       373.51233975, 416.55668113, 423.80863972, 601.36805429,\n",
       "       501.39380578, 420.41160173, 502.69346778, 411.06440736,\n",
       "       435.18149316, 478.69196639, 499.39403841, 504.54188785,\n",
       "       449.95705684, 513.76634591, 481.12888168, 548.76284859,\n",
       "       313.53060893, 463.98243652, 754.68964483, 564.85325806,\n",
       "       500.97731177, 512.90325489, 473.63852153, 438.28699786,\n",
       "       647.42090958, 466.62451255, 505.63654365, 461.03200021,\n",
       "       470.52846746, 457.50973768, 439.66711195, 457.49834154,\n",
       "       535.61704705, 518.13407707, 501.00338875, 495.46445855,\n",
       "       445.79428113, 530.59830963, 507.85339296, 478.49324483,\n",
       "       356.45828129, 518.03072293, 577.66867738, 449.50386226,\n",
       "       421.81741761, 455.74586073, 540.92743388, 535.35760492,\n",
       "       487.02512557, 498.76919968, 684.53564543, 532.0070018 ,\n",
       "       482.52783445, 448.92535555, 592.49539216, 524.4153799 ,\n",
       "       506.2037321 , 324.39994307, 467.6493652 , 554.98749507,\n",
       "       480.33670557, 483.74976754])"
      ]
     },
     "execution_count": 27,
     "metadata": {},
     "output_type": "execute_result"
    }
   ],
   "source": [
    "preds = lin.predict(x_test)\n",
    "preds"
   ]
  },
  {
   "cell_type": "code",
   "execution_count": 28,
   "id": "e2e1ff81",
   "metadata": {
    "collapsed": true
   },
   "outputs": [
    {
     "data": {
      "text/plain": [
       "132    452.627255\n",
       "152    555.892595\n",
       "279    442.363117\n",
       "253    503.387887\n",
       "129    431.617734\n",
       "          ...    \n",
       "334    330.594446\n",
       "412    444.053827\n",
       "198    560.560161\n",
       "481    497.389558\n",
       "333    498.635598\n",
       "Name: Yearly Amount Spent, Length: 150, dtype: float64"
      ]
     },
     "execution_count": 28,
     "metadata": {},
     "output_type": "execute_result"
    }
   ],
   "source": [
    "y_test"
   ]
  },
  {
   "cell_type": "code",
   "execution_count": 29,
   "id": "86384baa",
   "metadata": {
    "collapsed": true
   },
   "outputs": [
    {
     "data": {
      "text/plain": [
       "<matplotlib.collections.PathCollection at 0x20d355a2790>"
      ]
     },
     "execution_count": 29,
     "metadata": {},
     "output_type": "execute_result"
    },
    {
     "data": {
      "image/png": "[encoded data removed]",
      "text/plain": [
       "<Figure size 640x480 with 1 Axes>"
      ]
     },
     "metadata": {},
     "output_type": "display_data"
    }
   ],
   "source": [
    "plt.scatter(y_test, preds)"
   ]
  },
  {
   "cell_type": "code",
   "execution_count": 31,
   "id": "5e7dfc56",
   "metadata": {},
   "outputs": [],
   "source": [
    "from sklearn.metrics import mean_squared_error, r2_score"
   ]
  },
  {
   "cell_type": "code",
   "execution_count": 32,
   "id": "78064994",
   "metadata": {},
   "outputs": [
    {
     "data": {
      "text/plain": [
       "101.11633225922182"
      ]
     },
     "execution_count": 32,
     "metadata": {},
     "output_type": "execute_result"
    }
   ],
   "source": [
    "mean_squared_error(y_test, preds)"
   ]
  },
  {
   "cell_type": "code",
   "execution_count": 34,
   "id": "894f925d",
   "metadata": {},
   "outputs": [
    {
     "data": {
      "text/plain": [
       "0.9819909463366514"
      ]
     },
     "execution_count": 34,
     "metadata": {},
     "output_type": "execute_result"
    }
   ],
   "source": [
    "r2_score(y_test, preds)"
   ]
  }
 ],
 "metadata": {
  "kernelspec": {
   "display_name": "Python 3 (ipykernel)",
   "language": "python",
   "name": "python3"
  },
  "language_info": {
   "codemirror_mode": {
    "name": "ipython",
    "version": 3
   },
   "file_extension": ".py",
   "mimetype": "text/x-python",
   "name": "python",
   "nbconvert_exporter": "python",
   "pygments_lexer": "ipython3",
   "version": "3.9.13"
  }
 },
 "nbformat": 4,
 "nbformat_minor": 5
}
