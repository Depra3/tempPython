{
 "cells": [
  {
   "cell_type": "code",
   "execution_count": 1,
   "id": "12962dcb",
   "metadata": {
    "collapsed": true
   },
   "outputs": [
    {
     "name": "stdout",
     "output_type": "stream",
     "text": [
      "Collecting tensorflow\n",
      "  Downloading tensorflow-2.11.0-cp39-cp39-win_amd64.whl (1.9 kB)\n",
      "Collecting tensorflow-intel==2.11.0\n",
      "  Downloading tensorflow_intel-2.11.0-cp39-cp39-win_amd64.whl (266.3 MB)\n",
      "     -------------------------------------- 266.3/266.3 MB 1.0 MB/s eta 0:00:00\n",
      "Requirement already satisfied: h5py>=2.9.0 in c:\\users\\human\\anaconda3\\lib\\site-packages (from tensorflow-intel==2.11.0->tensorflow) (3.7.0)\n",
      "Collecting absl-py>=1.0.0\n",
      "  Downloading absl_py-1.3.0-py3-none-any.whl (124 kB)\n",
      "     -------------------------------------- 124.6/124.6 kB 3.7 MB/s eta 0:00:00\n",
      "Requirement already satisfied: six>=1.12.0 in c:\\users\\human\\anaconda3\\lib\\site-packages (from tensorflow-intel==2.11.0->tensorflow) (1.16.0)\n",
      "Collecting libclang>=13.0.0\n",
      "  Downloading libclang-14.0.6-py2.py3-none-win_amd64.whl (14.2 MB)\n",
      "     ---------------------------------------- 14.2/14.2 MB 8.1 MB/s eta 0:00:00\n",
      "Requirement already satisfied: packaging in c:\\users\\human\\anaconda3\\lib\\site-packages (from tensorflow-intel==2.11.0->tensorflow) (21.3)\n",
      "Requirement already satisfied: setuptools in c:\\users\\human\\anaconda3\\lib\\site-packages (from tensorflow-intel==2.11.0->tensorflow) (63.4.1)\n",
      "Collecting tensorflow-io-gcs-filesystem>=0.23.1\n",
      "  Downloading tensorflow_io_gcs_filesystem-0.29.0-cp39-cp39-win_amd64.whl (1.5 MB)\n",
      "     ---------------------------------------- 1.5/1.5 MB 8.6 MB/s eta 0:00:00\n",
      "Collecting tensorboard<2.12,>=2.11\n",
      "  Downloading tensorboard-2.11.0-py3-none-any.whl (6.0 MB)\n",
      "     ---------------------------------------- 6.0/6.0 MB 9.6 MB/s eta 0:00:00\n",
      "Collecting tensorflow-estimator<2.12,>=2.11.0\n",
      "  Downloading tensorflow_estimator-2.11.0-py2.py3-none-any.whl (439 kB)\n",
      "     -------------------------------------- 439.2/439.2 kB 6.9 MB/s eta 0:00:00\n",
      "Requirement already satisfied: numpy>=1.20 in c:\\users\\human\\anaconda3\\lib\\site-packages (from tensorflow-intel==2.11.0->tensorflow) (1.21.5)\n",
      "Collecting keras<2.12,>=2.11.0\n",
      "  Downloading keras-2.11.0-py2.py3-none-any.whl (1.7 MB)\n",
      "     ---------------------------------------- 1.7/1.7 MB 9.0 MB/s eta 0:00:00\n",
      "Collecting astunparse>=1.6.0\n",
      "  Downloading astunparse-1.6.3-py2.py3-none-any.whl (12 kB)\n",
      "Requirement already satisfied: typing-extensions>=3.6.6 in c:\\users\\human\\anaconda3\\lib\\site-packages (from tensorflow-intel==2.11.0->tensorflow) (4.3.0)\n",
      "Collecting flatbuffers>=2.0\n",
      "  Downloading flatbuffers-23.1.4-py2.py3-none-any.whl (26 kB)\n",
      "Collecting opt-einsum>=2.3.2\n",
      "  Downloading opt_einsum-3.3.0-py3-none-any.whl (65 kB)\n",
      "     ---------------------------------------- 65.5/65.5 kB 3.5 MB/s eta 0:00:00\n",
      "Collecting termcolor>=1.1.0\n",
      "  Downloading termcolor-2.2.0-py3-none-any.whl (6.6 kB)\n",
      "Collecting google-pasta>=0.1.1\n",
      "  Downloading google_pasta-0.2.0-py3-none-any.whl (57 kB)\n",
      "     ---------------------------------------- 57.5/57.5 kB 3.0 MB/s eta 0:00:00\n",
      "Collecting protobuf<3.20,>=3.9.2\n",
      "  Downloading protobuf-3.19.6-cp39-cp39-win_amd64.whl (895 kB)\n",
      "     -------------------------------------- 895.9/895.9 kB 8.1 MB/s eta 0:00:00\n",
      "Requirement already satisfied: wrapt>=1.11.0 in c:\\users\\human\\anaconda3\\lib\\site-packages (from tensorflow-intel==2.11.0->tensorflow) (1.14.1)\n",
      "Collecting grpcio<2.0,>=1.24.3\n",
      "  Downloading grpcio-1.51.1-cp39-cp39-win_amd64.whl (3.7 MB)\n",
      "     ---------------------------------------- 3.7/3.7 MB 9.5 MB/s eta 0:00:00\n",
      "Collecting gast<=0.4.0,>=0.2.1\n",
      "  Downloading gast-0.4.0-py3-none-any.whl (9.8 kB)\n",
      "Requirement already satisfied: wheel<1.0,>=0.23.0 in c:\\users\\human\\anaconda3\\lib\\site-packages (from astunparse>=1.6.0->tensorflow-intel==2.11.0->tensorflow) (0.37.1)\n",
      "Requirement already satisfied: requests<3,>=2.21.0 in c:\\users\\human\\anaconda3\\lib\\site-packages (from tensorboard<2.12,>=2.11->tensorflow-intel==2.11.0->tensorflow) (2.28.1)\n",
      "Requirement already satisfied: markdown>=2.6.8 in c:\\users\\human\\anaconda3\\lib\\site-packages (from tensorboard<2.12,>=2.11->tensorflow-intel==2.11.0->tensorflow) (3.3.4)\n",
      "Collecting tensorboard-plugin-wit>=1.6.0\n",
      "  Downloading tensorboard_plugin_wit-1.8.1-py3-none-any.whl (781 kB)\n",
      "     -------------------------------------- 781.3/781.3 kB 7.0 MB/s eta 0:00:00\n",
      "Collecting tensorboard-data-server<0.7.0,>=0.6.0\n",
      "  Downloading tensorboard_data_server-0.6.1-py3-none-any.whl (2.4 kB)\n",
      "Collecting google-auth-oauthlib<0.5,>=0.4.1\n",
      "  Downloading google_auth_oauthlib-0.4.6-py2.py3-none-any.whl (18 kB)\n",
      "Collecting google-auth<3,>=1.6.3\n",
      "  Downloading google_auth-2.15.0-py2.py3-none-any.whl (177 kB)\n",
      "     -------------------------------------- 177.0/177.0 kB 5.4 MB/s eta 0:00:00\n",
      "Requirement already satisfied: werkzeug>=1.0.1 in c:\\users\\human\\anaconda3\\lib\\site-packages (from tensorboard<2.12,>=2.11->tensorflow-intel==2.11.0->tensorflow) (2.0.3)\n",
      "Requirement already satisfied: pyparsing!=3.0.5,>=2.0.2 in c:\\users\\human\\anaconda3\\lib\\site-packages (from packaging->tensorflow-intel==2.11.0->tensorflow) (3.0.9)\n",
      "Requirement already satisfied: pyasn1-modules>=0.2.1 in c:\\users\\human\\anaconda3\\lib\\site-packages (from google-auth<3,>=1.6.3->tensorboard<2.12,>=2.11->tensorflow-intel==2.11.0->tensorflow) (0.2.8)\n",
      "Collecting rsa<5,>=3.1.4\n",
      "  Downloading rsa-4.9-py3-none-any.whl (34 kB)\n",
      "Collecting cachetools<6.0,>=2.0.0\n",
      "  Downloading cachetools-5.2.0-py3-none-any.whl (9.3 kB)\n",
      "Collecting requests-oauthlib>=0.7.0\n",
      "  Downloading requests_oauthlib-1.3.1-py2.py3-none-any.whl (23 kB)\n",
      "Requirement already satisfied: charset-normalizer<3,>=2 in c:\\users\\human\\anaconda3\\lib\\site-packages (from requests<3,>=2.21.0->tensorboard<2.12,>=2.11->tensorflow-intel==2.11.0->tensorflow) (2.0.4)\n",
      "Requirement already satisfied: idna<4,>=2.5 in c:\\users\\human\\anaconda3\\lib\\site-packages (from requests<3,>=2.21.0->tensorboard<2.12,>=2.11->tensorflow-intel==2.11.0->tensorflow) (3.3)\n",
      "Requirement already satisfied: urllib3<1.27,>=1.21.1 in c:\\users\\human\\anaconda3\\lib\\site-packages (from requests<3,>=2.21.0->tensorboard<2.12,>=2.11->tensorflow-intel==2.11.0->tensorflow) (1.26.11)\n",
      "Requirement already satisfied: certifi>=2017.4.17 in c:\\users\\human\\anaconda3\\lib\\site-packages (from requests<3,>=2.21.0->tensorboard<2.12,>=2.11->tensorflow-intel==2.11.0->tensorflow) (2022.9.14)\n",
      "Requirement already satisfied: pyasn1<0.5.0,>=0.4.6 in c:\\users\\human\\anaconda3\\lib\\site-packages (from pyasn1-modules>=0.2.1->google-auth<3,>=1.6.3->tensorboard<2.12,>=2.11->tensorflow-intel==2.11.0->tensorflow) (0.4.8)\n",
      "Collecting oauthlib>=3.0.0\n",
      "  Downloading oauthlib-3.2.2-py3-none-any.whl (151 kB)\n",
      "     -------------------------------------- 151.7/151.7 kB 4.4 MB/s eta 0:00:00\n",
      "Installing collected packages: tensorboard-plugin-wit, libclang, flatbuffers, termcolor, tensorflow-io-gcs-filesystem, tensorflow-estimator, tensorboard-data-server, rsa, protobuf, opt-einsum, oauthlib, keras, grpcio, google-pasta, gast, cachetools, astunparse, absl-py, requests-oauthlib, google-auth, google-auth-oauthlib, tensorboard, tensorflow-intel, tensorflow\n",
      "Successfully installed absl-py-1.3.0 astunparse-1.6.3 cachetools-5.2.0 flatbuffers-23.1.4 gast-0.4.0 google-auth-2.15.0 google-auth-oauthlib-0.4.6 google-pasta-0.2.0 grpcio-1.51.1 keras-2.11.0 libclang-14.0.6 oauthlib-3.2.2 opt-einsum-3.3.0 protobuf-3.19.6 requests-oauthlib-1.3.1 rsa-4.9 tensorboard-2.11.0 tensorboard-data-server-0.6.1 tensorboard-plugin-wit-1.8.1 tensorflow-2.11.0 tensorflow-estimator-2.11.0 tensorflow-intel-2.11.0 tensorflow-io-gcs-filesystem-0.29.0 termcolor-2.2.0\n"
     ]
    }
   ],
   "source": [
    "!pip install tensorflow"
   ]
  },
  {
   "cell_type": "code",
   "execution_count": 2,
   "id": "e9596afc",
   "metadata": {},
   "outputs": [],
   "source": [
    "from tensorflow.keras.models import Sequential\n",
    "from tensorflow.keras.layers import Dense"
   ]
  },
  {
   "cell_type": "code",
   "execution_count": 3,
   "id": "55020c8a",
   "metadata": {},
   "outputs": [],
   "source": [
    "import pandas as pd\n",
    "import numpy as np"
   ]
  },
  {
   "cell_type": "code",
   "execution_count": 12,
   "id": "73b0ff1f",
   "metadata": {
    "collapsed": true
   },
   "outputs": [
    {
     "data": {
      "text/plain": [
       "array([[293.  ,   1.  ,   3.8 , ...,   0.  ,  62.  ,   0.  ],\n",
       "       [  1.  ,   2.  ,   2.88, ...,   0.  ,  60.  ,   0.  ],\n",
       "       [  8.  ,   2.  ,   3.19, ...,   0.  ,  66.  ,   1.  ],\n",
       "       ...,\n",
       "       [406.  ,   6.  ,   5.36, ...,   0.  ,  62.  ,   0.  ],\n",
       "       [ 25.  ,   8.  ,   4.32, ...,   0.  ,  58.  ,   1.  ],\n",
       "       [447.  ,   8.  ,   5.2 , ...,   0.  ,  49.  ,   0.  ]])"
      ]
     },
     "execution_count": 12,
     "metadata": {},
     "output_type": "execute_result"
    }
   ],
   "source": [
    "data_set = np.loadtxt('./deep_data/ThoraricSurgery.csv', delimiter=',')\n",
    "data_set"
   ]
  },
  {
   "cell_type": "code",
   "execution_count": 13,
   "id": "64e3b2f8",
   "metadata": {},
   "outputs": [],
   "source": [
    "x = data_set[:, 0:17]\n",
    "y = data_set[:, 17]"
   ]
  },
  {
   "cell_type": "code",
   "execution_count": 15,
   "id": "2751f113",
   "metadata": {},
   "outputs": [
    {
     "data": {
      "text/plain": [
       "array([[293.  ,   1.  ,   3.8 , ...,   1.  ,   0.  ,  62.  ],\n",
       "       [  1.  ,   2.  ,   2.88, ...,   1.  ,   0.  ,  60.  ],\n",
       "       [  8.  ,   2.  ,   3.19, ...,   1.  ,   0.  ,  66.  ],\n",
       "       ...,\n",
       "       [406.  ,   6.  ,   5.36, ...,   0.  ,   0.  ,  62.  ],\n",
       "       [ 25.  ,   8.  ,   4.32, ...,   0.  ,   0.  ,  58.  ],\n",
       "       [447.  ,   8.  ,   5.2 , ...,   0.  ,   0.  ,  49.  ]])"
      ]
     },
     "execution_count": 15,
     "metadata": {},
     "output_type": "execute_result"
    }
   ],
   "source": [
    "x"
   ]
  },
  {
   "cell_type": "code",
   "execution_count": 16,
   "id": "dde6b7d9",
   "metadata": {
    "collapsed": true
   },
   "outputs": [
    {
     "data": {
      "text/plain": [
       "array([0., 0., 1., 1., 0., 0., 0., 1., 0., 0., 0., 0., 0., 0., 1., 0., 0.,\n",
       "       0., 0., 0., 0., 0., 0., 0., 0., 0., 1., 0., 0., 1., 1., 0., 0., 0.,\n",
       "       0., 0., 1., 0., 0., 1., 0., 0., 0., 1., 0., 1., 0., 0., 1., 0., 0.,\n",
       "       0., 0., 0., 0., 0., 1., 0., 1., 0., 0., 0., 0., 0., 0., 0., 0., 0.,\n",
       "       0., 0., 0., 0., 1., 0., 1., 0., 0., 0., 0., 0., 0., 0., 0., 0., 0.,\n",
       "       0., 1., 0., 0., 0., 0., 0., 0., 0., 1., 0., 1., 0., 0., 0., 0., 0.,\n",
       "       0., 0., 0., 0., 0., 0., 1., 0., 1., 0., 0., 0., 0., 0., 0., 0., 0.,\n",
       "       0., 0., 0., 0., 1., 0., 0., 0., 0., 1., 0., 0., 0., 0., 0., 0., 0.,\n",
       "       0., 0., 0., 0., 0., 0., 0., 0., 0., 0., 0., 1., 0., 0., 0., 0., 1.,\n",
       "       0., 0., 0., 0., 0., 0., 0., 0., 0., 0., 1., 1., 0., 0., 0., 0., 0.,\n",
       "       0., 0., 0., 0., 0., 0., 0., 0., 1., 0., 1., 0., 1., 0., 0., 0., 0.,\n",
       "       0., 0., 0., 0., 0., 0., 0., 0., 1., 0., 0., 1., 1., 0., 0., 0., 0.,\n",
       "       0., 0., 0., 0., 0., 0., 1., 0., 1., 0., 0., 0., 0., 0., 0., 0., 0.,\n",
       "       1., 0., 1., 0., 0., 0., 0., 0., 0., 0., 1., 0., 0., 0., 0., 0., 0.,\n",
       "       0., 0., 1., 0., 0., 0., 0., 0., 0., 0., 0., 1., 0., 0., 0., 0., 0.,\n",
       "       0., 1., 0., 1., 0., 0., 0., 0., 0., 0., 0., 0., 0., 0., 0., 0., 0.,\n",
       "       0., 0., 0., 0., 0., 1., 1., 0., 0., 0., 0., 1., 0., 0., 1., 0., 0.,\n",
       "       0., 0., 1., 0., 0., 0., 0., 0., 0., 1., 0., 0., 0., 0., 0., 0., 0.,\n",
       "       0., 0., 0., 1., 0., 0., 0., 0., 1., 0., 0., 0., 0., 0., 0., 1., 0.,\n",
       "       0., 0., 1., 0., 0., 0., 0., 0., 0., 0., 0., 0., 0., 0., 0., 0., 0.,\n",
       "       0., 0., 0., 0., 0., 1., 0., 0., 0., 0., 0., 0., 0., 0., 0., 0., 0.,\n",
       "       0., 0., 0., 0., 0., 0., 0., 0., 0., 0., 0., 1., 0., 0., 0., 0., 0.,\n",
       "       0., 0., 0., 0., 0., 0., 0., 0., 0., 0., 0., 0., 1., 0., 0., 0., 0.,\n",
       "       0., 0., 0., 0., 0., 0., 0., 0., 0., 0., 0., 0., 0., 0., 0., 1., 0.,\n",
       "       0., 1., 0., 1., 0., 0., 0., 1., 1., 0., 0., 0., 0., 0., 0., 0., 0.,\n",
       "       0., 0., 0., 0., 0., 0., 0., 0., 0., 0., 0., 0., 0., 0., 0., 0., 0.,\n",
       "       0., 1., 0., 0., 0., 0., 1., 0., 0., 1., 1., 0., 0., 1., 1., 0., 1.,\n",
       "       0., 0., 1., 1., 0., 0., 0., 0., 0., 1., 0.])"
      ]
     },
     "execution_count": 16,
     "metadata": {},
     "output_type": "execute_result"
    }
   ],
   "source": [
    "y"
   ]
  },
  {
   "cell_type": "code",
   "execution_count": null,
   "id": "f1327208",
   "metadata": {},
   "outputs": [],
   "source": [
    "# neural network 구성\n",
    "\n",
    "# input_dim : 입력값의 차원\n",
    "# 30 : hidden layer의 node의 갯수"
   ]
  },
  {
   "cell_type": "code",
   "execution_count": 14,
   "id": "a0b5902c",
   "metadata": {
    "collapsed": true
   },
   "outputs": [
    {
     "name": "stdout",
     "output_type": "stream",
     "text": [
      "Model: \"sequential\"\n",
      "_________________________________________________________________\n",
      " Layer (type)                Output Shape              Param #   \n",
      "=================================================================\n",
      " dense (Dense)               (None, 30)                540       \n",
      "                                                                 \n",
      " dense_1 (Dense)             (None, 1)                 31        \n",
      "                                                                 \n",
      "=================================================================\n",
      "Total params: 571\n",
      "Trainable params: 571\n",
      "Non-trainable params: 0\n",
      "_________________________________________________________________\n"
     ]
    }
   ],
   "source": [
    "model = Sequential()\n",
    "model.add(Dense(30, input_dim=17, activation='relu'))\n",
    "model.add(Dense(1, activation='sigmoid'))\n",
    "model.summary()"
   ]
  },
  {
   "cell_type": "code",
   "execution_count": 18,
   "id": "b0f3bc00",
   "metadata": {},
   "outputs": [],
   "source": [
    "model.compile(loss='binary_crossentropy', optimizer='adam', metrics=['accuracy'])\n"
   ]
  },
  {
   "cell_type": "code",
   "execution_count": null,
   "id": "57118cd7",
   "metadata": {},
   "outputs": [],
   "source": [
    "# neural network 학습\n",
    "# epochs : 전체 데이터에 대해서 몇 번 학습시킬 것인지..\n",
    "# batch_size : 네이워크에 10개의 데이터를 묶어서 묶음단위로 네트워크에 입렵"
   ]
  },
  {
   "cell_type": "code",
   "execution_count": 19,
   "id": "86d9df25",
   "metadata": {
    "collapsed": true
   },
   "outputs": [
    {
     "name": "stdout",
     "output_type": "stream",
     "text": [
      "Epoch 1/100\n",
      "47/47 [==============================] - 1s 1ms/step - loss: 2.8855 - accuracy: 0.7447\n",
      "Epoch 2/100\n",
      "47/47 [==============================] - 0s 1ms/step - loss: 1.1732 - accuracy: 0.7532\n",
      "Epoch 3/100\n",
      "47/47 [==============================] - 0s 978us/step - loss: 0.8105 - accuracy: 0.7872\n",
      "Epoch 4/100\n",
      "47/47 [==============================] - 0s 999us/step - loss: 0.6211 - accuracy: 0.8128\n",
      "Epoch 5/100\n",
      "47/47 [==============================] - 0s 978us/step - loss: 0.5452 - accuracy: 0.8319\n",
      "Epoch 6/100\n",
      "47/47 [==============================] - 0s 1ms/step - loss: 0.5043 - accuracy: 0.8319\n",
      "Epoch 7/100\n",
      "47/47 [==============================] - 0s 1000us/step - loss: 0.4953 - accuracy: 0.8468\n",
      "Epoch 8/100\n",
      "47/47 [==============================] - 0s 1ms/step - loss: 0.5091 - accuracy: 0.8277\n",
      "Epoch 9/100\n",
      "47/47 [==============================] - 0s 1ms/step - loss: 0.4531 - accuracy: 0.8468\n",
      "Epoch 10/100\n",
      "47/47 [==============================] - 0s 999us/step - loss: 0.4585 - accuracy: 0.8532\n",
      "Epoch 11/100\n",
      "47/47 [==============================] - 0s 978us/step - loss: 0.4408 - accuracy: 0.8383\n",
      "Epoch 12/100\n",
      "47/47 [==============================] - 0s 1000us/step - loss: 0.5087 - accuracy: 0.8447\n",
      "Epoch 13/100\n",
      "47/47 [==============================] - 0s 1000us/step - loss: 0.4488 - accuracy: 0.8340\n",
      "Epoch 14/100\n",
      "47/47 [==============================] - 0s 1ms/step - loss: 0.4395 - accuracy: 0.8511\n",
      "Epoch 15/100\n",
      "47/47 [==============================] - 0s 1ms/step - loss: 0.4350 - accuracy: 0.8511\n",
      "Epoch 16/100\n",
      "47/47 [==============================] - 0s 1ms/step - loss: 0.5105 - accuracy: 0.8234\n",
      "Epoch 17/100\n",
      "47/47 [==============================] - 0s 1ms/step - loss: 0.4545 - accuracy: 0.8489\n",
      "Epoch 18/100\n",
      "47/47 [==============================] - 0s 1ms/step - loss: 0.4700 - accuracy: 0.8447\n",
      "Epoch 19/100\n",
      "47/47 [==============================] - 0s 1ms/step - loss: 0.4817 - accuracy: 0.8319\n",
      "Epoch 20/100\n",
      "47/47 [==============================] - 0s 1000us/step - loss: 0.4160 - accuracy: 0.8468\n",
      "Epoch 21/100\n",
      "47/47 [==============================] - 0s 978us/step - loss: 0.4493 - accuracy: 0.8468\n",
      "Epoch 22/100\n",
      "47/47 [==============================] - 0s 1ms/step - loss: 0.4553 - accuracy: 0.8340\n",
      "Epoch 23/100\n",
      "47/47 [==============================] - 0s 978us/step - loss: 0.4371 - accuracy: 0.8489\n",
      "Epoch 24/100\n",
      "47/47 [==============================] - 0s 1ms/step - loss: 0.4197 - accuracy: 0.8553\n",
      "Epoch 25/100\n",
      "47/47 [==============================] - 0s 977us/step - loss: 0.4278 - accuracy: 0.8468\n",
      "Epoch 26/100\n",
      "47/47 [==============================] - 0s 1ms/step - loss: 0.4254 - accuracy: 0.8362\n",
      "Epoch 27/100\n",
      "47/47 [==============================] - 0s 1ms/step - loss: 0.4412 - accuracy: 0.8383\n",
      "Epoch 28/100\n",
      "47/47 [==============================] - 0s 2ms/step - loss: 0.4173 - accuracy: 0.8553\n",
      "Epoch 29/100\n",
      "47/47 [==============================] - 0s 1ms/step - loss: 0.4702 - accuracy: 0.8277\n",
      "Epoch 30/100\n",
      "47/47 [==============================] - 0s 978us/step - loss: 0.4326 - accuracy: 0.8489\n",
      "Epoch 31/100\n",
      "47/47 [==============================] - 0s 1000us/step - loss: 0.4378 - accuracy: 0.8468\n",
      "Epoch 32/100\n",
      "47/47 [==============================] - 0s 978us/step - loss: 0.4052 - accuracy: 0.8489\n",
      "Epoch 33/100\n",
      "47/47 [==============================] - 0s 1ms/step - loss: 0.4192 - accuracy: 0.8489\n",
      "Epoch 34/100\n",
      "47/47 [==============================] - 0s 969us/step - loss: 0.4173 - accuracy: 0.8362\n",
      "Epoch 35/100\n",
      "47/47 [==============================] - 0s 977us/step - loss: 0.4041 - accuracy: 0.8362\n",
      "Epoch 36/100\n",
      "47/47 [==============================] - 0s 1ms/step - loss: 0.4107 - accuracy: 0.8468\n",
      "Epoch 37/100\n",
      "47/47 [==============================] - 0s 1ms/step - loss: 0.3958 - accuracy: 0.8574\n",
      "Epoch 38/100\n",
      "47/47 [==============================] - 0s 1ms/step - loss: 0.3995 - accuracy: 0.8489\n",
      "Epoch 39/100\n",
      "47/47 [==============================] - 0s 977us/step - loss: 0.4353 - accuracy: 0.8426\n",
      "Epoch 40/100\n",
      "47/47 [==============================] - 0s 1ms/step - loss: 0.4014 - accuracy: 0.8553\n",
      "Epoch 41/100\n",
      "47/47 [==============================] - 0s 1ms/step - loss: 0.4288 - accuracy: 0.8447\n",
      "Epoch 42/100\n",
      "47/47 [==============================] - 0s 1ms/step - loss: 0.4424 - accuracy: 0.8511\n",
      "Epoch 43/100\n",
      "47/47 [==============================] - 0s 1ms/step - loss: 0.4017 - accuracy: 0.8489\n",
      "Epoch 44/100\n",
      "47/47 [==============================] - 0s 1ms/step - loss: 0.4048 - accuracy: 0.8532\n",
      "Epoch 45/100\n",
      "47/47 [==============================] - 0s 1ms/step - loss: 0.4297 - accuracy: 0.8319\n",
      "Epoch 46/100\n",
      "47/47 [==============================] - 0s 956us/step - loss: 0.5177 - accuracy: 0.8319\n",
      "Epoch 47/100\n",
      "47/47 [==============================] - 0s 999us/step - loss: 0.4282 - accuracy: 0.8468\n",
      "Epoch 48/100\n",
      "47/47 [==============================] - 0s 969us/step - loss: 0.4015 - accuracy: 0.8511\n",
      "Epoch 49/100\n",
      "47/47 [==============================] - 0s 956us/step - loss: 0.4029 - accuracy: 0.8404\n",
      "Epoch 50/100\n",
      "47/47 [==============================] - 0s 978us/step - loss: 0.4096 - accuracy: 0.8447\n",
      "Epoch 51/100\n",
      "47/47 [==============================] - 0s 1ms/step - loss: 0.4820 - accuracy: 0.8319\n",
      "Epoch 52/100\n",
      "47/47 [==============================] - 0s 1ms/step - loss: 0.3965 - accuracy: 0.8617\n",
      "Epoch 53/100\n",
      "47/47 [==============================] - 0s 1ms/step - loss: 0.4125 - accuracy: 0.8596\n",
      "Epoch 54/100\n",
      "47/47 [==============================] - 0s 1ms/step - loss: 0.4260 - accuracy: 0.8511\n",
      "Epoch 55/100\n",
      "47/47 [==============================] - 0s 999us/step - loss: 0.4074 - accuracy: 0.8596\n",
      "Epoch 56/100\n",
      "47/47 [==============================] - 0s 956us/step - loss: 0.4458 - accuracy: 0.8277\n",
      "Epoch 57/100\n",
      "47/47 [==============================] - 0s 956us/step - loss: 0.3976 - accuracy: 0.8638\n",
      "Epoch 58/100\n",
      "47/47 [==============================] - 0s 978us/step - loss: 0.4061 - accuracy: 0.8447\n",
      "Epoch 59/100\n",
      "47/47 [==============================] - 0s 1000us/step - loss: 0.4042 - accuracy: 0.8574\n",
      "Epoch 60/100\n",
      "47/47 [==============================] - 0s 956us/step - loss: 0.4277 - accuracy: 0.8404\n",
      "Epoch 61/100\n",
      "47/47 [==============================] - 0s 978us/step - loss: 0.4273 - accuracy: 0.8426\n",
      "Epoch 62/100\n",
      "47/47 [==============================] - 0s 978us/step - loss: 0.3986 - accuracy: 0.8574\n",
      "Epoch 63/100\n",
      "47/47 [==============================] - 0s 978us/step - loss: 0.4111 - accuracy: 0.8532\n",
      "Epoch 64/100\n",
      "47/47 [==============================] - 0s 1ms/step - loss: 0.3909 - accuracy: 0.8532\n",
      "Epoch 65/100\n",
      "47/47 [==============================] - 0s 1ms/step - loss: 0.4196 - accuracy: 0.8340\n",
      "Epoch 66/100\n",
      "47/47 [==============================] - 0s 956us/step - loss: 0.3888 - accuracy: 0.8553\n",
      "Epoch 67/100\n",
      "47/47 [==============================] - 0s 978us/step - loss: 0.4133 - accuracy: 0.8574\n",
      "Epoch 68/100\n",
      "47/47 [==============================] - 0s 934us/step - loss: 0.4095 - accuracy: 0.8553\n",
      "Epoch 69/100\n",
      "47/47 [==============================] - 0s 978us/step - loss: 0.3974 - accuracy: 0.8468\n",
      "Epoch 70/100\n",
      "47/47 [==============================] - 0s 978us/step - loss: 0.4347 - accuracy: 0.8511\n",
      "Epoch 71/100\n",
      "47/47 [==============================] - 0s 1ms/step - loss: 0.3858 - accuracy: 0.8553\n",
      "Epoch 72/100\n",
      "47/47 [==============================] - 0s 1000us/step - loss: 0.4272 - accuracy: 0.8511\n",
      "Epoch 73/100\n",
      "47/47 [==============================] - 0s 956us/step - loss: 0.3920 - accuracy: 0.8617\n",
      "Epoch 74/100\n",
      "47/47 [==============================] - 0s 1ms/step - loss: 0.4086 - accuracy: 0.8447\n",
      "Epoch 75/100\n",
      "47/47 [==============================] - 0s 2ms/step - loss: 0.4072 - accuracy: 0.8511\n",
      "Epoch 76/100\n",
      "47/47 [==============================] - 0s 978us/step - loss: 0.4225 - accuracy: 0.8511\n",
      "Epoch 77/100\n",
      "47/47 [==============================] - 0s 1ms/step - loss: 0.4021 - accuracy: 0.8574\n",
      "Epoch 78/100\n",
      "47/47 [==============================] - 0s 1ms/step - loss: 0.3808 - accuracy: 0.8553\n",
      "Epoch 79/100\n",
      "47/47 [==============================] - 0s 1ms/step - loss: 0.3992 - accuracy: 0.8660\n",
      "Epoch 80/100\n",
      "47/47 [==============================] - 0s 1ms/step - loss: 0.3991 - accuracy: 0.8617\n",
      "Epoch 81/100\n",
      "47/47 [==============================] - 0s 1ms/step - loss: 0.3991 - accuracy: 0.8532\n",
      "Epoch 82/100\n"
     ]
    },
    {
     "name": "stdout",
     "output_type": "stream",
     "text": [
      "47/47 [==============================] - 0s 978us/step - loss: 0.4169 - accuracy: 0.8511\n",
      "Epoch 83/100\n",
      "47/47 [==============================] - 0s 1ms/step - loss: 0.3989 - accuracy: 0.8468\n",
      "Epoch 84/100\n",
      "47/47 [==============================] - 0s 934us/step - loss: 0.4142 - accuracy: 0.8489\n",
      "Epoch 85/100\n",
      "47/47 [==============================] - 0s 934us/step - loss: 0.4617 - accuracy: 0.8426\n",
      "Epoch 86/100\n",
      "47/47 [==============================] - 0s 1000us/step - loss: 0.4702 - accuracy: 0.8553\n",
      "Epoch 87/100\n",
      "47/47 [==============================] - 0s 1ms/step - loss: 0.4091 - accuracy: 0.8532\n",
      "Epoch 88/100\n",
      "47/47 [==============================] - 0s 1ms/step - loss: 0.4264 - accuracy: 0.8553\n",
      "Epoch 89/100\n",
      "47/47 [==============================] - 0s 999us/step - loss: 0.4284 - accuracy: 0.8489\n",
      "Epoch 90/100\n",
      "47/47 [==============================] - 0s 934us/step - loss: 0.3740 - accuracy: 0.8532\n",
      "Epoch 91/100\n",
      "47/47 [==============================] - 0s 978us/step - loss: 0.4152 - accuracy: 0.8489\n",
      "Epoch 92/100\n",
      "47/47 [==============================] - 0s 956us/step - loss: 0.3903 - accuracy: 0.8596\n",
      "Epoch 93/100\n",
      "47/47 [==============================] - 0s 934us/step - loss: 0.4045 - accuracy: 0.8468\n",
      "Epoch 94/100\n",
      "47/47 [==============================] - 0s 1ms/step - loss: 0.3851 - accuracy: 0.8596\n",
      "Epoch 95/100\n",
      "47/47 [==============================] - 0s 1ms/step - loss: 0.4281 - accuracy: 0.8511\n",
      "Epoch 96/100\n",
      "47/47 [==============================] - 0s 1ms/step - loss: 0.4035 - accuracy: 0.8596\n",
      "Epoch 97/100\n",
      "47/47 [==============================] - 0s 1ms/step - loss: 0.5409 - accuracy: 0.8149\n",
      "Epoch 98/100\n",
      "47/47 [==============================] - 0s 1ms/step - loss: 0.4437 - accuracy: 0.8340\n",
      "Epoch 99/100\n",
      "47/47 [==============================] - 0s 956us/step - loss: 0.3790 - accuracy: 0.8596\n",
      "Epoch 100/100\n",
      "47/47 [==============================] - 0s 978us/step - loss: 0.4039 - accuracy: 0.8426\n"
     ]
    },
    {
     "data": {
      "text/plain": [
       "<keras.callbacks.History at 0x209c0940460>"
      ]
     },
     "execution_count": 19,
     "metadata": {},
     "output_type": "execute_result"
    }
   ],
   "source": [
    "model.fit(x,y, epochs=100, batch_size=10)"
   ]
  },
  {
   "cell_type": "code",
   "execution_count": null,
   "id": "ad39bcab",
   "metadata": {},
   "outputs": [],
   "source": []
  },
  {
   "cell_type": "code",
   "execution_count": null,
   "id": "029a04ae",
   "metadata": {},
   "outputs": [],
   "source": []
  },
  {
   "cell_type": "code",
   "execution_count": null,
   "id": "3aa02eea",
   "metadata": {},
   "outputs": [],
   "source": []
  },
  {
   "cell_type": "code",
   "execution_count": null,
   "id": "36157e6e",
   "metadata": {},
   "outputs": [],
   "source": []
  },
  {
   "cell_type": "code",
   "execution_count": null,
   "id": "b33441c3",
   "metadata": {},
   "outputs": [],
   "source": []
  },
  {
   "cell_type": "code",
   "execution_count": null,
   "id": "3ea725d8",
   "metadata": {},
   "outputs": [],
   "source": []
  }
 ],
 "metadata": {
  "kernelspec": {
   "display_name": "Python 3 (ipykernel)",
   "language": "python",
   "name": "python3"
  },
  "language_info": {
   "codemirror_mode": {
    "name": "ipython",
    "version": 3
   },
   "file_extension": ".py",
   "mimetype": "text/x-python",
   "name": "python",
   "nbconvert_exporter": "python",
   "pygments_lexer": "ipython3",
   "version": "3.9.13"
  }
 },
 "nbformat": 4,
 "nbformat_minor": 5
}
