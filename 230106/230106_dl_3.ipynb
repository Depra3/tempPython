{
 "cells": [
  {
   "cell_type": "code",
   "execution_count": 1,
   "id": "df2795ee",
   "metadata": {},
   "outputs": [],
   "source": [
    "import pandas as pd\n",
    "import numpy as np\n",
    "from tensorflow.keras.models import Sequential\n",
    "from tensorflow.keras.layers import Dense\n",
    "from sklearn.preprocessing import LabelEncoder\n",
    "\n",
    "import tensorflow as tf"
   ]
  },
  {
   "cell_type": "code",
   "execution_count": 2,
   "id": "13fea490",
   "metadata": {},
   "outputs": [
    {
     "data": {
      "text/html": [
       "<div>\n",
       "<style scoped>\n",
       "    .dataframe tbody tr th:only-of-type {\n",
       "        vertical-align: middle;\n",
       "    }\n",
       "\n",
       "    .dataframe tbody tr th {\n",
       "        vertical-align: top;\n",
       "    }\n",
       "\n",
       "    .dataframe thead th {\n",
       "        text-align: right;\n",
       "    }\n",
       "</style>\n",
       "<table border=\"1\" class=\"dataframe\">\n",
       "  <thead>\n",
       "    <tr style=\"text-align: right;\">\n",
       "      <th></th>\n",
       "      <th>0</th>\n",
       "      <th>1</th>\n",
       "      <th>2</th>\n",
       "      <th>3</th>\n",
       "      <th>4</th>\n",
       "    </tr>\n",
       "  </thead>\n",
       "  <tbody>\n",
       "    <tr>\n",
       "      <th>0</th>\n",
       "      <td>5.1</td>\n",
       "      <td>3.5</td>\n",
       "      <td>1.4</td>\n",
       "      <td>0.2</td>\n",
       "      <td>Iris-setosa</td>\n",
       "    </tr>\n",
       "    <tr>\n",
       "      <th>1</th>\n",
       "      <td>4.9</td>\n",
       "      <td>3.0</td>\n",
       "      <td>1.4</td>\n",
       "      <td>0.2</td>\n",
       "      <td>Iris-setosa</td>\n",
       "    </tr>\n",
       "    <tr>\n",
       "      <th>2</th>\n",
       "      <td>4.7</td>\n",
       "      <td>3.2</td>\n",
       "      <td>1.3</td>\n",
       "      <td>0.2</td>\n",
       "      <td>Iris-setosa</td>\n",
       "    </tr>\n",
       "    <tr>\n",
       "      <th>3</th>\n",
       "      <td>4.6</td>\n",
       "      <td>3.1</td>\n",
       "      <td>1.5</td>\n",
       "      <td>0.2</td>\n",
       "      <td>Iris-setosa</td>\n",
       "    </tr>\n",
       "    <tr>\n",
       "      <th>4</th>\n",
       "      <td>5.0</td>\n",
       "      <td>3.6</td>\n",
       "      <td>1.4</td>\n",
       "      <td>0.2</td>\n",
       "      <td>Iris-setosa</td>\n",
       "    </tr>\n",
       "  </tbody>\n",
       "</table>\n",
       "</div>"
      ],
      "text/plain": [
       "     0    1    2    3            4\n",
       "0  5.1  3.5  1.4  0.2  Iris-setosa\n",
       "1  4.9  3.0  1.4  0.2  Iris-setosa\n",
       "2  4.7  3.2  1.3  0.2  Iris-setosa\n",
       "3  4.6  3.1  1.5  0.2  Iris-setosa\n",
       "4  5.0  3.6  1.4  0.2  Iris-setosa"
      ]
     },
     "execution_count": 2,
     "metadata": {},
     "output_type": "execute_result"
    }
   ],
   "source": [
    "df = pd.read_csv('ref/dl_data/iris.csv', header=None)\n",
    "df.head()"
   ]
  },
  {
   "cell_type": "code",
   "execution_count": 3,
   "id": "69d1b0f4",
   "metadata": {
    "collapsed": true
   },
   "outputs": [
    {
     "name": "stdout",
     "output_type": "stream",
     "text": [
      "       0    1    2    3\n",
      "0    5.1  3.5  1.4  0.2\n",
      "1    4.9  3.0  1.4  0.2\n",
      "2    4.7  3.2  1.3  0.2\n",
      "3    4.6  3.1  1.5  0.2\n",
      "4    5.0  3.6  1.4  0.2\n",
      "..   ...  ...  ...  ...\n",
      "145  6.7  3.0  5.2  2.3\n",
      "146  6.3  2.5  5.0  1.9\n",
      "147  6.5  3.0  5.2  2.0\n",
      "148  6.2  3.4  5.4  2.3\n",
      "149  5.9  3.0  5.1  1.8\n",
      "\n",
      "[150 rows x 4 columns]\n",
      "0         Iris-setosa\n",
      "1         Iris-setosa\n",
      "2         Iris-setosa\n",
      "3         Iris-setosa\n",
      "4         Iris-setosa\n",
      "            ...      \n",
      "145    Iris-virginica\n",
      "146    Iris-virginica\n",
      "147    Iris-virginica\n",
      "148    Iris-virginica\n",
      "149    Iris-virginica\n",
      "Name: 4, Length: 150, dtype: object\n"
     ]
    }
   ],
   "source": [
    "x = df.iloc[:, :4]\n",
    "y = df[4]\n",
    "# sklearn에서 y는 문자여도 괜찮았으나 tensorflow에서는 x, y 전부 숫자여야함\n",
    "print(x)\n",
    "print(y)"
   ]
  },
  {
   "cell_type": "code",
   "execution_count": 4,
   "id": "6720d11d",
   "metadata": {},
   "outputs": [],
   "source": [
    "e = LabelEncoder()\n",
    "x_enc = x.values.astype('float')\n",
    "y_enc = e.fit_transform(y)"
   ]
  },
  {
   "cell_type": "code",
   "execution_count": 5,
   "id": "3258884b",
   "metadata": {},
   "outputs": [],
   "source": [
    "y_ohe = tf.keras.utils.to_categorical(y_enc)"
   ]
  },
  {
   "cell_type": "code",
   "execution_count": 6,
   "id": "d588943d",
   "metadata": {},
   "outputs": [],
   "source": [
    "model = Sequential()\n",
    "model.add(Dense(16, input_dim=4, activation='relu'))\n",
    "model.add(Dense(3, activation='softmax'))\n",
    "# 아웃레이어 3개의 노드에서 setosa, versicolor, virginica"
   ]
  },
  {
   "cell_type": "code",
   "execution_count": 7,
   "id": "58c8e542",
   "metadata": {},
   "outputs": [],
   "source": [
    "model.compile(loss='categorical_crossentropy', optimizer='adam', metrics=['accuracy'])"
   ]
  },
  {
   "cell_type": "code",
   "execution_count": 8,
   "id": "67161784",
   "metadata": {},
   "outputs": [
    {
     "name": "stdout",
     "output_type": "stream",
     "text": [
      "Epoch 1/50\n",
      "15/15 [==============================] - 0s 2ms/step - loss: 1.0843 - accuracy: 0.3333\n",
      "Epoch 2/50\n",
      "15/15 [==============================] - 0s 2ms/step - loss: 1.0292 - accuracy: 0.3400\n",
      "Epoch 3/50\n",
      "15/15 [==============================] - 0s 1ms/step - loss: 0.9901 - accuracy: 0.3467\n",
      "Epoch 4/50\n",
      "15/15 [==============================] - 0s 1ms/step - loss: 0.9553 - accuracy: 0.4267\n",
      "Epoch 5/50\n",
      "15/15 [==============================] - 0s 1ms/step - loss: 0.9226 - accuracy: 0.4600\n",
      "Epoch 6/50\n",
      "15/15 [==============================] - 0s 1ms/step - loss: 0.8987 - accuracy: 0.5667\n",
      "Epoch 7/50\n",
      "15/15 [==============================] - 0s 1ms/step - loss: 0.8723 - accuracy: 0.7133\n",
      "Epoch 8/50\n",
      "15/15 [==============================] - 0s 1ms/step - loss: 0.8498 - accuracy: 0.7600\n",
      "Epoch 9/50\n",
      "15/15 [==============================] - 0s 1ms/step - loss: 0.8295 - accuracy: 0.7533\n",
      "Epoch 10/50\n",
      "15/15 [==============================] - 0s 1ms/step - loss: 0.8044 - accuracy: 0.7600\n",
      "Epoch 11/50\n",
      "15/15 [==============================] - 0s 1ms/step - loss: 0.7822 - accuracy: 0.7867\n",
      "Epoch 12/50\n",
      "15/15 [==============================] - 0s 1ms/step - loss: 0.7633 - accuracy: 0.7667\n",
      "Epoch 13/50\n",
      "15/15 [==============================] - 0s 1ms/step - loss: 0.7384 - accuracy: 0.7867\n",
      "Epoch 14/50\n",
      "15/15 [==============================] - 0s 1ms/step - loss: 0.7174 - accuracy: 0.8000\n",
      "Epoch 15/50\n",
      "15/15 [==============================] - 0s 1ms/step - loss: 0.7019 - accuracy: 0.7400\n",
      "Epoch 16/50\n",
      "15/15 [==============================] - 0s 1ms/step - loss: 0.6780 - accuracy: 0.8000\n",
      "Epoch 17/50\n",
      "15/15 [==============================] - 0s 2ms/step - loss: 0.6595 - accuracy: 0.8133\n",
      "Epoch 18/50\n",
      "15/15 [==============================] - 0s 2ms/step - loss: 0.6411 - accuracy: 0.8133\n",
      "Epoch 19/50\n",
      "15/15 [==============================] - 0s 1ms/step - loss: 0.6221 - accuracy: 0.8333\n",
      "Epoch 20/50\n",
      "15/15 [==============================] - 0s 2ms/step - loss: 0.6061 - accuracy: 0.8200\n",
      "Epoch 21/50\n",
      "15/15 [==============================] - 0s 1ms/step - loss: 0.5898 - accuracy: 0.8333\n",
      "Epoch 22/50\n",
      "15/15 [==============================] - 0s 2ms/step - loss: 0.5747 - accuracy: 0.8400\n",
      "Epoch 23/50\n",
      "15/15 [==============================] - 0s 1ms/step - loss: 0.5610 - accuracy: 0.8533\n",
      "Epoch 24/50\n",
      "15/15 [==============================] - 0s 1ms/step - loss: 0.5472 - accuracy: 0.8467\n",
      "Epoch 25/50\n",
      "15/15 [==============================] - 0s 1ms/step - loss: 0.5378 - accuracy: 0.8533\n",
      "Epoch 26/50\n",
      "15/15 [==============================] - 0s 1ms/step - loss: 0.5243 - accuracy: 0.8533\n",
      "Epoch 27/50\n",
      "15/15 [==============================] - 0s 1ms/step - loss: 0.5127 - accuracy: 0.8533\n",
      "Epoch 28/50\n",
      "15/15 [==============================] - 0s 2ms/step - loss: 0.5037 - accuracy: 0.8533\n",
      "Epoch 29/50\n",
      "15/15 [==============================] - 0s 1ms/step - loss: 0.4923 - accuracy: 0.8533\n",
      "Epoch 30/50\n",
      "15/15 [==============================] - 0s 2ms/step - loss: 0.4836 - accuracy: 0.8667\n",
      "Epoch 31/50\n",
      "15/15 [==============================] - 0s 2ms/step - loss: 0.4749 - accuracy: 0.8733\n",
      "Epoch 32/50\n",
      "15/15 [==============================] - 0s 2ms/step - loss: 0.4662 - accuracy: 0.8667\n",
      "Epoch 33/50\n",
      "15/15 [==============================] - 0s 1ms/step - loss: 0.4588 - accuracy: 0.8733\n",
      "Epoch 34/50\n",
      "15/15 [==============================] - 0s 2ms/step - loss: 0.4513 - accuracy: 0.8733\n",
      "Epoch 35/50\n",
      "15/15 [==============================] - 0s 1ms/step - loss: 0.4447 - accuracy: 0.8867\n",
      "Epoch 36/50\n",
      "15/15 [==============================] - 0s 1ms/step - loss: 0.4375 - accuracy: 0.8933\n",
      "Epoch 37/50\n",
      "15/15 [==============================] - 0s 2ms/step - loss: 0.4299 - accuracy: 0.8933\n",
      "Epoch 38/50\n",
      "15/15 [==============================] - 0s 1ms/step - loss: 0.4240 - accuracy: 0.8933\n",
      "Epoch 39/50\n",
      "15/15 [==============================] - 0s 1ms/step - loss: 0.4190 - accuracy: 0.9067\n",
      "Epoch 40/50\n",
      "15/15 [==============================] - 0s 1ms/step - loss: 0.4126 - accuracy: 0.9000\n",
      "Epoch 41/50\n",
      "15/15 [==============================] - 0s 2ms/step - loss: 0.4085 - accuracy: 0.9133\n",
      "Epoch 42/50\n",
      "15/15 [==============================] - 0s 2ms/step - loss: 0.4014 - accuracy: 0.9133\n",
      "Epoch 43/50\n",
      "15/15 [==============================] - 0s 1ms/step - loss: 0.3973 - accuracy: 0.9067\n",
      "Epoch 44/50\n",
      "15/15 [==============================] - 0s 1ms/step - loss: 0.3915 - accuracy: 0.9200\n",
      "Epoch 45/50\n",
      "15/15 [==============================] - 0s 1ms/step - loss: 0.3855 - accuracy: 0.9133\n",
      "Epoch 46/50\n",
      "15/15 [==============================] - 0s 2ms/step - loss: 0.3819 - accuracy: 0.9333\n",
      "Epoch 47/50\n",
      "15/15 [==============================] - 0s 1ms/step - loss: 0.3778 - accuracy: 0.9133\n",
      "Epoch 48/50\n",
      "15/15 [==============================] - 0s 2ms/step - loss: 0.3727 - accuracy: 0.9333\n",
      "Epoch 49/50\n",
      "15/15 [==============================] - 0s 1ms/step - loss: 0.3675 - accuracy: 0.9267\n",
      "Epoch 50/50\n",
      "15/15 [==============================] - 0s 2ms/step - loss: 0.3628 - accuracy: 0.9400\n"
     ]
    },
    {
     "data": {
      "text/plain": [
       "<keras.callbacks.History at 0x2d2a72007c0>"
      ]
     },
     "execution_count": 8,
     "metadata": {},
     "output_type": "execute_result"
    }
   ],
   "source": [
    "model.fit(x_enc, y_ohe, epochs=50, batch_size=10)"
   ]
  }
 ],
 "metadata": {
  "kernelspec": {
   "display_name": "Python 3 (ipykernel)",
   "language": "python",
   "name": "python3"
  },
  "language_info": {
   "codemirror_mode": {
    "name": "ipython",
    "version": 3
   },
   "file_extension": ".py",
   "mimetype": "text/x-python",
   "name": "python",
   "nbconvert_exporter": "python",
   "pygments_lexer": "ipython3",
   "version": "3.9.13"
  }
 },
 "nbformat": 4,
 "nbformat_minor": 5
}
