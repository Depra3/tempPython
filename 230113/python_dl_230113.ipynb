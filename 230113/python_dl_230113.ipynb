{
  "nbformat": 4,
  "nbformat_minor": 0,
  "metadata": {
    "colab": {
      "provenance": []
    },
    "kernelspec": {
      "name": "python3",
      "display_name": "Python 3"
    },
    "language_info": {
      "name": "python"
    },
    "accelerator": "GPU",
    "gpuClass": "standard"
  },
  "cells": [
    {
      "cell_type": "markdown",
      "source": [
        "## 딥러닝\n",
        "- 18일 평가과제 : 텍스트 데이터 분석\n",
        "- 이미지\n",
        "- 자연어 처리\n",
        "- 영상인식\n",
        "- 추천 알고리즘\n",
        "- 음성인식\n",
        "- etc"
      ],
      "metadata": {
        "id": "pI_ve6S8d3fP"
      }
    },
    {
      "cell_type": "markdown",
      "source": [
        "## 딥러닝 공부\n",
        "- 교재는 가급적 구매 X\n",
        "  + 구매한다면 \"핸즈온 머신러닝\" 2판은 너무 늦었으니 3판이 나온다면 구매\n",
        "- 홈페이지 이용 : https://www.tensorflow.org/tutorials?hl=ko\n"
      ],
      "metadata": {
        "id": "wBSQM3ghq56v"
      }
    },
    {
      "cell_type": "code",
      "execution_count": 1,
      "metadata": {
        "colab": {
          "base_uri": "https://localhost:8080/"
        },
        "id": "QrUMmd2Gcssr",
        "outputId": "0c83de2c-c9e7-42dc-ffed-c32e3f498501"
      },
      "outputs": [
        {
          "output_type": "stream",
          "name": "stdout",
          "text": [
            "Downloading data from https://storage.googleapis.com/tensorflow/tf-keras-datasets/train-labels-idx1-ubyte.gz\n",
            "29515/29515 [==============================] - 0s 0us/step\n",
            "Downloading data from https://storage.googleapis.com/tensorflow/tf-keras-datasets/train-images-idx3-ubyte.gz\n",
            "26421880/26421880 [==============================] - 2s 0us/step\n",
            "Downloading data from https://storage.googleapis.com/tensorflow/tf-keras-datasets/t10k-labels-idx1-ubyte.gz\n",
            "5148/5148 [==============================] - 0s 0us/step\n",
            "Downloading data from https://storage.googleapis.com/tensorflow/tf-keras-datasets/t10k-images-idx3-ubyte.gz\n",
            "4422102/4422102 [==============================] - 0s 0us/step\n"
          ]
        }
      ],
      "source": [
        "# 데이터 수집\n",
        "# 패션 MNIST\n",
        "from tensorflow import keras\n",
        "\n",
        "(train_input, train_target), (test_input, test_target) = keras.datasets.fashion_mnist.load_data()"
      ]
    },
    {
      "cell_type": "code",
      "source": [
        "print(train_input.shape, train_target.shape)\n",
        "# 이미지 갯수, 행/렬 사이즈"
      ],
      "metadata": {
        "colab": {
          "base_uri": "https://localhost:8080/"
        },
        "id": "GB-IOWl3s-iH",
        "outputId": "18994608-c508-403a-c262-6372f7319db4"
      },
      "execution_count": 2,
      "outputs": [
        {
          "output_type": "stream",
          "name": "stdout",
          "text": [
            "(60000, 28, 28) (60000,)\n"
          ]
        }
      ]
    },
    {
      "cell_type": "code",
      "source": [
        "print(test_input.shape, test_target.shape)"
      ],
      "metadata": {
        "colab": {
          "base_uri": "https://localhost:8080/"
        },
        "id": "ZupymoOPtUBZ",
        "outputId": "f06bce58-1313-4236-887d-7f0ab3bf7957"
      },
      "execution_count": 3,
      "outputs": [
        {
          "output_type": "stream",
          "name": "stdout",
          "text": [
            "(10000, 28, 28) (10000,)\n"
          ]
        }
      ]
    },
    {
      "cell_type": "markdown",
      "source": [
        "### 이미지 출력"
      ],
      "metadata": {
        "id": "EPMxZBQxtikZ"
      }
    },
    {
      "cell_type": "code",
      "source": [
        "import matplotlib.pyplot as plt\n",
        "fig, ax = plt.subplots(1, 10, figsize=(10,10))\n",
        "\n",
        "for i in range(10):\n",
        "  ax[i].imshow(train_input[i], cmap = 'gray_r')\n",
        "  ax[i].axis('off')\n",
        "plt.show()"
      ],
      "metadata": {
        "colab": {
          "base_uri": "https://localhost:8080/",
          "height": 78
        },
        "id": "BtBjZDfPtj7W",
        "outputId": "62497377-4c7d-4baa-b438-f53a934e2613"
      },
      "execution_count": 4,
      "outputs": [
        {
          "output_type": "display_data",
          "data": {
            "text/plain": [
              "<Figure size 720x720 with 10 Axes>"
            ],
            "image/png": "[encoded data removed]"
          },
          "metadata": {
            "needs_background": "light"
          }
        }
      ]
    },
    {
      "cell_type": "code",
      "source": [
        "print([train_target[i] for i in range(10)])"
      ],
      "metadata": {
        "colab": {
          "base_uri": "https://localhost:8080/"
        },
        "id": "OClvhDgNuLk3",
        "outputId": "4a4aaef7-25b3-4e89-b360-d319808b2a63"
      },
      "execution_count": 5,
      "outputs": [
        {
          "output_type": "stream",
          "name": "stdout",
          "text": [
            "[9, 0, 0, 3, 0, 2, 7, 2, 5, 5]\n"
          ]
        }
      ]
    },
    {
      "cell_type": "markdown",
      "source": [
        "- 주어진 데이터의 라벨 (종속변수)에 따른 각 이미지의 갯수를 확인"
      ],
      "metadata": {
        "id": "mwW5bgf7ujsY"
      }
    },
    {
      "cell_type": "code",
      "source": [
        "import numpy as np\n",
        "print(np.unique(train_target, return_counts = True))\n",
        "# 각 라벨당 6천개 / 실제로는 균일하지 않음"
      ],
      "metadata": {
        "colab": {
          "base_uri": "https://localhost:8080/"
        },
        "id": "gCdeorTGurj5",
        "outputId": "834d5e71-631b-465e-81c8-d5b51862aa8f"
      },
      "execution_count": 6,
      "outputs": [
        {
          "output_type": "stream",
          "name": "stdout",
          "text": [
            "(array([0, 1, 2, 3, 4, 5, 6, 7, 8, 9], dtype=uint8), array([6000, 6000, 6000, 6000, 6000, 6000, 6000, 6000, 6000, 6000]))\n"
          ]
        }
      ]
    },
    {
      "cell_type": "markdown",
      "source": [
        "## 머신러닝에 대한 오해\n",
        "- 전통적인 머신러닝 알고리즘은 이미지 / 자연어 / 추천 동작하지 않는다?\n",
        "  + 정확도 및 속도가 느려서 잘 사용하지 않음\n",
        "- 딥러닝 만능설, 딥러닝 알고리즘은 모든 데이터에서 다 월등한 우위를 점한다?\n",
        "  + 최신 알고리즘이 옛날에 나왔던 알고리즘보다 모든 방면에서 앞서지 않는다.\n",
        "- 관점 : 머신러닝 / 딥러닝 알고리즘(도구)를 사용해서 다양하게 실험을 해본다."
      ],
      "metadata": {
        "id": "76WVNe4FvB2v"
      }
    },
    {
      "cell_type": "markdown",
      "source": [
        "## 이미지 데이터 살짝 가공\n",
        "- 스케일링 한다."
      ],
      "metadata": {
        "id": "529JuJFSwL2_"
      }
    },
    {
      "cell_type": "code",
      "source": [
        "train_scaled = train_input / 255.0 \n",
        "# 픽셀사이즈 맞춰주기\n",
        "# RGB 255\n",
        "train_scaled = train_scaled.reshape(-1, 28 * 28)\n",
        "# 2차원을 1차원으로 변환\n",
        "train_scaled.shape"
      ],
      "metadata": {
        "colab": {
          "base_uri": "https://localhost:8080/"
        },
        "id": "IAshT2LRwS2S",
        "outputId": "b28a96f2-5716-4a32-a203-26898abcc892"
      },
      "execution_count": 7,
      "outputs": [
        {
          "output_type": "execute_result",
          "data": {
            "text/plain": [
              "(60000, 784)"
            ]
          },
          "metadata": {},
          "execution_count": 7
        }
      ]
    },
    {
      "cell_type": "code",
      "source": [
        "# 전통적인 알고리즘도 가능하다는걸 보여줌\n",
        "from sklearn.model_selection import cross_validate\n",
        "from sklearn.linear_model import SGDClassifier\n",
        "sc = SGDClassifier(loss = 'log', max_iter = 5, random_state = 42)\n",
        "scores = cross_validate(sc, train_scaled, train_target, n_jobs = -1)\n",
        "print(np.mean(scores['test_score']))"
      ],
      "metadata": {
        "colab": {
          "base_uri": "https://localhost:8080/"
        },
        "id": "foH7kcfXwyuH",
        "outputId": "c58b7887-7a53-4c6a-ff7a-e7d45074450f"
      },
      "execution_count": 8,
      "outputs": [
        {
          "output_type": "stream",
          "name": "stdout",
          "text": [
            "0.8195666666666668\n"
          ]
        }
      ]
    },
    {
      "cell_type": "markdown",
      "source": [
        "## 텐서플로 프레임워크 모델만들기"
      ],
      "metadata": {
        "id": "D8E3uXmbxwzc"
      }
    },
    {
      "cell_type": "code",
      "source": [
        "# 훈련데이터와 검증데이터로 분리\n",
        "from sklearn.model_selection import train_test_split\n",
        "train_scaled, val_scaled, train_target, val_target = train_test_split(train_scaled, train_target, test_size = 0.2, random_state = 42)"
      ],
      "metadata": {
        "id": "zAMk7JmDxy2g"
      },
      "execution_count": 9,
      "outputs": []
    },
    {
      "cell_type": "code",
      "source": [
        "dense = keras.layers.Dense(10, activation='softmax', input_shape = (784, ))\n",
        "# output layer : 10, 동작 방식(활성화함수)-마지막에 사용, input layer : 784\n",
        "model = keras.Sequential(dense)\n",
        "model.compile(loss = 'sparse_categorical_crossentropy', metrics = 'accuracy')\n",
        "# loss : 의미없는 데이터들을 연산에서 제외하여 속도를 보다 빠르게 함.\n",
        "# sparse : 희소행렬(0값이 많이 들어있는 행렬?)\n",
        "model.fit(train_scaled, train_target, epochs = 5)"
      ],
      "metadata": {
        "colab": {
          "base_uri": "https://localhost:8080/"
        },
        "id": "cyQ6Qm_9ydKQ",
        "outputId": "f0988355-1e9e-4024-cea0-7a6a15aee618"
      },
      "execution_count": 10,
      "outputs": [
        {
          "output_type": "stream",
          "name": "stdout",
          "text": [
            "Epoch 1/5\n",
            "1500/1500 [==============================] - 6s 2ms/step - loss: 0.6118 - accuracy: 0.7925\n",
            "Epoch 2/5\n",
            "1500/1500 [==============================] - 3s 2ms/step - loss: 0.4802 - accuracy: 0.8393\n",
            "Epoch 3/5\n",
            "1500/1500 [==============================] - 3s 2ms/step - loss: 0.4564 - accuracy: 0.8486\n",
            "Epoch 4/5\n",
            "1500/1500 [==============================] - 3s 2ms/step - loss: 0.4453 - accuracy: 0.8511\n",
            "Epoch 5/5\n",
            "1500/1500 [==============================] - 3s 2ms/step - loss: 0.4388 - accuracy: 0.8544\n"
          ]
        },
        {
          "output_type": "execute_result",
          "data": {
            "text/plain": [
              "<keras.callbacks.History at 0x7fcdc040e6d0>"
            ]
          },
          "metadata": {},
          "execution_count": 10
        }
      ]
    },
    {
      "cell_type": "code",
      "source": [
        "model.evaluate(val_scaled, val_target)\n",
        "# 정확도\n",
        "# 인공신경망 초기모델 구현(1949)"
      ],
      "metadata": {
        "colab": {
          "base_uri": "https://localhost:8080/"
        },
        "id": "uT-KO7vCzMJQ",
        "outputId": "28cc2b51-adf2-4cae-f823-9295fa3b532d"
      },
      "execution_count": 11,
      "outputs": [
        {
          "output_type": "stream",
          "name": "stdout",
          "text": [
            "375/375 [==============================] - 1s 2ms/step - loss: 0.4457 - accuracy: 0.8503\n"
          ]
        },
        {
          "output_type": "execute_result",
          "data": {
            "text/plain": [
              "[0.44571202993392944, 0.8503333330154419]"
            ]
          },
          "metadata": {},
          "execution_count": 11
        }
      ]
    },
    {
      "cell_type": "markdown",
      "source": [
        "- 캐글 노트북, 구글 코랩 GPU 연산\n",
        "  + 런타임 - 런타임 유형변경 - GPU 설정"
      ],
      "metadata": {
        "id": "izHgIOwJ3tix"
      }
    },
    {
      "cell_type": "code",
      "source": [
        "from tensorflow import keras\n",
        "\n",
        "(train_input, train_target), (test_input, test_target) = keras.datasets.fashion_mnist.load_data()\n",
        "train_scaled = train_input / 255.0 \n",
        "train_scaled = train_scaled.reshape(-1, 28 * 28)\n",
        "train_scaled.shape\n",
        "from sklearn.model_selection import train_test_split\n",
        "train_scaled, val_scaled, train_target, val_target = train_test_split(train_scaled, train_target, test_size = 0.2, random_state = 42)"
      ],
      "metadata": {
        "id": "S02UTlCfe2Ff"
      },
      "execution_count": 5,
      "outputs": []
    },
    {
      "cell_type": "code",
      "source": [
        "train_scaled.shape, val_scaled.shape, train_target.shape, val_target.shape"
      ],
      "metadata": {
        "colab": {
          "base_uri": "https://localhost:8080/"
        },
        "id": "12votWUFfNe0",
        "outputId": "3389ca0a-0d59-41c7-cd3e-64dd0aa63728"
      },
      "execution_count": 14,
      "outputs": [
        {
          "output_type": "execute_result",
          "data": {
            "text/plain": [
              "((48000, 784), (12000, 784), (48000,), (12000,))"
            ]
          },
          "metadata": {},
          "execution_count": 14
        }
      ]
    },
    {
      "cell_type": "markdown",
      "source": [
        "## 딥러닝 모형 만들기\n",
        "- 층(layer)를 구성한다."
      ],
      "metadata": {
        "id": "E6gscMkBfZEz"
      }
    },
    {
      "cell_type": "code",
      "source": [
        "dense1 = keras.layers.Dense(100, activation='sigmoid', input_shape=(784,))\n",
        "dense2 = keras.layers.Dense(10, activation='softmax')\n",
        "\n",
        "# 심층신경망\n",
        "model = keras.Sequential([dense1, dense2])\n",
        "model.summary()"
      ],
      "metadata": {
        "colab": {
          "base_uri": "https://localhost:8080/"
        },
        "id": "pqqVBZCjfroE",
        "outputId": "f96d17c7-d89c-4717-c70d-3bc9fa6e12c8"
      },
      "execution_count": 18,
      "outputs": [
        {
          "output_type": "stream",
          "name": "stdout",
          "text": [
            "Model: \"sequential_2\"\n",
            "_________________________________________________________________\n",
            " Layer (type)                Output Shape              Param #   \n",
            "=================================================================\n",
            " dense_3 (Dense)             (None, 100)               78500     \n",
            "                                                                 \n",
            " dense_4 (Dense)             (None, 10)                1010      \n",
            "                                                                 \n",
            "=================================================================\n",
            "Total params: 79,510\n",
            "Trainable params: 79,510\n",
            "Non-trainable params: 0\n",
            "_________________________________________________________________\n"
          ]
        }
      ]
    },
    {
      "cell_type": "markdown",
      "source": [
        "- 다른 방법\n",
        "  + layer 네이밍"
      ],
      "metadata": {
        "id": "ysnqb0jDhMf3"
      }
    },
    {
      "cell_type": "code",
      "source": [
        "model = keras.Sequential([\n",
        "    keras.layers.Dense(100, activation='sigmoid', input_shape=(784,), name = 'hidden'),\n",
        "    keras.layers.Dense(10, activation='softmax', name = 'output')\n",
        "], name = 'Fashion_MNIST_Model') # 띄워쓰기시 오류 발생\n",
        "model.summary()"
      ],
      "metadata": {
        "colab": {
          "base_uri": "https://localhost:8080/"
        },
        "id": "nGWloMo2hROj",
        "outputId": "dfbade1d-f3a2-4147-db5b-4ca531d71aea"
      },
      "execution_count": 21,
      "outputs": [
        {
          "output_type": "stream",
          "name": "stdout",
          "text": [
            "Model: \"Fashion_MNIST_Model\"\n",
            "_________________________________________________________________\n",
            " Layer (type)                Output Shape              Param #   \n",
            "=================================================================\n",
            " hidden (Dense)              (None, 100)               78500     \n",
            "                                                                 \n",
            " output (Dense)              (None, 10)                1010      \n",
            "                                                                 \n",
            "=================================================================\n",
            "Total params: 79,510\n",
            "Trainable params: 79,510\n",
            "Non-trainable params: 0\n",
            "_________________________________________________________________\n"
          ]
        }
      ]
    },
    {
      "cell_type": "markdown",
      "source": [
        "- 모델 컴파일"
      ],
      "metadata": {
        "id": "k71PpYDbhOOc"
      }
    },
    {
      "cell_type": "code",
      "source": [
        "model.compile(loss = 'sparse_categorical_crossentropy', metrics = 'accuracy')\n",
        "model.fit(train_scaled, train_target, epochs = 5)"
      ],
      "metadata": {
        "colab": {
          "base_uri": "https://localhost:8080/"
        },
        "id": "5lM8dS9AhzP1",
        "outputId": "6502ee8c-c1ef-40cc-b261-acbb77dd3db9"
      },
      "execution_count": 22,
      "outputs": [
        {
          "output_type": "stream",
          "name": "stdout",
          "text": [
            "Epoch 1/5\n",
            "1500/1500 [==============================] - 4s 2ms/step - loss: 0.5631 - accuracy: 0.8086\n",
            "Epoch 2/5\n",
            "1500/1500 [==============================] - 4s 2ms/step - loss: 0.4073 - accuracy: 0.8521\n",
            "Epoch 3/5\n",
            "1500/1500 [==============================] - 4s 2ms/step - loss: 0.3752 - accuracy: 0.8635\n",
            "Epoch 4/5\n",
            "1500/1500 [==============================] - 4s 3ms/step - loss: 0.3518 - accuracy: 0.8734\n",
            "Epoch 5/5\n",
            "1500/1500 [==============================] - 4s 2ms/step - loss: 0.3343 - accuracy: 0.8782\n"
          ]
        },
        {
          "output_type": "execute_result",
          "data": {
            "text/plain": [
              "<keras.callbacks.History at 0x7fcd4c2037f0>"
            ]
          },
          "metadata": {},
          "execution_count": 22
        }
      ]
    },
    {
      "cell_type": "markdown",
      "source": [
        "- 1949년도 모델을 1970년대 모델로 업그레이드\n",
        "  + 히든 레이어 추가\n",
        "  + 효과 : 정확도 향상"
      ],
      "metadata": {
        "id": "ZAjOhaiHiiT0"
      }
    },
    {
      "cell_type": "markdown",
      "source": [
        "## 시그모이드(sigmoid) 함수 : 활성화 함수(왜곡되지 않게 데이터를 보존하기 위해 사용)\n",
        "- 시그모이드 (로지스틱 회귀분석와 유사 / S자 곡선)\n",
        "- 가장 대표적으로, 일반적으로 자주사용하는 활성화 함수 : ReLu 함수\n",
        "  + Relu(음수는 0, 양수는 그대로 사용)\n",
        "- 어느 함수가 좋다 우열가리기 보다는 여러가지 함수를 사용하여 실험한다는 느낌"
      ],
      "metadata": {
        "id": "RhVp-y9Bi9nV"
      }
    },
    {
      "cell_type": "code",
      "source": [
        "model = keras.Sequential([\n",
        "    keras.layers.Dense(100, activation='relu', input_shape=(784,), name = 'hidden'),\n",
        "    keras.layers.Dense(10, activation='softmax', name = 'output')\n",
        "], name = 'Fashion_MNIST_Model') # 띄워쓰기시 오류 발생\n",
        "model.summary()\n",
        "model.compile(loss = 'sparse_categorical_crossentropy', metrics = 'accuracy')\n",
        "model.fit(train_scaled, train_target, epochs = 5)"
      ],
      "metadata": {
        "colab": {
          "base_uri": "https://localhost:8080/"
        },
        "id": "TOajKh6smczc",
        "outputId": "1fa6cd9d-63b5-4cae-9ae7-d2d7b9fe1937"
      },
      "execution_count": 31,
      "outputs": [
        {
          "output_type": "stream",
          "name": "stdout",
          "text": [
            "Model: \"Fashion_MNIST_Model\"\n",
            "_________________________________________________________________\n",
            " Layer (type)                Output Shape              Param #   \n",
            "=================================================================\n",
            " hidden (Dense)              (None, 100)               78500     \n",
            "                                                                 \n",
            " output (Dense)              (None, 10)                1010      \n",
            "                                                                 \n",
            "=================================================================\n",
            "Total params: 79,510\n",
            "Trainable params: 79,510\n",
            "Non-trainable params: 0\n",
            "_________________________________________________________________\n",
            "Epoch 1/5\n",
            "1500/1500 [==============================] - 4s 2ms/step - loss: 0.5370 - accuracy: 0.8124\n",
            "Epoch 2/5\n",
            "1500/1500 [==============================] - 5s 3ms/step - loss: 0.3948 - accuracy: 0.8577\n",
            "Epoch 3/5\n",
            "1500/1500 [==============================] - 5s 3ms/step - loss: 0.3574 - accuracy: 0.8719\n",
            "Epoch 4/5\n",
            "1500/1500 [==============================] - 5s 3ms/step - loss: 0.3359 - accuracy: 0.8802\n",
            "Epoch 5/5\n",
            "1500/1500 [==============================] - 3s 2ms/step - loss: 0.3194 - accuracy: 0.8869\n"
          ]
        },
        {
          "output_type": "execute_result",
          "data": {
            "text/plain": [
              "<keras.callbacks.History at 0x7fcd3a488640>"
            ]
          },
          "metadata": {},
          "execution_count": 31
        }
      ]
    },
    {
      "cell_type": "code",
      "source": [
        "model.evaluate(val_scaled, val_target)"
      ],
      "metadata": {
        "colab": {
          "base_uri": "https://localhost:8080/"
        },
        "id": "teB5SLoMmy7T",
        "outputId": "93216477-a8d2-4394-bd48-483a9955095f"
      },
      "execution_count": 33,
      "outputs": [
        {
          "output_type": "stream",
          "name": "stdout",
          "text": [
            "375/375 [==============================] - 1s 2ms/step - loss: 0.3587 - accuracy: 0.8802\n"
          ]
        },
        {
          "output_type": "execute_result",
          "data": {
            "text/plain": [
              "[0.35873866081237793, 0.8802499771118164]"
            ]
          },
          "metadata": {},
          "execution_count": 33
        }
      ]
    },
    {
      "cell_type": "markdown",
      "source": [
        "## 딥러닝 모형 과적합 확인"
      ],
      "metadata": {
        "id": "O5nQS8_EsHGE"
      }
    },
    {
      "cell_type": "code",
      "source": [
        "from tensorflow import keras\n",
        "\n",
        "(train_input, train_target), (test_input, test_target) = keras.datasets.fashion_mnist.load_data()\n",
        "train_scaled = train_input / 255.0 \n",
        "# train_scaled = train_scaled.reshape(-1, 28 * 28)\n",
        "train_scaled.shape\n",
        "from sklearn.model_selection import train_test_split\n",
        "train_scaled, val_scaled, train_target, val_target = train_test_split(train_scaled, train_target, test_size = 0.2, random_state = 42)"
      ],
      "metadata": {
        "id": "pWxE4eOosLLD"
      },
      "execution_count": 7,
      "outputs": []
    },
    {
      "cell_type": "markdown",
      "source": [
        "- 모델 만들기"
      ],
      "metadata": {
        "id": "dttUgQMFstRo"
      }
    },
    {
      "cell_type": "code",
      "source": [
        "def model_fn(a_layer=None):\n",
        "  model = keras.Sequential()\n",
        "  model.add(keras.layers.Flatten(input_shape=(28,28)))\n",
        "  model.add(keras.layers.Dense(100, activation='relu'))\n",
        "  if a_layer:\n",
        "    model.add(a_layer)\n",
        "\n",
        "  model.add(keras.layers.Dense(10, activation='softmax'))\n",
        "  return model  "
      ],
      "metadata": {
        "id": "V7eVjlJQsuGU"
      },
      "execution_count": 8,
      "outputs": []
    },
    {
      "cell_type": "code",
      "source": [
        "model = model_fn()\n",
        "model.summary()"
      ],
      "metadata": {
        "colab": {
          "base_uri": "https://localhost:8080/"
        },
        "id": "DLucGL1JtYSn",
        "outputId": "403dd5e1-7cb1-4d4e-bcf9-db47c7b57e17"
      },
      "execution_count": 9,
      "outputs": [
        {
          "output_type": "stream",
          "name": "stdout",
          "text": [
            "Model: \"sequential_1\"\n",
            "_________________________________________________________________\n",
            " Layer (type)                Output Shape              Param #   \n",
            "=================================================================\n",
            " flatten_1 (Flatten)         (None, 784)               0         \n",
            "                                                                 \n",
            " dense_2 (Dense)             (None, 100)               78500     \n",
            "                                                                 \n",
            " dense_3 (Dense)             (None, 10)                1010      \n",
            "                                                                 \n",
            "=================================================================\n",
            "Total params: 79,510\n",
            "Trainable params: 79,510\n",
            "Non-trainable params: 0\n",
            "_________________________________________________________________\n"
          ]
        }
      ]
    },
    {
      "cell_type": "code",
      "source": [
        "model.compile(loss = 'sparse_categorical_crossentropy', metrics = 'accuracy')\n",
        "# history = model.fit(train_scaled, train_target, epochs = 5)\n",
        "history = model.fit(train_scaled, train_target, epochs = 5, verbose=0)\n",
        "# verbose : 러닝 로그 on/off"
      ],
      "metadata": {
        "id": "17id1AHet8Wl"
      },
      "execution_count": 10,
      "outputs": []
    },
    {
      "cell_type": "code",
      "source": [
        "print(history.history.keys())\n",
        "print(history.history)"
      ],
      "metadata": {
        "colab": {
          "base_uri": "https://localhost:8080/"
        },
        "id": "RBFbi9ecuPJ8",
        "outputId": "3a5f5160-69dc-4bce-8c02-b9fd3c09aca5"
      },
      "execution_count": 46,
      "outputs": [
        {
          "output_type": "stream",
          "name": "stdout",
          "text": [
            "dict_keys(['loss', 'accuracy'])\n",
            "{'loss': [0.5292154550552368, 0.3909091651439667, 0.3553372919559479, 0.3350982666015625, 0.3206453323364258], 'accuracy': [0.8122291564941406, 0.8577291369438171, 0.871666669845581, 0.879687488079071, 0.8863124847412109]}\n"
          ]
        }
      ]
    },
    {
      "cell_type": "code",
      "source": [
        "import matplotlib.pyplot as plt\n",
        "\n",
        "fig, ax = plt.subplots()\n",
        "ax.plot(history.history['loss'])\n",
        "ax.set_xlabel('epoch')\n",
        "ax.set_ylabel('loss')\n",
        "plt.show()"
      ],
      "metadata": {
        "colab": {
          "base_uri": "https://localhost:8080/",
          "height": 279
        },
        "id": "plVm2VQ4uku0",
        "outputId": "7da5a17e-0c82-4356-fc38-0776dff3a9b6"
      },
      "execution_count": 57,
      "outputs": [
        {
          "output_type": "display_data",
          "data": {
            "text/plain": [
              "<Figure size 432x288 with 1 Axes>"
            ],
            "image/png": "[encoded data removed]"
          },
          "metadata": {
            "needs_background": "light"
          }
        }
      ]
    },
    {
      "cell_type": "code",
      "source": [
        "import matplotlib.pyplot as plt\n",
        "\n",
        "fig, ax = plt.subplots()\n",
        "ax.plot(history.history['accuracy'])\n",
        "ax.set_xlabel('epoch')\n",
        "ax.set_ylabel('accuracy')\n",
        "plt.show()"
      ],
      "metadata": {
        "colab": {
          "base_uri": "https://localhost:8080/",
          "height": 279
        },
        "id": "wFTC8zXkvR9_",
        "outputId": "2d51fcfc-c5a9-47ef-fe94-65cf761e2914"
      },
      "execution_count": 56,
      "outputs": [
        {
          "output_type": "display_data",
          "data": {
            "text/plain": [
              "<Figure size 432x288 with 1 Axes>"
            ],
            "image/png": "[encoded data removed]"
          },
          "metadata": {
            "needs_background": "light"
          }
        }
      ]
    },
    {
      "cell_type": "markdown",
      "source": [
        "- 검증데이터"
      ],
      "metadata": {
        "id": "L3y36kIBvak0"
      }
    },
    {
      "cell_type": "code",
      "source": [
        "history = model.fit(train_scaled, train_target, epochs = 30, verbose=1,validation_data = (val_scaled, val_target))"
      ],
      "metadata": {
        "id": "ALRj-DYLvpFs"
      },
      "execution_count": null,
      "outputs": []
    },
    {
      "cell_type": "code",
      "source": [
        "fig, ax = plt.subplots()\n",
        "ax.plot(history.history['loss'])\n",
        "ax.plot(history.history['val_loss'])\n",
        "ax.set_xlabel('epoch')\n",
        "ax.set_ylabel('loss')\n",
        "ax.legend(['train', 'val'])\n",
        "plt.show()"
      ],
      "metadata": {
        "colab": {
          "base_uri": "https://localhost:8080/",
          "height": 279
        },
        "id": "aT3zanejv_t2",
        "outputId": "10eb8888-5e00-4a44-e669-0c636c7ecf2a"
      },
      "execution_count": 55,
      "outputs": [
        {
          "output_type": "display_data",
          "data": {
            "text/plain": [
              "<Figure size 432x288 with 1 Axes>"
            ],
            "image/png": "[encoded data removed]"
          },
          "metadata": {
            "needs_background": "light"
          }
        }
      ]
    },
    {
      "cell_type": "markdown",
      "source": [
        "- train과 val이 유사한 곡선을 그리면 잘 만든 모델\n",
        "- train과 val의 차이가 벌어지면 과적합(=과대적합, Overfitting)"
      ],
      "metadata": {
        "id": "qz6VltjLxNSN"
      }
    },
    {
      "cell_type": "markdown",
      "source": [
        "## 옵티마이저\n",
        "- 모형 가속기\n",
        "- 일반적인 모델에서 최적 아닌 최적를 찾을 시 빠져나감\n",
        "- 일정 지점들을 만들어서 최적를 찾는 방식\n",
        "- 잘 모를시 adam 사용"
      ],
      "metadata": {
        "id": "yCoa7h3ZyOZ1"
      }
    },
    {
      "cell_type": "code",
      "source": [
        "model.compile(optimizer = 'adam', loss = 'sparse_categorical_crossentropy', metrics = 'accuracy')\n",
        "\n",
        "history = model.fit(train_scaled, train_target, epochs = 20, verbose=1,validation_data = (val_scaled, val_target))\n",
        "\n",
        "fig, ax = plt.subplots()\n",
        "ax.plot(history.history['loss'])\n",
        "ax.plot(history.history['val_loss'])\n",
        "ax.set_xlabel('epoch')\n",
        "ax.set_ylabel('loss')\n",
        "ax.legend(['train', 'val'])\n",
        "plt.show()"
      ],
      "metadata": {
        "colab": {
          "base_uri": "https://localhost:8080/",
          "height": 1000
        },
        "id": "x3wcVqq8ySvl",
        "outputId": "96687a5e-6d0e-4539-fa99-32584b9d2f74"
      },
      "execution_count": 11,
      "outputs": [
        {
          "output_type": "stream",
          "name": "stdout",
          "text": [
            "Epoch 1/20\n",
            "1500/1500 [==============================] - 4s 3ms/step - loss: 0.3029 - accuracy: 0.8896 - val_loss: 0.3511 - val_accuracy: 0.8779\n",
            "Epoch 2/20\n",
            "1500/1500 [==============================] - 4s 3ms/step - loss: 0.2837 - accuracy: 0.8966 - val_loss: 0.3698 - val_accuracy: 0.8670\n",
            "Epoch 3/20\n",
            "1500/1500 [==============================] - 4s 3ms/step - loss: 0.2720 - accuracy: 0.8986 - val_loss: 0.3406 - val_accuracy: 0.8843\n",
            "Epoch 4/20\n",
            "1500/1500 [==============================] - 4s 3ms/step - loss: 0.2585 - accuracy: 0.9053 - val_loss: 0.3330 - val_accuracy: 0.8832\n",
            "Epoch 5/20\n",
            "1500/1500 [==============================] - 4s 3ms/step - loss: 0.2506 - accuracy: 0.9063 - val_loss: 0.3266 - val_accuracy: 0.8832\n",
            "Epoch 6/20\n",
            "1500/1500 [==============================] - 4s 3ms/step - loss: 0.2415 - accuracy: 0.9100 - val_loss: 0.3439 - val_accuracy: 0.8812\n",
            "Epoch 7/20\n",
            "1500/1500 [==============================] - 4s 3ms/step - loss: 0.2312 - accuracy: 0.9141 - val_loss: 0.3332 - val_accuracy: 0.8871\n",
            "Epoch 8/20\n",
            "1500/1500 [==============================] - 4s 3ms/step - loss: 0.2262 - accuracy: 0.9142 - val_loss: 0.3520 - val_accuracy: 0.8795\n",
            "Epoch 9/20\n",
            "1500/1500 [==============================] - 4s 3ms/step - loss: 0.2195 - accuracy: 0.9181 - val_loss: 0.3410 - val_accuracy: 0.8848\n",
            "Epoch 10/20\n",
            "1500/1500 [==============================] - 4s 3ms/step - loss: 0.2143 - accuracy: 0.9192 - val_loss: 0.3668 - val_accuracy: 0.8785\n",
            "Epoch 11/20\n",
            "1500/1500 [==============================] - 4s 3ms/step - loss: 0.2072 - accuracy: 0.9227 - val_loss: 0.3369 - val_accuracy: 0.8885\n",
            "Epoch 12/20\n",
            "1500/1500 [==============================] - 4s 3ms/step - loss: 0.2020 - accuracy: 0.9241 - val_loss: 0.3509 - val_accuracy: 0.8820\n",
            "Epoch 13/20\n",
            "1500/1500 [==============================] - 4s 3ms/step - loss: 0.1963 - accuracy: 0.9267 - val_loss: 0.3525 - val_accuracy: 0.8810\n",
            "Epoch 14/20\n",
            "1500/1500 [==============================] - 4s 3ms/step - loss: 0.1926 - accuracy: 0.9274 - val_loss: 0.3468 - val_accuracy: 0.8889\n",
            "Epoch 15/20\n",
            "1500/1500 [==============================] - 4s 3ms/step - loss: 0.1869 - accuracy: 0.9300 - val_loss: 0.3736 - val_accuracy: 0.8823\n",
            "Epoch 16/20\n",
            "1500/1500 [==============================] - 4s 3ms/step - loss: 0.1811 - accuracy: 0.9316 - val_loss: 0.3697 - val_accuracy: 0.8853\n",
            "Epoch 17/20\n",
            "1500/1500 [==============================] - 4s 3ms/step - loss: 0.1811 - accuracy: 0.9311 - val_loss: 0.3501 - val_accuracy: 0.8860\n",
            "Epoch 18/20\n",
            "1500/1500 [==============================] - 5s 3ms/step - loss: 0.1719 - accuracy: 0.9355 - val_loss: 0.3565 - val_accuracy: 0.8882\n",
            "Epoch 19/20\n",
            "1500/1500 [==============================] - 4s 3ms/step - loss: 0.1700 - accuracy: 0.9360 - val_loss: 0.3547 - val_accuracy: 0.8892\n",
            "Epoch 20/20\n",
            "1500/1500 [==============================] - 4s 3ms/step - loss: 0.1658 - accuracy: 0.9377 - val_loss: 0.3713 - val_accuracy: 0.8864\n"
          ]
        },
        {
          "output_type": "display_data",
          "data": {
            "text/plain": [
              "<Figure size 432x288 with 1 Axes>"
            ],
            "image/png": "[encoded data removed]"
          },
          "metadata": {
            "needs_background": "light"
          }
        }
      ]
    },
    {
      "cell_type": "markdown",
      "source": [
        "## 드롭아웃\n",
        "- 중요함.\n",
        "- 현재 문제점 : 과적합이 계속 일어남\n",
        "  + 해소하는데 가장 확실한 방법 : 드롭아웃\n",
        "- 과적합을 해소해줌\n",
        "- 모형 학습 시간 단축\n",
        "- 필요없는 레이어의 노드를 정해진 비율로 제거"
      ],
      "metadata": {
        "id": "94r_0T5G5WUt"
      }
    },
    {
      "cell_type": "code",
      "source": [
        "from tensorflow import keras\n",
        "\n",
        "(train_input, train_target), (test_input, test_target) = keras.datasets.fashion_mnist.load_data()\n",
        "train_scaled = train_input / 255.0 \n",
        "# train_scaled = train_scaled.reshape(-1, 28 * 28)\n",
        "train_scaled.shape\n",
        "from sklearn.model_selection import train_test_split\n",
        "train_scaled, val_scaled, train_target, val_target = train_test_split(train_scaled, train_target, test_size = 0.2, random_state = 42)\n",
        "\n",
        "def model_fn(a_layer=None):\n",
        "  model = keras.Sequential()\n",
        "  model.add(keras.layers.Flatten(input_shape=(28,28)))\n",
        "  model.add(keras.layers.Dense(100, activation='relu'))\n",
        "  if a_layer:\n",
        "    model.add(a_layer)\n",
        "\n",
        "  model.add(keras.layers.Dense(10, activation='softmax'))\n",
        "  return model  "
      ],
      "metadata": {
        "id": "0ScYvEkq689G"
      },
      "execution_count": 1,
      "outputs": []
    },
    {
      "cell_type": "code",
      "source": [
        "model = model_fn(keras.layers.Dropout(0.3))\n",
        "model.summary()"
      ],
      "metadata": {
        "colab": {
          "base_uri": "https://localhost:8080/"
        },
        "id": "XmOJQ6S-7I2O",
        "outputId": "0285d1c9-952e-4ec2-f68c-bfb1c7b96e79"
      },
      "execution_count": 2,
      "outputs": [
        {
          "output_type": "stream",
          "name": "stdout",
          "text": [
            "Model: \"sequential\"\n",
            "_________________________________________________________________\n",
            " Layer (type)                Output Shape              Param #   \n",
            "=================================================================\n",
            " flatten (Flatten)           (None, 784)               0         \n",
            "                                                                 \n",
            " dense (Dense)               (None, 100)               78500     \n",
            "                                                                 \n",
            " dropout (Dropout)           (None, 100)               0         \n",
            "                                                                 \n",
            " dense_1 (Dense)             (None, 10)                1010      \n",
            "                                                                 \n",
            "=================================================================\n",
            "Total params: 79,510\n",
            "Trainable params: 79,510\n",
            "Non-trainable params: 0\n",
            "_________________________________________________________________\n"
          ]
        }
      ]
    },
    {
      "cell_type": "code",
      "source": [
        "model.compile(optimizer = 'adam', loss = 'sparse_categorical_crossentropy', metrics = 'accuracy')\n",
        "\n",
        "history = model.fit(train_scaled, train_target, epochs = 20, verbose=0,validation_data = (val_scaled, val_target))\n",
        "\n",
        "import matplotlib.pyplot as plt\n",
        "\n",
        "fig, ax = plt.subplots()\n",
        "ax.plot(history.history['loss'])\n",
        "ax.plot(history.history['val_loss'])\n",
        "ax.set_xlabel('epoch')\n",
        "ax.set_ylabel('loss')\n",
        "ax.legend(['train', 'val'])\n",
        "plt.show()"
      ],
      "metadata": {
        "colab": {
          "base_uri": "https://localhost:8080/",
          "height": 280
        },
        "id": "Mdxf8Tap7hMH",
        "outputId": "3df7fcd5-5c1d-4939-acdf-2c21ddd21380"
      },
      "execution_count": 3,
      "outputs": [
        {
          "output_type": "display_data",
          "data": {
            "text/plain": [
              "<Figure size 432x288 with 1 Axes>"
            ],
            "image/png": "[encoded data removed]"
          },
          "metadata": {
            "needs_background": "light"
          }
        }
      ]
    },
    {
      "cell_type": "markdown",
      "source": [
        "## 머신러닝/딥러닝 모형을 만들 때 연구자가 가장 신경써야하는 포인트 : 과적합 방지\n"
      ],
      "metadata": {
        "id": "d_fL4-m17w9G"
      }
    },
    {
      "cell_type": "markdown",
      "source": [
        "## 모델 저장\n",
        "- 모델 저장"
      ],
      "metadata": {
        "id": "R-Dwnm2S8tim"
      }
    },
    {
      "cell_type": "code",
      "source": [
        "model.save_weights('model-weights.h5')"
      ],
      "metadata": {
        "id": "YoGiLrv08zbf"
      },
      "execution_count": 9,
      "outputs": []
    },
    {
      "cell_type": "code",
      "source": [
        "model.save('model-whole.h5')"
      ],
      "metadata": {
        "id": "TD6qfoQm84uq"
      },
      "execution_count": 10,
      "outputs": []
    },
    {
      "cell_type": "markdown",
      "source": [
        "## 모델 불러오기"
      ],
      "metadata": {
        "id": "WePjQBOn9CKA"
      }
    },
    {
      "cell_type": "code",
      "source": [
        "model2 = keras.models.load_model('model-whole.h5')\n",
        "model2.evaluate(val_scaled, val_target)"
      ],
      "metadata": {
        "colab": {
          "base_uri": "https://localhost:8080/"
        },
        "id": "B09g-Neb9EfW",
        "outputId": "08f114d2-8523-4546-9d24-1f0a949238f6"
      },
      "execution_count": 11,
      "outputs": [
        {
          "output_type": "stream",
          "name": "stdout",
          "text": [
            "375/375 [==============================] - 1s 2ms/step - loss: 0.3327 - accuracy: 0.8768\n"
          ]
        },
        {
          "output_type": "execute_result",
          "data": {
            "text/plain": [
              "[0.3327001631259918, 0.8768333196640015]"
            ]
          },
          "metadata": {},
          "execution_count": 11
        }
      ]
    },
    {
      "cell_type": "code",
      "source": [
        "model.evaluate(val_scaled,val_target)"
      ],
      "metadata": {
        "colab": {
          "base_uri": "https://localhost:8080/"
        },
        "id": "jaYIOubI9O81",
        "outputId": "2f57102a-0747-4a44-e2f6-71689d44f1a1"
      },
      "execution_count": 12,
      "outputs": [
        {
          "output_type": "stream",
          "name": "stdout",
          "text": [
            "375/375 [==============================] - 1s 2ms/step - loss: 0.3327 - accuracy: 0.8768\n"
          ]
        },
        {
          "output_type": "execute_result",
          "data": {
            "text/plain": [
              "[0.3327001631259918, 0.8768333196640015]"
            ]
          },
          "metadata": {},
          "execution_count": 12
        }
      ]
    },
    {
      "cell_type": "markdown",
      "source": [
        "## Early Stopping\n",
        "- 모형 학습 속도가 줄어듬\n",
        "  + 예) epoch 1000번, 100번째 정확도가 99%. 남은 900번을 계속 해야하는가?"
      ],
      "metadata": {
        "id": "lnZkuzOK6Kim"
      }
    }
  ]
}