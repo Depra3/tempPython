{
 "cells": [
  {
   "cell_type": "code",
   "execution_count": 7,
   "id": "206ef317",
   "metadata": {},
   "outputs": [],
   "source": [
    "import MySQLdb as sqldb\n",
    "import pandas as pd\n",
    "import numpy as np\n",
    "import warnings\n",
    "warnings.filterwarnings('ignore')\n",
    "db = sqldb.connect(host='localhost', port=3306, user='root', passwd='1234', charset='utf8')\n",
    "cursor = db.cursor()"
   ]
  },
  {
   "cell_type": "code",
   "execution_count": 8,
   "id": "314cd0e7",
   "metadata": {
    "collapsed": true
   },
   "outputs": [
    {
     "data": {
      "text/html": [
       "<div>\n",
       "<style scoped>\n",
       "    .dataframe tbody tr th:only-of-type {\n",
       "        vertical-align: middle;\n",
       "    }\n",
       "\n",
       "    .dataframe tbody tr th {\n",
       "        vertical-align: top;\n",
       "    }\n",
       "\n",
       "    .dataframe thead th {\n",
       "        text-align: right;\n",
       "    }\n",
       "</style>\n",
       "<table border=\"1\" class=\"dataframe\">\n",
       "  <thead>\n",
       "    <tr style=\"text-align: right;\">\n",
       "      <th></th>\n",
       "      <th>Unnamed: 0</th>\n",
       "      <th>매물번호</th>\n",
       "      <th>연락처</th>\n",
       "      <th>주소</th>\n",
       "      <th>부동산</th>\n",
       "      <th>보증금</th>\n",
       "      <th>월세</th>\n",
       "    </tr>\n",
       "  </thead>\n",
       "  <tbody>\n",
       "    <tr>\n",
       "      <th>0</th>\n",
       "      <td>0</td>\n",
       "      <td>3467204.0</td>\n",
       "      <td>010-123-4567</td>\n",
       "      <td>서울시 강남구 역삼동 0</td>\n",
       "      <td>TODAY공인중개사(이인규)</td>\n",
       "      <td>1000.0</td>\n",
       "      <td>100.0</td>\n",
       "    </tr>\n",
       "    <tr>\n",
       "      <th>1</th>\n",
       "      <td>1</td>\n",
       "      <td>3150497.0</td>\n",
       "      <td>010-123-4567</td>\n",
       "      <td>서울시 강남구 역삼동 1</td>\n",
       "      <td>TODAY공인중개사(이인규)</td>\n",
       "      <td>11000.0</td>\n",
       "      <td>60.0</td>\n",
       "    </tr>\n",
       "    <tr>\n",
       "      <th>2</th>\n",
       "      <td>2</td>\n",
       "      <td>3440906.0</td>\n",
       "      <td>010-123-4567</td>\n",
       "      <td>서울시 강남구 역삼동 2</td>\n",
       "      <td>열린공인중개사(강광수)</td>\n",
       "      <td>5000.0</td>\n",
       "      <td>65.0</td>\n",
       "    </tr>\n",
       "    <tr>\n",
       "      <th>3</th>\n",
       "      <td>3</td>\n",
       "      <td>3376834.0</td>\n",
       "      <td>010-123-4567</td>\n",
       "      <td>서울시 강남구 역삼동 3</td>\n",
       "      <td>미래공인중개사(김유철)</td>\n",
       "      <td>3000.0</td>\n",
       "      <td>95.0</td>\n",
       "    </tr>\n",
       "    <tr>\n",
       "      <th>4</th>\n",
       "      <td>4</td>\n",
       "      <td>3331511.0</td>\n",
       "      <td>010-123-4567</td>\n",
       "      <td>서울시 강남구 역삼동 4</td>\n",
       "      <td>한백부동산공인중개사(김남조)</td>\n",
       "      <td>110.0</td>\n",
       "      <td>110.0</td>\n",
       "    </tr>\n",
       "  </tbody>\n",
       "</table>\n",
       "</div>"
      ],
      "text/plain": [
       "   Unnamed: 0       매물번호           연락처             주소              부동산  \\\n",
       "0           0  3467204.0  010-123-4567  서울시 강남구 역삼동 0  TODAY공인중개사(이인규)   \n",
       "1           1  3150497.0  010-123-4567  서울시 강남구 역삼동 1  TODAY공인중개사(이인규)   \n",
       "2           2  3440906.0  010-123-4567  서울시 강남구 역삼동 2     열린공인중개사(강광수)   \n",
       "3           3  3376834.0  010-123-4567  서울시 강남구 역삼동 3     미래공인중개사(김유철)   \n",
       "4           4  3331511.0  010-123-4567  서울시 강남구 역삼동 4  한백부동산공인중개사(김남조)   \n",
       "\n",
       "       보증금     월세  \n",
       "0   1000.0  100.0  \n",
       "1  11000.0   60.0  \n",
       "2   5000.0   65.0  \n",
       "3   3000.0   95.0  \n",
       "4    110.0  110.0  "
      ]
     },
     "execution_count": 8,
     "metadata": {},
     "output_type": "execute_result"
    }
   ],
   "source": [
    "df = pd.read_csv('budongsan.csv')\n",
    "df.head()"
   ]
  },
  {
   "cell_type": "code",
   "execution_count": 6,
   "id": "48eb4c77",
   "metadata": {},
   "outputs": [
    {
     "data": {
      "text/html": [
       "<div>\n",
       "<style scoped>\n",
       "    .dataframe tbody tr th:only-of-type {\n",
       "        vertical-align: middle;\n",
       "    }\n",
       "\n",
       "    .dataframe tbody tr th {\n",
       "        vertical-align: top;\n",
       "    }\n",
       "\n",
       "    .dataframe thead th {\n",
       "        text-align: right;\n",
       "    }\n",
       "</style>\n",
       "<table border=\"1\" class=\"dataframe\">\n",
       "  <thead>\n",
       "    <tr style=\"text-align: right;\">\n",
       "      <th></th>\n",
       "      <th>Database</th>\n",
       "    </tr>\n",
       "  </thead>\n",
       "  <tbody>\n",
       "    <tr>\n",
       "      <th>0</th>\n",
       "      <td>employees</td>\n",
       "    </tr>\n",
       "    <tr>\n",
       "      <th>1</th>\n",
       "      <td>information_schema</td>\n",
       "    </tr>\n",
       "    <tr>\n",
       "      <th>2</th>\n",
       "      <td>mysql</td>\n",
       "    </tr>\n",
       "    <tr>\n",
       "      <th>3</th>\n",
       "      <td>performance_schema</td>\n",
       "    </tr>\n",
       "    <tr>\n",
       "      <th>4</th>\n",
       "      <td>sakila</td>\n",
       "    </tr>\n",
       "    <tr>\n",
       "      <th>5</th>\n",
       "      <td>shopdb</td>\n",
       "    </tr>\n",
       "    <tr>\n",
       "      <th>6</th>\n",
       "      <td>sqldb</td>\n",
       "    </tr>\n",
       "    <tr>\n",
       "      <th>7</th>\n",
       "      <td>sys</td>\n",
       "    </tr>\n",
       "    <tr>\n",
       "      <th>8</th>\n",
       "      <td>testdb</td>\n",
       "    </tr>\n",
       "    <tr>\n",
       "      <th>9</th>\n",
       "      <td>world</td>\n",
       "    </tr>\n",
       "  </tbody>\n",
       "</table>\n",
       "</div>"
      ],
      "text/plain": [
       "             Database\n",
       "0           employees\n",
       "1  information_schema\n",
       "2               mysql\n",
       "3  performance_schema\n",
       "4              sakila\n",
       "5              shopdb\n",
       "6               sqldb\n",
       "7                 sys\n",
       "8              testdb\n",
       "9               world"
      ]
     },
     "execution_count": 6,
     "metadata": {},
     "output_type": "execute_result"
    }
   ],
   "source": [
    "sql = \"\"\"\n",
    "show databases;\n",
    "\"\"\"\n",
    "pd.read_sql(sql,db)"
   ]
  },
  {
   "cell_type": "code",
   "execution_count": 10,
   "id": "741b7291",
   "metadata": {},
   "outputs": [
    {
     "data": {
      "text/plain": [
       "1"
      ]
     },
     "execution_count": 10,
     "metadata": {},
     "output_type": "execute_result"
    }
   ],
   "source": [
    "sql = \"\"\"\n",
    "create database if not exists budongsan;\n",
    "\"\"\"\n",
    "cursor.execute(sql)"
   ]
  },
  {
   "cell_type": "code",
   "execution_count": 11,
   "id": "21f63d12",
   "metadata": {},
   "outputs": [
    {
     "data": {
      "text/plain": [
       "0"
      ]
     },
     "execution_count": 11,
     "metadata": {},
     "output_type": "execute_result"
    }
   ],
   "source": [
    "sql = \"\"\"\n",
    "use budongsan;\n",
    "\"\"\"\n",
    "cursor.execute(sql)"
   ]
  },
  {
   "cell_type": "code",
   "execution_count": 12,
   "id": "82d619cc",
   "metadata": {},
   "outputs": [
    {
     "data": {
      "text/html": [
       "<div>\n",
       "<style scoped>\n",
       "    .dataframe tbody tr th:only-of-type {\n",
       "        vertical-align: middle;\n",
       "    }\n",
       "\n",
       "    .dataframe tbody tr th {\n",
       "        vertical-align: top;\n",
       "    }\n",
       "\n",
       "    .dataframe thead th {\n",
       "        text-align: right;\n",
       "    }\n",
       "</style>\n",
       "<table border=\"1\" class=\"dataframe\">\n",
       "  <thead>\n",
       "    <tr style=\"text-align: right;\">\n",
       "      <th></th>\n",
       "      <th>Tables_in_budongsan</th>\n",
       "    </tr>\n",
       "  </thead>\n",
       "  <tbody>\n",
       "  </tbody>\n",
       "</table>\n",
       "</div>"
      ],
      "text/plain": [
       "Empty DataFrame\n",
       "Columns: [Tables_in_budongsan]\n",
       "Index: []"
      ]
     },
     "execution_count": 12,
     "metadata": {},
     "output_type": "execute_result"
    }
   ],
   "source": [
    "sql = \"\"\"\n",
    "show tables;\n",
    "\"\"\"\n",
    "pd.read_sql(sql,db)"
   ]
  },
  {
   "cell_type": "code",
   "execution_count": 21,
   "id": "0f6df460",
   "metadata": {},
   "outputs": [
    {
     "data": {
      "text/plain": [
       "0"
      ]
     },
     "execution_count": 21,
     "metadata": {},
     "output_type": "execute_result"
    }
   ],
   "source": [
    "sql = \"\"\"\n",
    "create table if not exists provider(\n",
    "provider_id int primary key,\n",
    "name varchar(255)\n",
    ");\n",
    "\"\"\"\n",
    "\n",
    "cursor.execute(sql)"
   ]
  },
  {
   "cell_type": "code",
   "execution_count": 22,
   "id": "2006bcdf",
   "metadata": {},
   "outputs": [
    {
     "data": {
      "text/plain": [
       "1"
      ]
     },
     "execution_count": 22,
     "metadata": {},
     "output_type": "execute_result"
    }
   ],
   "source": [
    "sql = \"\"\"\n",
    "insert into provider values(2,'우리부동산');\n",
    "insert into provider values(3,'현대부동산');\n",
    "insert into provider values(4,'휴먼부동산');\n",
    "insert into provider values(5,'미래부동산');\n",
    "\"\"\"\n",
    "cursor.execute(sql)"
   ]
  },
  {
   "cell_type": "code",
   "execution_count": 19,
   "id": "adb4cf2e",
   "metadata": {},
   "outputs": [
    {
     "data": {
      "text/plain": [
       "0"
      ]
     },
     "execution_count": 19,
     "metadata": {},
     "output_type": "execute_result"
    }
   ],
   "source": [
    "sql = \"\"\"\n",
    "drop table provider;\n",
    "\"\"\"\n",
    "cursor.execute(sql)"
   ]
  },
  {
   "cell_type": "code",
   "execution_count": 17,
   "id": "c342299c",
   "metadata": {
    "collapsed": true
   },
   "outputs": [
    {
     "data": {
      "text/html": [
       "<div>\n",
       "<style scoped>\n",
       "    .dataframe tbody tr th:only-of-type {\n",
       "        vertical-align: middle;\n",
       "    }\n",
       "\n",
       "    .dataframe tbody tr th {\n",
       "        vertical-align: top;\n",
       "    }\n",
       "\n",
       "    .dataframe thead th {\n",
       "        text-align: right;\n",
       "    }\n",
       "</style>\n",
       "<table border=\"1\" class=\"dataframe\">\n",
       "  <thead>\n",
       "    <tr style=\"text-align: right;\">\n",
       "      <th></th>\n",
       "      <th>provider_id</th>\n",
       "      <th>name</th>\n",
       "    </tr>\n",
       "  </thead>\n",
       "  <tbody>\n",
       "    <tr>\n",
       "      <th>0</th>\n",
       "      <td>2</td>\n",
       "      <td>우리부동산</td>\n",
       "    </tr>\n",
       "    <tr>\n",
       "      <th>1</th>\n",
       "      <td>3</td>\n",
       "      <td>현대부동산</td>\n",
       "    </tr>\n",
       "    <tr>\n",
       "      <th>2</th>\n",
       "      <td>4</td>\n",
       "      <td>휴먼부동산</td>\n",
       "    </tr>\n",
       "    <tr>\n",
       "      <th>3</th>\n",
       "      <td>5</td>\n",
       "      <td>미래부동산</td>\n",
       "    </tr>\n",
       "  </tbody>\n",
       "</table>\n",
       "</div>"
      ],
      "text/plain": [
       "   provider_id   name\n",
       "0            2  우리부동산\n",
       "1            3  현대부동산\n",
       "2            4  휴먼부동산\n",
       "3            5  미래부동산"
      ]
     },
     "execution_count": 17,
     "metadata": {},
     "output_type": "execute_result"
    }
   ],
   "source": [
    "sql = 'select * from provider'\n",
    "pd.read_sql(sql,db)"
   ]
  },
  {
   "cell_type": "code",
   "execution_count": 54,
   "id": "8544787e",
   "metadata": {},
   "outputs": [
    {
     "data": {
      "text/html": [
       "<div>\n",
       "<style scoped>\n",
       "    .dataframe tbody tr th:only-of-type {\n",
       "        vertical-align: middle;\n",
       "    }\n",
       "\n",
       "    .dataframe tbody tr th {\n",
       "        vertical-align: top;\n",
       "    }\n",
       "\n",
       "    .dataframe thead th {\n",
       "        text-align: right;\n",
       "    }\n",
       "</style>\n",
       "<table border=\"1\" class=\"dataframe\">\n",
       "  <thead>\n",
       "    <tr style=\"text-align: right;\">\n",
       "      <th></th>\n",
       "      <th>매물번호</th>\n",
       "      <th>연락처</th>\n",
       "      <th>주소</th>\n",
       "      <th>부동산</th>\n",
       "      <th>보증금</th>\n",
       "      <th>월세</th>\n",
       "    </tr>\n",
       "  </thead>\n",
       "  <tbody>\n",
       "    <tr>\n",
       "      <th>0</th>\n",
       "      <td>3467204.0</td>\n",
       "      <td>010-123-4567</td>\n",
       "      <td>서울시 강남구 역삼동 0</td>\n",
       "      <td>TODAY공인중개사(이인규)</td>\n",
       "      <td>1000.0</td>\n",
       "      <td>100.0</td>\n",
       "    </tr>\n",
       "    <tr>\n",
       "      <th>1</th>\n",
       "      <td>3150497.0</td>\n",
       "      <td>010-123-4567</td>\n",
       "      <td>서울시 강남구 역삼동 1</td>\n",
       "      <td>TODAY공인중개사(이인규)</td>\n",
       "      <td>11000.0</td>\n",
       "      <td>60.0</td>\n",
       "    </tr>\n",
       "    <tr>\n",
       "      <th>2</th>\n",
       "      <td>3440906.0</td>\n",
       "      <td>010-123-4567</td>\n",
       "      <td>서울시 강남구 역삼동 2</td>\n",
       "      <td>열린공인중개사(강광수)</td>\n",
       "      <td>5000.0</td>\n",
       "      <td>65.0</td>\n",
       "    </tr>\n",
       "    <tr>\n",
       "      <th>3</th>\n",
       "      <td>3376834.0</td>\n",
       "      <td>010-123-4567</td>\n",
       "      <td>서울시 강남구 역삼동 3</td>\n",
       "      <td>미래공인중개사(김유철)</td>\n",
       "      <td>3000.0</td>\n",
       "      <td>95.0</td>\n",
       "    </tr>\n",
       "    <tr>\n",
       "      <th>4</th>\n",
       "      <td>3331511.0</td>\n",
       "      <td>010-123-4567</td>\n",
       "      <td>서울시 강남구 역삼동 4</td>\n",
       "      <td>한백부동산공인중개사(김남조)</td>\n",
       "      <td>110.0</td>\n",
       "      <td>110.0</td>\n",
       "    </tr>\n",
       "  </tbody>\n",
       "</table>\n",
       "</div>"
      ],
      "text/plain": [
       "        매물번호           연락처             주소              부동산      보증금     월세\n",
       "0  3467204.0  010-123-4567  서울시 강남구 역삼동 0  TODAY공인중개사(이인규)   1000.0  100.0\n",
       "1  3150497.0  010-123-4567  서울시 강남구 역삼동 1  TODAY공인중개사(이인규)  11000.0   60.0\n",
       "2  3440906.0  010-123-4567  서울시 강남구 역삼동 2     열린공인중개사(강광수)   5000.0   65.0\n",
       "3  3376834.0  010-123-4567  서울시 강남구 역삼동 3     미래공인중개사(김유철)   3000.0   95.0\n",
       "4  3331511.0  010-123-4567  서울시 강남구 역삼동 4  한백부동산공인중개사(김남조)    110.0  110.0"
      ]
     },
     "execution_count": 54,
     "metadata": {},
     "output_type": "execute_result"
    }
   ],
   "source": [
    "df_db = pd.read_csv('budongsan.csv', index_col=0)\n",
    "df_db.head()"
   ]
  },
  {
   "cell_type": "code",
   "execution_count": 20,
   "id": "80ca3012",
   "metadata": {
    "collapsed": true
   },
   "outputs": [
    {
     "name": "stdout",
     "output_type": "stream",
     "text": [
      "<class 'pandas.core.frame.DataFrame'>\n",
      "RangeIndex: 43 entries, 0 to 42\n",
      "Data columns (total 7 columns):\n",
      " #   Column      Non-Null Count  Dtype  \n",
      "---  ------      --------------  -----  \n",
      " 0   Unnamed: 0  43 non-null     int64  \n",
      " 1   매물번호        43 non-null     float64\n",
      " 2   연락처         43 non-null     object \n",
      " 3   주소          43 non-null     object \n",
      " 4   부동산         43 non-null     object \n",
      " 5   보증금         43 non-null     float64\n",
      " 6   월세          43 non-null     float64\n",
      "dtypes: float64(3), int64(1), object(3)\n",
      "memory usage: 2.5+ KB\n"
     ]
    }
   ],
   "source": [
    "df_db.info()"
   ]
  },
  {
   "cell_type": "code",
   "execution_count": 70,
   "id": "294ff396",
   "metadata": {},
   "outputs": [
    {
     "data": {
      "text/plain": [
       "0"
      ]
     },
     "execution_count": 70,
     "metadata": {},
     "output_type": "execute_result"
    }
   ],
   "source": [
    "sql = \"\"\"\n",
    "create table if not exists agency (\n",
    "prd_no int primary key,\n",
    "phone char(12) not null,\n",
    "addr varchar(20),\n",
    "b_agency varchar(30),\n",
    "deposit int,\n",
    "rent int);\n",
    "\"\"\"\n",
    "\n",
    "cursor.execute(sql)"
   ]
  },
  {
   "cell_type": "code",
   "execution_count": 59,
   "id": "7e3c6a8d",
   "metadata": {},
   "outputs": [
    {
     "data": {
      "text/html": [
       "<div>\n",
       "<style scoped>\n",
       "    .dataframe tbody tr th:only-of-type {\n",
       "        vertical-align: middle;\n",
       "    }\n",
       "\n",
       "    .dataframe tbody tr th {\n",
       "        vertical-align: top;\n",
       "    }\n",
       "\n",
       "    .dataframe thead th {\n",
       "        text-align: right;\n",
       "    }\n",
       "</style>\n",
       "<table border=\"1\" class=\"dataframe\">\n",
       "  <thead>\n",
       "    <tr style=\"text-align: right;\">\n",
       "      <th></th>\n",
       "      <th>Tables_in_budongsan</th>\n",
       "    </tr>\n",
       "  </thead>\n",
       "  <tbody>\n",
       "    <tr>\n",
       "      <th>0</th>\n",
       "      <td>agency</td>\n",
       "    </tr>\n",
       "    <tr>\n",
       "      <th>1</th>\n",
       "      <td>provider</td>\n",
       "    </tr>\n",
       "  </tbody>\n",
       "</table>\n",
       "</div>"
      ],
      "text/plain": [
       "  Tables_in_budongsan\n",
       "0              agency\n",
       "1            provider"
      ]
     },
     "execution_count": 59,
     "metadata": {},
     "output_type": "execute_result"
    }
   ],
   "source": [
    "sql = 'show tables;'\n",
    "pd.read_sql(sql,db)"
   ]
  },
  {
   "cell_type": "code",
   "execution_count": 60,
   "id": "658fbf31",
   "metadata": {},
   "outputs": [
    {
     "data": {
      "text/html": [
       "<div>\n",
       "<style scoped>\n",
       "    .dataframe tbody tr th:only-of-type {\n",
       "        vertical-align: middle;\n",
       "    }\n",
       "\n",
       "    .dataframe tbody tr th {\n",
       "        vertical-align: top;\n",
       "    }\n",
       "\n",
       "    .dataframe thead th {\n",
       "        text-align: right;\n",
       "    }\n",
       "</style>\n",
       "<table border=\"1\" class=\"dataframe\">\n",
       "  <thead>\n",
       "    <tr style=\"text-align: right;\">\n",
       "      <th></th>\n",
       "      <th>prd_no</th>\n",
       "      <th>phone</th>\n",
       "      <th>addr</th>\n",
       "      <th>b_agency</th>\n",
       "      <th>deposit</th>\n",
       "      <th>rent</th>\n",
       "    </tr>\n",
       "  </thead>\n",
       "  <tbody>\n",
       "  </tbody>\n",
       "</table>\n",
       "</div>"
      ],
      "text/plain": [
       "Empty DataFrame\n",
       "Columns: [prd_no, phone, addr, b_agency, deposit, rent]\n",
       "Index: []"
      ]
     },
     "execution_count": 60,
     "metadata": {},
     "output_type": "execute_result"
    }
   ],
   "source": [
    "sql = 'select * from agency;'\n",
    "pd.read_sql(sql,db)"
   ]
  },
  {
   "cell_type": "code",
   "execution_count": 69,
   "id": "9d56d427",
   "metadata": {},
   "outputs": [
    {
     "data": {
      "text/plain": [
       "0"
      ]
     },
     "execution_count": 69,
     "metadata": {},
     "output_type": "execute_result"
    }
   ],
   "source": [
    "sql = \"\"\"\n",
    "drop table agency;\n",
    "\"\"\"\n",
    "cursor.execute(sql)"
   ]
  },
  {
   "cell_type": "code",
   "execution_count": 62,
   "id": "97af12c6",
   "metadata": {},
   "outputs": [
    {
     "data": {
      "text/plain": [
       "매물번호          3467204.0\n",
       "연락처        010-123-4567\n",
       "주소        서울시 강남구 역삼동 0\n",
       "부동산     TODAY공인중개사(이인규)\n",
       "보증금              1000.0\n",
       "월세                100.0\n",
       "Name: 0, dtype: object"
      ]
     },
     "execution_count": 62,
     "metadata": {},
     "output_type": "execute_result"
    }
   ],
   "source": [
    "a = df_db.iloc[0]\n",
    "a"
   ]
  },
  {
   "cell_type": "code",
   "execution_count": 72,
   "id": "1e1dd011",
   "metadata": {},
   "outputs": [],
   "source": [
    "# {}에 문자열이 들어올 경우 ''까지 표시\n",
    "for i in range(len(df_db)):\n",
    "    a = df_db.iloc[i]\n",
    "    sql = \"insert into agency values({},'{}','{}','{}',{},{});\".format(a.iloc[0], a.iloc[1], a.iloc[2], a.iloc[3], a.iloc[4], a.iloc[5])\n",
    "    cursor.execute(sql)"
   ]
  },
  {
   "cell_type": "code",
   "execution_count": 73,
   "id": "e8158320",
   "metadata": {},
   "outputs": [],
   "source": [
    "sql = \"select * from agency;\"\n",
    "df = pd.read_sql(sql, db)"
   ]
  },
  {
   "cell_type": "code",
   "execution_count": 74,
   "id": "f8cbcc0b",
   "metadata": {},
   "outputs": [],
   "source": [
    "df.to_csv('agency.csv')"
   ]
  },
  {
   "cell_type": "code",
   "execution_count": 75,
   "id": "9c8d9f5a",
   "metadata": {},
   "outputs": [
    {
     "data": {
      "text/html": [
       "<div>\n",
       "<style scoped>\n",
       "    .dataframe tbody tr th:only-of-type {\n",
       "        vertical-align: middle;\n",
       "    }\n",
       "\n",
       "    .dataframe tbody tr th {\n",
       "        vertical-align: top;\n",
       "    }\n",
       "\n",
       "    .dataframe thead th {\n",
       "        text-align: right;\n",
       "    }\n",
       "</style>\n",
       "<table border=\"1\" class=\"dataframe\">\n",
       "  <thead>\n",
       "    <tr style=\"text-align: right;\">\n",
       "      <th></th>\n",
       "      <th>prd_no</th>\n",
       "      <th>phone</th>\n",
       "      <th>addr</th>\n",
       "      <th>b_agency</th>\n",
       "      <th>deposit</th>\n",
       "      <th>rent</th>\n",
       "    </tr>\n",
       "  </thead>\n",
       "  <tbody>\n",
       "    <tr>\n",
       "      <th>0</th>\n",
       "      <td>3103384</td>\n",
       "      <td>010-123-4567</td>\n",
       "      <td>서울시 강남구 역삼동 17</td>\n",
       "      <td>TODAY공인중개사(이인규)</td>\n",
       "      <td>5000</td>\n",
       "      <td>50</td>\n",
       "    </tr>\n",
       "    <tr>\n",
       "      <th>1</th>\n",
       "      <td>3150497</td>\n",
       "      <td>010-123-4567</td>\n",
       "      <td>서울시 강남구 역삼동 1</td>\n",
       "      <td>TODAY공인중개사(이인규)</td>\n",
       "      <td>11000</td>\n",
       "      <td>60</td>\n",
       "    </tr>\n",
       "    <tr>\n",
       "      <th>2</th>\n",
       "      <td>3181675</td>\n",
       "      <td>010-123-4567</td>\n",
       "      <td>서울시 강남구 역삼동 20</td>\n",
       "      <td>TODAY공인중개사(이인규)</td>\n",
       "      <td>5000</td>\n",
       "      <td>60</td>\n",
       "    </tr>\n",
       "    <tr>\n",
       "      <th>3</th>\n",
       "      <td>3190410</td>\n",
       "      <td>010-123-4567</td>\n",
       "      <td>서울시 강남구 역삼동 28</td>\n",
       "      <td>건우공인중개사(김상모)</td>\n",
       "      <td>70</td>\n",
       "      <td>70</td>\n",
       "    </tr>\n",
       "    <tr>\n",
       "      <th>4</th>\n",
       "      <td>3228631</td>\n",
       "      <td>010-123-4567</td>\n",
       "      <td>서울시 강남구 역삼동 10</td>\n",
       "      <td>HS강남공인중개사(김현수)</td>\n",
       "      <td>1000</td>\n",
       "      <td>96</td>\n",
       "    </tr>\n",
       "  </tbody>\n",
       "</table>\n",
       "</div>"
      ],
      "text/plain": [
       "    prd_no         phone            addr         b_agency  deposit  rent\n",
       "0  3103384  010-123-4567  서울시 강남구 역삼동 17  TODAY공인중개사(이인규)     5000    50\n",
       "1  3150497  010-123-4567   서울시 강남구 역삼동 1  TODAY공인중개사(이인규)    11000    60\n",
       "2  3181675  010-123-4567  서울시 강남구 역삼동 20  TODAY공인중개사(이인규)     5000    60\n",
       "3  3190410  010-123-4567  서울시 강남구 역삼동 28     건우공인중개사(김상모)       70    70\n",
       "4  3228631  010-123-4567  서울시 강남구 역삼동 10   HS강남공인중개사(김현수)     1000    96"
      ]
     },
     "execution_count": 75,
     "metadata": {},
     "output_type": "execute_result"
    }
   ],
   "source": [
    "df.head()"
   ]
  },
  {
   "cell_type": "code",
   "execution_count": 76,
   "id": "e115948a",
   "metadata": {},
   "outputs": [
    {
     "data": {
      "text/plain": [
       "3512.046511627907"
      ]
     },
     "execution_count": 76,
     "metadata": {},
     "output_type": "execute_result"
    }
   ],
   "source": [
    "df.deposit.mean()"
   ]
  },
  {
   "cell_type": "code",
   "execution_count": 77,
   "id": "1af99979",
   "metadata": {},
   "outputs": [
    {
     "data": {
      "text/html": [
       "<div>\n",
       "<style scoped>\n",
       "    .dataframe tbody tr th:only-of-type {\n",
       "        vertical-align: middle;\n",
       "    }\n",
       "\n",
       "    .dataframe tbody tr th {\n",
       "        vertical-align: top;\n",
       "    }\n",
       "\n",
       "    .dataframe thead th {\n",
       "        text-align: right;\n",
       "    }\n",
       "</style>\n",
       "<table border=\"1\" class=\"dataframe\">\n",
       "  <thead>\n",
       "    <tr style=\"text-align: right;\">\n",
       "      <th></th>\n",
       "      <th>prd_no</th>\n",
       "      <th>phone</th>\n",
       "      <th>addr</th>\n",
       "      <th>b_agency</th>\n",
       "      <th>deposit</th>\n",
       "      <th>rent</th>\n",
       "    </tr>\n",
       "  </thead>\n",
       "  <tbody>\n",
       "    <tr>\n",
       "      <th>30</th>\n",
       "      <td>3451078</td>\n",
       "      <td>010-123-4567</td>\n",
       "      <td>서울시 강남구 역삼동 32</td>\n",
       "      <td>스타공인중개사(박정직)</td>\n",
       "      <td>4000</td>\n",
       "      <td>40</td>\n",
       "    </tr>\n",
       "    <tr>\n",
       "      <th>0</th>\n",
       "      <td>3103384</td>\n",
       "      <td>010-123-4567</td>\n",
       "      <td>서울시 강남구 역삼동 17</td>\n",
       "      <td>TODAY공인중개사(이인규)</td>\n",
       "      <td>5000</td>\n",
       "      <td>50</td>\n",
       "    </tr>\n",
       "    <tr>\n",
       "      <th>29</th>\n",
       "      <td>3450803</td>\n",
       "      <td>010-123-4567</td>\n",
       "      <td>서울시 강남구 역삼동 35</td>\n",
       "      <td>스타공인중개사(박정직)</td>\n",
       "      <td>6000</td>\n",
       "      <td>50</td>\n",
       "    </tr>\n",
       "    <tr>\n",
       "      <th>6</th>\n",
       "      <td>3262172</td>\n",
       "      <td>010-123-4567</td>\n",
       "      <td>서울시 강남구 역삼동 9</td>\n",
       "      <td>스타공인중개사(박정직)</td>\n",
       "      <td>2000</td>\n",
       "      <td>50</td>\n",
       "    </tr>\n",
       "    <tr>\n",
       "      <th>37</th>\n",
       "      <td>3495453</td>\n",
       "      <td>010-123-4567</td>\n",
       "      <td>서울시 강남구 역삼동 30</td>\n",
       "      <td>부동산네트워크공인중개사(황창문)</td>\n",
       "      <td>8000</td>\n",
       "      <td>55</td>\n",
       "    </tr>\n",
       "  </tbody>\n",
       "</table>\n",
       "</div>"
      ],
      "text/plain": [
       "     prd_no         phone            addr           b_agency  deposit  rent\n",
       "30  3451078  010-123-4567  서울시 강남구 역삼동 32       스타공인중개사(박정직)     4000    40\n",
       "0   3103384  010-123-4567  서울시 강남구 역삼동 17    TODAY공인중개사(이인규)     5000    50\n",
       "29  3450803  010-123-4567  서울시 강남구 역삼동 35       스타공인중개사(박정직)     6000    50\n",
       "6   3262172  010-123-4567   서울시 강남구 역삼동 9       스타공인중개사(박정직)     2000    50\n",
       "37  3495453  010-123-4567  서울시 강남구 역삼동 30  부동산네트워크공인중개사(황창문)     8000    55"
      ]
     },
     "execution_count": 77,
     "metadata": {},
     "output_type": "execute_result"
    }
   ],
   "source": [
    "df.sort_values('rent').head()"
   ]
  },
  {
   "cell_type": "code",
   "execution_count": null,
   "id": "88316c46",
   "metadata": {},
   "outputs": [],
   "source": []
  }
 ],
 "metadata": {
  "kernelspec": {
   "display_name": "Python 3 (ipykernel)",
   "language": "python",
   "name": "python3"
  },
  "language_info": {
   "codemirror_mode": {
    "name": "ipython",
    "version": 3
   },
   "file_extension": ".py",
   "mimetype": "text/x-python",
   "name": "python",
   "nbconvert_exporter": "python",
   "pygments_lexer": "ipython3",
   "version": "3.9.13"
  }
 },
 "nbformat": 4,
 "nbformat_minor": 5
}
