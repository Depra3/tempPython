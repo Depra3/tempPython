{
 "cells": [
  {
   "cell_type": "code",
   "execution_count": 1,
   "id": "664aff14",
   "metadata": {},
   "outputs": [
    {
     "name": "stdout",
     "output_type": "stream",
     "text": [
      "Requirement already satisfied: flask in c:\\users\\h\\anaconda3\\lib\\site-packages (1.1.2)\n",
      "Requirement already satisfied: click>=5.1 in c:\\users\\h\\anaconda3\\lib\\site-packages (from flask) (8.0.4)\n",
      "Requirement already satisfied: Werkzeug>=0.15 in c:\\users\\h\\anaconda3\\lib\\site-packages (from flask) (2.0.3)\n",
      "Requirement already satisfied: itsdangerous>=0.24 in c:\\users\\h\\anaconda3\\lib\\site-packages (from flask) (2.0.1)\n",
      "Requirement already satisfied: Jinja2>=2.10.1 in c:\\users\\h\\anaconda3\\lib\\site-packages (from flask) (2.11.3)\n",
      "Requirement already satisfied: colorama in c:\\users\\h\\anaconda3\\lib\\site-packages (from click>=5.1->flask) (0.4.5)\n",
      "Requirement already satisfied: MarkupSafe>=0.23 in c:\\users\\h\\anaconda3\\lib\\site-packages (from Jinja2>=2.10.1->flask) (2.0.1)\n"
     ]
    }
   ],
   "source": [
    "!pip install flask"
   ]
  },
  {
   "cell_type": "code",
   "execution_count": 3,
   "id": "3e539cd7",
   "metadata": {},
   "outputs": [],
   "source": [
    "from flask import Flask"
   ]
  },
  {
   "cell_type": "code",
   "execution_count": 10,
   "id": "72090964",
   "metadata": {},
   "outputs": [
    {
     "name": "stdout",
     "output_type": "stream",
     "text": [
      " * Serving Flask app \"__main__\" (lazy loading)\n",
      " * Environment: production\n",
      "\u001b[31m   WARNING: This is a development server. Do not use it in a production deployment.\u001b[0m\n",
      "\u001b[2m   Use a production WSGI server instead.\u001b[0m\n",
      " * Debug mode: off\n"
     ]
    },
    {
     "name": "stderr",
     "output_type": "stream",
     "text": [
      " * Running on http://127.0.0.1:8080/ (Press CTRL+C to quit)\n",
      "127.0.0.1 - - [05/Jan/2023 10:12:50] \"GET / HTTP/1.1\" 404 -\n",
      "127.0.0.1 - - [05/Jan/2023 10:12:50] \"GET /favicon.ico HTTP/1.1\" 404 -\n",
      "127.0.0.1 - - [05/Jan/2023 10:13:06] \"GET /hello_flask HTTP/1.1\" 200 -\n",
      "127.0.0.1 - - [05/Jan/2023 10:13:11] \"GET /hello_flask HTTP/1.1\" 200 -\n",
      "127.0.0.1 - - [05/Jan/2023 10:13:11] \"GET /hello_flask HTTP/1.1\" 200 -\n"
     ]
    }
   ],
   "source": [
    "# flask_test.py\n",
    "app = Flask(__name__)\n",
    "\n",
    "@app.route('/hello_flask')\n",
    "def test():\n",
    "    return 'hello flask'\n",
    "\n",
    "if __name__ == '__main__':\n",
    "    app.run(host='127.0.0.1', port='8080')"
   ]
  },
  {
   "cell_type": "code",
   "execution_count": 14,
   "id": "8ea60dc9",
   "metadata": {
    "collapsed": true
   },
   "outputs": [
    {
     "name": "stdout",
     "output_type": "stream",
     "text": [
      " * Serving Flask app \"__main__\" (lazy loading)\n",
      " * Environment: production\n",
      "\u001b[31m   WARNING: This is a development server. Do not use it in a production deployment.\u001b[0m\n",
      "\u001b[2m   Use a production WSGI server instead.\u001b[0m\n",
      " * Debug mode: off\n"
     ]
    },
    {
     "name": "stderr",
     "output_type": "stream",
     "text": [
      " * Running on http://127.0.0.1:8080/ (Press CTRL+C to quit)\n",
      "127.0.0.1 - - [05/Jan/2023 10:18:14] \"GET / HTTP/1.1\" 200 -\n",
      "127.0.0.1 - - [05/Jan/2023 10:18:17] \"GET /hello_flask HTTP/1.1\" 404 -\n",
      "127.0.0.1 - - [05/Jan/2023 10:18:22] \"GET /hello HTTP/1.1\" 200 -\n",
      "127.0.0.1 - - [05/Jan/2023 10:18:26] \"GET /first HTTP/1.1\" 200 -\n"
     ]
    }
   ],
   "source": [
    "app = Flask(__name__)\n",
    "\n",
    "@app.route('/')\n",
    "def hello():\n",
    "    return '<h1>Hello World</h1>'\n",
    "\n",
    "@app.route('/hello')\n",
    "def hello_flask():\n",
    "    return '<h2>Hello Flask</h2>'\n",
    "\n",
    "@app.route('/first')\n",
    "def hello_first():\n",
    "    return '<h3>hello first</h3>'\n",
    "\n",
    "if __name__ == '__main__':\n",
    "    app.run(host='127.0.0.1', port='8080')"
   ]
  },
  {
   "cell_type": "code",
   "execution_count": 16,
   "id": "1263fb61",
   "metadata": {
    "collapsed": true
   },
   "outputs": [
    {
     "name": "stdout",
     "output_type": "stream",
     "text": [
      " * Serving Flask app \"__main__\" (lazy loading)\n",
      " * Environment: production\n",
      "\u001b[31m   WARNING: This is a development server. Do not use it in a production deployment.\u001b[0m\n",
      "\u001b[2m   Use a production WSGI server instead.\u001b[0m\n",
      " * Debug mode: off\n"
     ]
    },
    {
     "name": "stderr",
     "output_type": "stream",
     "text": [
      " * Running on http://127.0.0.1:8080/ (Press CTRL+C to quit)\n",
      "127.0.0.1 - - [05/Jan/2023 10:23:41] \"GET /first/sad HTTP/1.1\" 200 -\n",
      "127.0.0.1 - - [05/Jan/2023 10:23:43] \"GET /first/sad HTTP/1.1\" 200 -\n",
      "127.0.0.1 - - [05/Jan/2023 10:23:52] \"GET /profile/%20ddd HTTP/1.1\" 200 -\n"
     ]
    }
   ],
   "source": [
    "app = Flask(__name__)\n",
    "\n",
    "@app.route('/')\n",
    "def hello():\n",
    "    return '<h1>Hello World</h1>'\n",
    "\n",
    "@app.route('/profile/<username>')\n",
    "def get_profile(username):\n",
    "    return 'profile : ' + username\n",
    "\n",
    "@app.route('/first/<username>')\n",
    "def get_first(username):\n",
    "    return '<h3> hello ' + username + ' ! </h3>'\n",
    "\n",
    "if __name__ == '__main__':\n",
    "    app.run(host='127.0.0.1', port='8080')"
   ]
  },
  {
   "cell_type": "code",
   "execution_count": null,
   "id": "426d0f57",
   "metadata": {},
   "outputs": [],
   "source": [
    "# rest api\n",
    "# 서버에 요청해서 데이터를 받는 방식"
   ]
  },
  {
   "cell_type": "code",
   "execution_count": 17,
   "id": "73301314",
   "metadata": {},
   "outputs": [],
   "source": [
    "from flask import Flask, jsonify"
   ]
  },
  {
   "cell_type": "code",
   "execution_count": 18,
   "id": "5242e0ed",
   "metadata": {
    "collapsed": true
   },
   "outputs": [
    {
     "name": "stdout",
     "output_type": "stream",
     "text": [
      " * Serving Flask app \"__main__\" (lazy loading)\n",
      " * Environment: production\n",
      "\u001b[31m   WARNING: This is a development server. Do not use it in a production deployment.\u001b[0m\n",
      "\u001b[2m   Use a production WSGI server instead.\u001b[0m\n",
      " * Debug mode: off\n"
     ]
    },
    {
     "name": "stderr",
     "output_type": "stream",
     "text": [
      " * Running on http://127.0.0.1:8080/ (Press CTRL+C to quit)\n",
      "127.0.0.1 - - [05/Jan/2023 10:31:54] \"GET / HTTP/1.1\" 404 -\n",
      "127.0.0.1 - - [05/Jan/2023 10:32:03] \"GET /json_test HTTP/1.1\" 200 -\n",
      "127.0.0.1 - - [05/Jan/2023 10:32:23] \"GET /server_info HTTP/1.1\" 200 -\n"
     ]
    }
   ],
   "source": [
    "app = Flask(__name__)\n",
    "\n",
    "@app.route('/json_test')\n",
    "def hello_json():\n",
    "    data = {'name' : '찬호', 'family' : '박'}\n",
    "    return jsonify(data)\n",
    "\n",
    "@app.route('/server_info')\n",
    "def server_json():\n",
    "    data = {'server_name' : '0.0.0.0', 'server_port' : '8080'}\n",
    "    return jsonify(data)\n",
    "    \n",
    "if __name__ == '__main__':\n",
    "    app.run(host='127.0.0.1', port='8080')"
   ]
  },
  {
   "cell_type": "code",
   "execution_count": 19,
   "id": "5ce2e78a",
   "metadata": {},
   "outputs": [],
   "source": [
    "from flask import Flask, jsonify, request"
   ]
  },
  {
   "cell_type": "code",
   "execution_count": 20,
   "id": "08daec80",
   "metadata": {},
   "outputs": [
    {
     "name": "stdout",
     "output_type": "stream",
     "text": [
      " * Serving Flask app \"__main__\" (lazy loading)\n",
      " * Environment: production\n",
      "\u001b[31m   WARNING: This is a development server. Do not use it in a production deployment.\u001b[0m\n",
      "\u001b[2m   Use a production WSGI server instead.\u001b[0m\n",
      " * Debug mode: off\n"
     ]
    },
    {
     "name": "stderr",
     "output_type": "stream",
     "text": [
      " * Running on http://127.0.0.1:8080/ (Press CTRL+C to quit)\n",
      "127.0.0.1 - - [05/Jan/2023 10:40:03] \"GET /login HTTP/1.1\" 200 -\n",
      "127.0.0.1 - - [05/Jan/2023 10:40:22] \"GET /login?user_name=dave HTTP/1.1\" 200 -\n"
     ]
    }
   ],
   "source": [
    "app = Flask(__name__)\n",
    "\n",
    "@app.route('/login')\n",
    "def login():\n",
    "    username = request.args.get('user_name')\n",
    "    if username == 'dave':\n",
    "        return_data = {'auth' : 'success'}\n",
    "        # http://127.0.0.1:8080/login?user_name=dave\n",
    "    else:\n",
    "        return_data = {'auth' : 'failed'}\n",
    "    return jsonify(return_data)\n",
    "\n",
    "if __name__ == '__main__':\n",
    "    app.run(host='127.0.0.1', port='8080')"
   ]
  }
 ],
 "metadata": {
  "kernelspec": {
   "display_name": "Python 3 (ipykernel)",
   "language": "python",
   "name": "python3"
  },
  "language_info": {
   "codemirror_mode": {
    "name": "ipython",
    "version": 3
   },
   "file_extension": ".py",
   "mimetype": "text/x-python",
   "name": "python",
   "nbconvert_exporter": "python",
   "pygments_lexer": "ipython3",
   "version": "3.9.13"
  }
 },
 "nbformat": 4,
 "nbformat_minor": 5
}
