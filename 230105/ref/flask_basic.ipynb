{
 "cells": [
  {
   "cell_type": "code",
   "execution_count": 1,
   "id": "073f4cb0",
   "metadata": {
    "collapsed": true
   },
   "outputs": [
    {
     "name": "stdout",
     "output_type": "stream",
     "text": [
      "Requirement already satisfied: flask in c:\\users\\human\\anaconda3\\lib\\site-packages (1.1.2)\n",
      "Requirement already satisfied: Jinja2>=2.10.1 in c:\\users\\human\\anaconda3\\lib\\site-packages (from flask) (2.11.3)\n",
      "Requirement already satisfied: Werkzeug>=0.15 in c:\\users\\human\\anaconda3\\lib\\site-packages (from flask) (2.0.3)\n",
      "Requirement already satisfied: itsdangerous>=0.24 in c:\\users\\human\\anaconda3\\lib\\site-packages (from flask) (2.0.1)\n",
      "Requirement already satisfied: click>=5.1 in c:\\users\\human\\anaconda3\\lib\\site-packages (from flask) (8.0.4)\n",
      "Requirement already satisfied: colorama in c:\\users\\human\\anaconda3\\lib\\site-packages (from click>=5.1->flask) (0.4.5)\n",
      "Requirement already satisfied: MarkupSafe>=0.23 in c:\\users\\human\\anaconda3\\lib\\site-packages (from Jinja2>=2.10.1->flask) (2.0.1)\n"
     ]
    }
   ],
   "source": [
    "!pip install flask"
   ]
  },
  {
   "cell_type": "code",
   "execution_count": null,
   "id": "b225944c",
   "metadata": {},
   "outputs": [],
   "source": []
  },
  {
   "cell_type": "code",
   "execution_count": 2,
   "id": "cc10d267",
   "metadata": {},
   "outputs": [],
   "source": [
    "from flask import Flask"
   ]
  },
  {
   "cell_type": "code",
   "execution_count": null,
   "id": "e67f73c0",
   "metadata": {},
   "outputs": [],
   "source": []
  },
  {
   "cell_type": "code",
   "execution_count": 4,
   "id": "99a7616d",
   "metadata": {
    "collapsed": true
   },
   "outputs": [
    {
     "name": "stdout",
     "output_type": "stream",
     "text": [
      " * Serving Flask app \"__main__\" (lazy loading)\n",
      " * Environment: production\n",
      "\u001b[31m   WARNING: This is a development server. Do not use it in a production deployment.\u001b[0m\n",
      "\u001b[2m   Use a production WSGI server instead.\u001b[0m\n",
      " * Debug mode: off\n"
     ]
    },
    {
     "name": "stderr",
     "output_type": "stream",
     "text": [
      " * Running on http://127.0.0.1:8080/ (Press CTRL+C to quit)\n",
      "127.0.0.1 - - [05/Jan/2023 10:12:42] \"GET / HTTP/1.1\" 404 -\n",
      "127.0.0.1 - - [05/Jan/2023 10:12:42] \"GET /favicon.ico HTTP/1.1\" 404 -\n",
      "127.0.0.1 - - [05/Jan/2023 10:12:53] \"GET /hello_flask HTTP/1.1\" 200 -\n"
     ]
    }
   ],
   "source": [
    "app = Flask(__main__)\n",
    "\n",
    "@app.route('/hello_flask')\n",
    "def test():\n",
    "    return 'hello flask'\n",
    "\n",
    "if __name__ == '__main__':\n",
    "    app.run(host='127.0.0.1', port='8080')\n"
   ]
  },
  {
   "cell_type": "code",
   "execution_count": null,
   "id": "5532d690",
   "metadata": {},
   "outputs": [],
   "source": []
  },
  {
   "cell_type": "code",
   "execution_count": 6,
   "id": "87aacc8a",
   "metadata": {},
   "outputs": [
    {
     "name": "stdout",
     "output_type": "stream",
     "text": [
      " * Serving Flask app \"__main__\" (lazy loading)\n",
      " * Environment: production\n",
      "\u001b[31m   WARNING: This is a development server. Do not use it in a production deployment.\u001b[0m\n",
      "\u001b[2m   Use a production WSGI server instead.\u001b[0m\n",
      " * Debug mode: off\n"
     ]
    },
    {
     "name": "stderr",
     "output_type": "stream",
     "text": [
      " * Running on http://127.0.0.1:8080/ (Press CTRL+C to quit)\n",
      "127.0.0.1 - - [05/Jan/2023 10:17:50] \"GET / HTTP/1.1\" 200 -\n",
      "127.0.0.1 - - [05/Jan/2023 10:18:04] \"GET /hello HTTP/1.1\" 200 -\n",
      "127.0.0.1 - - [05/Jan/2023 10:18:15] \"GET /first HTTP/1.1\" 200 -\n"
     ]
    }
   ],
   "source": [
    "app = Flask(__name__)\n",
    "\n",
    "@app.route('/')\n",
    "def hello():\n",
    "    return '<h1>Hello World</h1>'\n",
    "\n",
    "@app.route('/hello')\n",
    "def hello_flask():\n",
    "    return '<h2>Hello Flask</h2>'\n",
    "\n",
    "@app.route('/first')\n",
    "def hello_first():\n",
    "    return '<h3>hello first</h3>'\n",
    "\n",
    "if __name__ == '__main__':\n",
    "    app.run(host='127.0.0.1', port='8080')"
   ]
  },
  {
   "cell_type": "code",
   "execution_count": null,
   "id": "ce7d4ae2",
   "metadata": {},
   "outputs": [],
   "source": []
  },
  {
   "cell_type": "code",
   "execution_count": 8,
   "id": "064ea34e",
   "metadata": {},
   "outputs": [
    {
     "name": "stdout",
     "output_type": "stream",
     "text": [
      " * Serving Flask app \"__main__\" (lazy loading)\n",
      " * Environment: production\n",
      "\u001b[31m   WARNING: This is a development server. Do not use it in a production deployment.\u001b[0m\n",
      "\u001b[2m   Use a production WSGI server instead.\u001b[0m\n",
      " * Debug mode: off\n"
     ]
    },
    {
     "name": "stderr",
     "output_type": "stream",
     "text": [
      " * Running on http://127.0.0.1:8080/ (Press CTRL+C to quit)\n",
      "127.0.0.1 - - [05/Jan/2023 10:26:27] \"GET /first/chanho HTTP/1.1\" 200 -\n",
      "127.0.0.1 - - [05/Jan/2023 10:26:29] \"GET /first/chanho HTTP/1.1\" 200 -\n"
     ]
    }
   ],
   "source": [
    "app = Flask(__name__)\n",
    "\n",
    "@app.route('/')\n",
    "def hello():\n",
    "    return '<h1> Hello World </h1>'\n",
    "\n",
    "@app.route('/profile/<username>')\n",
    "def get_profile(username):\n",
    "    return 'profile :' + username\n",
    "\n",
    "@app.route('/first/<username>')\n",
    "def get_first(username):\n",
    "    return '<h3> hello  ' + username + '! </h3>'\n",
    "\n",
    "if __name__ == '__main__':\n",
    "    app.run(host='127.0.0.1', port='8080')"
   ]
  },
  {
   "cell_type": "code",
   "execution_count": null,
   "id": "a4af2c46",
   "metadata": {},
   "outputs": [],
   "source": []
  },
  {
   "cell_type": "code",
   "execution_count": null,
   "id": "6576956d",
   "metadata": {},
   "outputs": [],
   "source": [
    "# rest api\n",
    "# 서버에 요청해서 데이터를 받는 방식"
   ]
  },
  {
   "cell_type": "code",
   "execution_count": 9,
   "id": "96a73725",
   "metadata": {},
   "outputs": [],
   "source": [
    "from flask import Flask, jsonify"
   ]
  },
  {
   "cell_type": "code",
   "execution_count": 11,
   "id": "022d09c3",
   "metadata": {
    "collapsed": true
   },
   "outputs": [
    {
     "name": "stdout",
     "output_type": "stream",
     "text": [
      " * Serving Flask app \"__main__\" (lazy loading)\n",
      " * Environment: production\n",
      "\u001b[31m   WARNING: This is a development server. Do not use it in a production deployment.\u001b[0m\n",
      "\u001b[2m   Use a production WSGI server instead.\u001b[0m\n",
      " * Debug mode: off\n"
     ]
    },
    {
     "name": "stderr",
     "output_type": "stream",
     "text": [
      " * Running on http://127.0.0.1:8080/ (Press CTRL+C to quit)\n",
      "[2023-01-05 10:32:46,553] ERROR in app: Exception on /json_test [GET]\n",
      "Traceback (most recent call last):\n",
      "  File \"C:\\Users\\human\\anaconda3\\lib\\site-packages\\flask\\app.py\", line 2447, in wsgi_app\n",
      "    response = self.full_dispatch_request()\n",
      "  File \"C:\\Users\\human\\anaconda3\\lib\\site-packages\\flask\\app.py\", line 1952, in full_dispatch_request\n",
      "    rv = self.handle_user_exception(e)\n",
      "  File \"C:\\Users\\human\\anaconda3\\lib\\site-packages\\flask\\app.py\", line 1821, in handle_user_exception\n",
      "    reraise(exc_type, exc_value, tb)\n",
      "  File \"C:\\Users\\human\\anaconda3\\lib\\site-packages\\flask\\_compat.py\", line 39, in reraise\n",
      "    raise value\n",
      "  File \"C:\\Users\\human\\anaconda3\\lib\\site-packages\\flask\\app.py\", line 1950, in full_dispatch_request\n",
      "    rv = self.dispatch_request()\n",
      "  File \"C:\\Users\\human\\anaconda3\\lib\\site-packages\\flask\\app.py\", line 1936, in dispatch_request\n",
      "    return self.view_functions[rule.endpoint](**req.view_args)\n",
      "  File \"C:\\Users\\human\\AppData\\Local\\Temp\\ipykernel_736\\1164947648.py\", line 6, in hello_json\n",
      "    return jsonify(date)\n",
      "NameError: name 'date' is not defined\n",
      "127.0.0.1 - - [05/Jan/2023 10:32:46] \"GET /json_test HTTP/1.1\" 500 -\n",
      "127.0.0.1 - - [05/Jan/2023 10:32:53] \"GET /json_test HTTP/1.1\" 200 -\n",
      "127.0.0.1 - - [05/Jan/2023 10:33:19] \"GET /server_info HTTP/1.1\" 200 -\n"
     ]
    }
   ],
   "source": [
    "app = Flask(__name__)\n",
    "\n",
    "@app.route('/json_test')\n",
    "def hello_json():\n",
    "    data = {'name': '찬호', 'family' : '박'}\n",
    "    return jsonify(data)\n",
    "\n",
    "@app.route('/server_info')\n",
    "def server_json():\n",
    "    data = {'server_name':'0.0.0.0', 'server_port': '8080'}\n",
    "    return jsonify(data)\n",
    "    \n",
    "if __name__ == '__main__':\n",
    "    app.run(host='127.0.0.1', port='8080')"
   ]
  },
  {
   "cell_type": "code",
   "execution_count": null,
   "id": "bd33c7cd",
   "metadata": {},
   "outputs": [],
   "source": []
  },
  {
   "cell_type": "code",
   "execution_count": 12,
   "id": "4ff947b5",
   "metadata": {},
   "outputs": [
    {
     "name": "stdout",
     "output_type": "stream",
     "text": [
      " * Serving Flask app \"__main__\" (lazy loading)\n",
      " * Environment: production\n",
      "\u001b[31m   WARNING: This is a development server. Do not use it in a production deployment.\u001b[0m\n",
      "\u001b[2m   Use a production WSGI server instead.\u001b[0m\n",
      " * Debug mode: off\n"
     ]
    },
    {
     "name": "stderr",
     "output_type": "stream",
     "text": [
      " * Running on http://127.0.0.1:8080/ (Press CTRL+C to quit)\n",
      "127.0.0.1 - - [05/Jan/2023 10:39:31] \"GET /login HTTP/1.1\" 200 -\n",
      "127.0.0.1 - - [05/Jan/2023 10:40:25] \"GET /login?user_name=chanho HTTP/1.1\" 200 -\n",
      "127.0.0.1 - - [05/Jan/2023 10:40:57] \"GET /login?user_name=dave HTTP/1.1\" 200 -\n"
     ]
    }
   ],
   "source": [
    "from flask import Flask, jsonify, request\n",
    "\n",
    "app = Flask(__name__)\n",
    "\n",
    "@app.route('/login')\n",
    "def login():\n",
    "    username = request.args.get('user_name')\n",
    "    if username == 'dave':\n",
    "        return_data = {'auth':'success'}\n",
    "    else:\n",
    "        return_data = {'auth':'failed'}\n",
    "    return jsonify(return_data)\n",
    "\n",
    "if __name__ == '__main__':\n",
    "    app.run(host='127.0.0.1', port='8080')"
   ]
  },
  {
   "cell_type": "code",
   "execution_count": null,
   "id": "4b080688",
   "metadata": {},
   "outputs": [],
   "source": []
  },
  {
   "cell_type": "code",
   "execution_count": null,
   "id": "5154a6a8",
   "metadata": {},
   "outputs": [],
   "source": []
  },
  {
   "cell_type": "code",
   "execution_count": null,
   "id": "1cd4eaa3",
   "metadata": {},
   "outputs": [],
   "source": []
  },
  {
   "cell_type": "code",
   "execution_count": null,
   "id": "22df2c4b",
   "metadata": {},
   "outputs": [],
   "source": []
  }
 ],
 "metadata": {
  "kernelspec": {
   "display_name": "Python 3 (ipykernel)",
   "language": "python",
   "name": "python3"
  },
  "language_info": {
   "codemirror_mode": {
    "name": "ipython",
    "version": 3
   },
   "file_extension": ".py",
   "mimetype": "text/x-python",
   "name": "python",
   "nbconvert_exporter": "python",
   "pygments_lexer": "ipython3",
   "version": "3.9.13"
  }
 },
 "nbformat": 4,
 "nbformat_minor": 5
}
