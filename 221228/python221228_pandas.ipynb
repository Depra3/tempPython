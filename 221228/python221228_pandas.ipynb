{
 "cells": [
  {
   "cell_type": "code",
   "execution_count": 2,
   "id": "ddfac1d1-750b-4e90-8fed-6a3bd7bc5ead",
   "metadata": {},
   "outputs": [
    {
     "name": "stdout",
     "output_type": "stream",
     "text": [
      "1.5.2\n"
     ]
    }
   ],
   "source": [
    "import pandas as pd\n",
    "print(pd.__version__)"
   ]
  },
  {
   "cell_type": "markdown",
   "id": "1d906491-13e5-4b11-8816-aa38779c5c2d",
   "metadata": {},
   "source": [
    "## 데이터 불러오기"
   ]
  },
  {
   "cell_type": "code",
   "execution_count": 10,
   "id": "8e2fff7d-bcd4-4f27-8455-684872b48db2",
   "metadata": {},
   "outputs": [
    {
     "name": "stdout",
     "output_type": "stream",
     "text": [
      "         Date Location  Lemon  Orange  Temperature  Leaflets  Price\n",
      "0    7/1/2016     Park     97      67           70      90.0   0.25\n",
      "1    7/2/2016     Park     98      67           72      90.0   0.25\n",
      "2    7/3/2016     Park    110      77           71     104.0   0.25\n",
      "3    7/4/2016    Beach    134      99           76      98.0   0.25\n",
      "4    7/5/2016    Beach    159     118           78     135.0   0.25\n",
      "5    7/6/2016    Beach    103      69           82      90.0   0.25\n",
      "6    7/6/2016    Beach    103      69           82      90.0   0.25\n",
      "7    7/7/2016    Beach    143     101           81     135.0   0.25\n",
      "8         NaN    Beach    123      86           82     113.0   0.25\n",
      "9    7/9/2016    Beach    134      95           80     126.0   0.25\n",
      "10  7/10/2016    Beach    140      98           82     131.0   0.25\n",
      "11  7/11/2016    Beach    162     120           83     135.0   0.25\n",
      "12  7/12/2016    Beach    130      95           84      99.0   0.25\n",
      "13  7/13/2016    Beach    109      75           77      99.0   0.25\n",
      "14  7/14/2016    Beach    122      85           78     113.0   0.25\n",
      "15  7/15/2016    Beach     98      62           75     108.0   0.50\n",
      "16  7/16/2016    Beach     81      50           74      90.0   0.50\n",
      "17  7/17/2016    Beach    115      76           77     126.0   0.50\n",
      "18  7/18/2016     Park    131      92           81     122.0   0.50\n",
      "19  7/19/2016     Park    122      85           78     113.0   0.50\n",
      "20  7/20/2016     Park     71      42           70       NaN   0.50\n",
      "21  7/21/2016     Park     83      50           77      90.0   0.50\n",
      "22  7/22/2016     Park    112      75           80     108.0   0.50\n",
      "23  7/23/2016     Park    120      82           81     117.0   0.50\n",
      "24  7/24/2016     Park    121      82           82     117.0   0.50\n",
      "25  7/25/2016     Park    156     113           84     135.0   0.50\n",
      "26  7/26/2016     Park    176     129           83     158.0   0.35\n",
      "27  7/27/2016     Park    104      68           80      99.0   0.35\n",
      "28  7/28/2016     Park     96      63           82      90.0   0.35\n",
      "29  7/29/2016     Park    100      66           81      95.0   0.35\n",
      "30  7/30/2016    Beach     88      57           82      81.0   0.35\n",
      "31  7/31/2016    Beach     76      47           82      68.0   0.35\n",
      "<class 'pandas.core.frame.DataFrame'>\n"
     ]
    }
   ],
   "source": [
    "data = pd.read_csv(\"Lemonade2016.csv\")\n",
    "print(data)\n",
    "print(type(data))"
   ]
  },
  {
   "cell_type": "code",
   "execution_count": 14,
   "id": "635ffe37-4aa9-42d3-b876-f9ef083f8ec4",
   "metadata": {},
   "outputs": [
    {
     "data": {
      "text/plain": [
       "Index(['Date', 'Location', 'Lemon', 'Orange', 'Temperature', 'Leaflets',\n",
       "       'Price'],\n",
       "      dtype='object')"
      ]
     },
     "execution_count": 14,
     "metadata": {},
     "output_type": "execute_result"
    }
   ],
   "source": [
    "# data.info()\n",
    "data.columns"
   ]
  },
  {
   "cell_type": "code",
   "execution_count": 8,
   "id": "25118039-ae4d-4a23-b2ee-513f84df7aae",
   "metadata": {},
   "outputs": [
    {
     "name": "stdout",
     "output_type": "stream",
     "text": [
      "<class 'pandas.core.series.Series'>\n",
      "Index: 2 entries, a to b\n",
      "Series name: None\n",
      "Non-Null Count  Dtype\n",
      "--------------  -----\n",
      "2 non-null      int64\n",
      "dtypes: int64(1)\n",
      "memory usage: 32.0+ bytes\n"
     ]
    }
   ],
   "source": [
    "d = {\"a\" : 1, \"b\" : 2}\n",
    "ser = pd.Series(data = d, index=[\"a\", \"b\"])\n",
    "ser.info()"
   ]
  }
 ],
 "metadata": {
  "kernelspec": {
   "display_name": "Python 3 (ipykernel)",
   "language": "python",
   "name": "python3"
  },
  "language_info": {
   "codemirror_mode": {
    "name": "ipython",
    "version": 3
   },
   "file_extension": ".py",
   "mimetype": "text/x-python",
   "name": "python",
   "nbconvert_exporter": "python",
   "pygments_lexer": "ipython3",
   "version": "3.11.1"
  }
 },
 "nbformat": 4,
 "nbformat_minor": 5
}
