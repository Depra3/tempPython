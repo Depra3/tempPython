{
  "cells": [
    {
      "cell_type": "markdown",
      "metadata": {
        "id": "Gr85KOROVP2d"
      },
      "source": [
        "## 기초 문법\n"
      ]
    },
    {
      "cell_type": "markdown",
      "metadata": {
        "id": "eswEJmGI54Xx"
      },
      "source": [
        "### 파이썬 확장자명\n",
        "- .py : 개발용\n",
        "- .ipynb : 분석가, 데이터 사이언티스트, 강의용\n",
        " + 주피터 노트북, 주피터 랩"
      ]
    },
    {
      "cell_type": "code",
      "execution_count": null,
      "metadata": {
        "colab": {
          "base_uri": "https://localhost:8080/"
        },
        "id": "RkUihsxI2ICG",
        "outputId": "0afe3cb7-21b3-4582-9abd-ad37845ea4b0"
      },
      "outputs": [
        {
          "data": {
            "text/plain": [
              "2"
            ]
          },
          "execution_count": 1,
          "metadata": {},
          "output_type": "execute_result"
        }
      ],
      "source": [
        "1+1"
      ]
    },
    {
      "cell_type": "code",
      "execution_count": null,
      "metadata": {
        "colab": {
          "base_uri": "https://localhost:8080/"
        },
        "id": "sTsxRSyb45jX",
        "outputId": "04a52303-5e1b-412b-e376-781ba1eb79c8"
      },
      "outputs": [
        {
          "name": "stdout",
          "output_type": "stream",
          "text": [
            "Hello, World\n"
          ]
        }
      ],
      "source": [
        "print(\"Hello, World\")"
      ]
    },
    {
      "cell_type": "markdown",
      "metadata": {
        "id": "OzfEDStO4-cm"
      },
      "source": [
        "## 주석 처리\n",
        "- 한줄 주석처리\n",
        "- 여러줄 주석 처리"
      ]
    },
    {
      "cell_type": "code",
      "execution_count": null,
      "metadata": {
        "colab": {
          "base_uri": "https://localhost:8080/"
        },
        "id": "uwuw7-G25DbW",
        "outputId": "70ddabf7-0495-495e-d3dc-b97dbc97378f"
      },
      "outputs": [
        {
          "name": "stdout",
          "output_type": "stream",
          "text": [
            "Hello, World1\n"
          ]
        }
      ],
      "source": [
        "# 한줄 주석 처리, 주석\n",
        "\n",
        "print(\"Hello, World1\")"
      ]
    },
    {
      "cell_type": "code",
      "execution_count": null,
      "metadata": {
        "colab": {
          "base_uri": "https://localhost:8080/"
        },
        "id": "syxMNLe85KM-",
        "outputId": "61b45c7e-dc34-4190-8572-0d1916fe7b57"
      },
      "outputs": [
        {
          "name": "stdout",
          "output_type": "stream",
          "text": [
            "Hello, World1\n",
            "Hello, World2\n"
          ]
        }
      ],
      "source": [
        "\"\"\"\n",
        "ssss\n",
        "dsaf\n",
        "asdf\n",
        "\"\"\"\n",
        "'''\n",
        "asdfasd\n",
        "'''\n",
        "print(\"Hello, World2\")\n"
      ]
    },
    {
      "cell_type": "markdown",
      "metadata": {
        "id": "9ffELTs29BVn"
      },
      "source": [
        "ipynb 파일을 md + 이미지 같이 변환 가능\n",
        "--> 노션에서 내보내기와 동일"
      ]
    },
    {
      "cell_type": "markdown",
      "metadata": {
        "id": "-fNWwUfV8xSH"
      },
      "source": [
        "## 그림"
      ]
    },
    {
      "cell_type": "markdown",
      "metadata": {
        "id": "2BqwIGpe9ZFc"
      },
      "source": [
        "## 변수의 종류\n",
        "- 변수의 종류 : 숫자, 문자, 논리(True, false), NULL"
      ]
    },
    {
      "cell_type": "code",
      "execution_count": null,
      "metadata": {
        "colab": {
          "base_uri": "https://localhost:8080/"
        },
        "id": "wXbYO9Mw9nvS",
        "outputId": "80355b8f-da72-4e11-dd34-a5dbc672dfd1"
      },
      "outputs": [
        {
          "name": "stdout",
          "output_type": "stream",
          "text": [
            "1\n",
            "<class 'int'>\n"
          ]
        }
      ],
      "source": [
        "# 정수형\n",
        "num_int = 1\n",
        "print(num_int)\n",
        "print(type(num_int))"
      ]
    },
    {
      "cell_type": "code",
      "execution_count": null,
      "metadata": {
        "colab": {
          "base_uri": "https://localhost:8080/"
        },
        "id": "jFLvrSZg91qH",
        "outputId": "1b10a183-2d72-4e9e-8a89-9beaee4d9140"
      },
      "outputs": [
        {
          "name": "stdout",
          "output_type": "stream",
          "text": [
            "0.2\n",
            "<class 'float'>\n"
          ]
        }
      ],
      "source": [
        "# 실수형\n",
        "num_float = 0.2\n",
        "print(num_float)\n",
        "print(type(num_float))"
      ]
    },
    {
      "cell_type": "code",
      "execution_count": null,
      "metadata": {
        "colab": {
          "base_uri": "https://localhost:8080/"
        },
        "id": "PwpKK3Zv-lUY",
        "outputId": "9c9e1eef-f0ee-4811-b37e-8b97dd17c59e"
      },
      "outputs": [
        {
          "name": "stdout",
          "output_type": "stream",
          "text": [
            "False\n",
            "<class 'bool'>\n"
          ]
        }
      ],
      "source": [
        "# 논리 자료형\n",
        "bool_true = False # True / False\n",
        "print(bool_true)\n",
        "print(type(bool_true))"
      ]
    },
    {
      "cell_type": "code",
      "execution_count": null,
      "metadata": {
        "colab": {
          "base_uri": "https://localhost:8080/"
        },
        "id": "z1uJfxZY-vww",
        "outputId": "29cbeec8-96b1-42b3-e7fe-10f51c6b18b6"
      },
      "outputs": [
        {
          "name": "stdout",
          "output_type": "stream",
          "text": [
            "None\n",
            "<class 'NoneType'>\n"
          ]
        }
      ],
      "source": [
        "# NULL 자료형\n",
        "none_x = None\n",
        "print(none_x)\n",
        "print(type(none_x))"
      ]
    },
    {
      "cell_type": "markdown",
      "metadata": {
        "id": "gfgEK02O_BgI"
      },
      "source": [
        "## 4가지 자료형 : Scalar 자료형\n",
        "- int, float, bool, NoneType\n",
        "- 더는 나눌 수 없는 최소 단위의 자료형\n",
        "  + 이 객체 하나로는 반복문 사용이 불가\n",
        "  "
      ]
    },
    {
      "cell_type": "markdown",
      "metadata": {
        "id": "_aVYXTmj_1F3"
      },
      "source": [
        "## 정수형 사칙 연산\n",
        "- 결과값의 자료형 확인\n",
        "- 특이한 사칙연산자 하나 있음(나눗셈)"
      ]
    },
    {
      "cell_type": "code",
      "execution_count": null,
      "metadata": {
        "colab": {
          "base_uri": "https://localhost:8080/"
        },
        "id": "Zj6S76-W_6vo",
        "outputId": "f331550a-4ceb-45ac-9342-44f7fef9d2ff"
      },
      "outputs": [
        {
          "name": "stdout",
          "output_type": "stream",
          "text": [
            "6\n",
            "<class 'int'>\n",
            "2\n",
            "<class 'int'>\n",
            "8\n",
            "<class 'int'>\n",
            "2.0\n",
            "<class 'float'>\n"
          ]
        }
      ],
      "source": [
        "a = 4\n",
        "b = 2\n",
        "\n",
        "c1 = a + b\n",
        "c2 = a - b\n",
        "c3 = a * b\n",
        "c4 = a / b\n",
        "\n",
        "print(c1); print(type(c1))\n",
        "print(c2); print(type(c2))\n",
        "print(c3); print(type(c3))\n",
        "print(c4); print(type(c4))"
      ]
    },
    {
      "cell_type": "markdown",
      "metadata": {
        "id": "MAx4vIYeAkLY"
      },
      "source": [
        "## 실수형 사칙 연산\n",
        "- 결과값의 자료형 확인\n"
      ]
    },
    {
      "cell_type": "code",
      "execution_count": null,
      "metadata": {
        "colab": {
          "base_uri": "https://localhost:8080/"
        },
        "id": "Aie4Qeb9Aqo2",
        "outputId": "c89cf857-53df-4d37-f01e-1949236d8a29"
      },
      "outputs": [
        {
          "name": "stdout",
          "output_type": "stream",
          "text": [
            "6.0\n",
            "<class 'float'>\n",
            "2.0\n",
            "<class 'float'>\n",
            "8.0\n",
            "<class 'float'>\n",
            "2.0\n",
            "<class 'float'>\n"
          ]
        }
      ],
      "source": [
        "a = 4.0\n",
        "b = 2.0\n",
        "\n",
        "c1 = a + b\n",
        "c2 = a - b\n",
        "c3 = a * b\n",
        "c4 = a / b\n",
        "\n",
        "print(c1); print(type(c1))\n",
        "print(c2); print(type(c2))\n",
        "print(c3); print(type(c3))\n",
        "print(c4); print(type(c4))"
      ]
    },
    {
      "cell_type": "markdown",
      "metadata": {
        "id": "_0RaPTR0A5EP"
      },
      "source": [
        "## 논리형 연산자\n",
        "- AND / OR / NOT(옵션)"
      ]
    },
    {
      "cell_type": "code",
      "execution_count": null,
      "metadata": {
        "colab": {
          "base_uri": "https://localhost:8080/"
        },
        "id": "crrWVsD0BBKX",
        "outputId": "b6496533-5b75-4b0c-edc0-bae2888e78e8"
      },
      "outputs": [
        {
          "name": "stdout",
          "output_type": "stream",
          "text": [
            "True\n",
            "False\n",
            "False\n",
            "False\n"
          ]
        }
      ],
      "source": [
        "print(True and True)\n",
        "print(True and False)\n",
        "print(False and True)\n",
        "print(False and False)"
      ]
    },
    {
      "cell_type": "code",
      "execution_count": null,
      "metadata": {
        "colab": {
          "base_uri": "https://localhost:8080/"
        },
        "id": "gLUEv9owBSTg",
        "outputId": "d0cdd222-c2bf-4440-a1cf-0e54c6467f45"
      },
      "outputs": [
        {
          "name": "stdout",
          "output_type": "stream",
          "text": [
            "True\n",
            "True\n",
            "True\n",
            "False\n"
          ]
        }
      ],
      "source": [
        "print(True or True)\n",
        "print(True or False)\n",
        "print(False or True)\n",
        "print(False or False)"
      ]
    },
    {
      "cell_type": "markdown",
      "metadata": {
        "id": "Q_P1kCDOBZjZ"
      },
      "source": [
        "## 부등호 연산자\n",
        "- '>', '<', '>=', '<='"
      ]
    },
    {
      "cell_type": "code",
      "execution_count": null,
      "metadata": {
        "colab": {
          "base_uri": "https://localhost:8080/"
        },
        "id": "ehULxzKQBkQf",
        "outputId": "557fa069-2b8a-4ccd-9c31-5c1ba7791cbd"
      },
      "outputs": [
        {
          "name": "stdout",
          "output_type": "stream",
          "text": [
            "True\n",
            "False\n",
            "True\n",
            "False\n"
          ]
        }
      ],
      "source": [
        "print(4>3); print(4<3); print(4>=3); print(4<=3)"
      ]
    },
    {
      "cell_type": "markdown",
      "metadata": {
        "id": "kxGXTuR2B_kT"
      },
      "source": [
        "## 두개의 값 비교\n",
        "- 입력받아서 True, False가 나오도록 간단한 프로그램 작성\n",
        "- 형변환 배우기"
      ]
    },
    {
      "cell_type": "code",
      "execution_count": null,
      "metadata": {
        "colab": {
          "base_uri": "https://localhost:8080/"
        },
        "id": "H36L8-PhCHYv",
        "outputId": "a9c0a9ce-cc81-442c-bec8-f3b33d42f8cc"
      },
      "outputs": [
        {
          "name": "stdout",
          "output_type": "stream",
          "text": [
            "값을 입력해주세요! 2\n",
            "-------------\n",
            "2\n",
            "<class 'str'>\n"
          ]
        }
      ],
      "source": [
        "var = input(\"값을 입력해주세요! \")\n",
        "print(\"-------------\")\n",
        "print(var)\n",
        "print(type(var))"
      ]
    },
    {
      "cell_type": "code",
      "execution_count": null,
      "metadata": {
        "colab": {
          "base_uri": "https://localhost:8080/"
        },
        "id": "iBK69uX4CvNZ",
        "outputId": "1edfb74a-9e63-464f-a325-42da952ec2c7"
      },
      "outputs": [
        {
          "name": "stdout",
          "output_type": "stream",
          "text": [
            "값을 입력해주세요! 123\n",
            "값을 입력해주세요! 23\n",
            "값을 입력해주세요! ASD\n",
            "--------------------\n",
            "146.0\n",
            "ASDASD\n",
            "--------------------\n",
            "<class 'float'>\n",
            "<class 'str'>\n"
          ]
        }
      ],
      "source": [
        "var1 = int(input(\"값을 입력해주세요! \"))\n",
        "var2 = float(input(\"값을 입력해주세요! \"))\n",
        "var3 = str(input(\"값을 입력해주세요! \"))\n",
        "print(\"--------------------\")\n",
        "print(var1+var2)\n",
        "print(var3*2) # *는 반복\n",
        "print(\"--------------------\")\n",
        "print(type(var1+var2))\n",
        "print(type(var3))\n"
      ]
    },
    {
      "cell_type": "code",
      "execution_count": null,
      "metadata": {
        "colab": {
          "base_uri": "https://localhost:8080/"
        },
        "id": "v0ZxnjLeDZGY",
        "outputId": "788a0c79-78c8-41ee-d958-45741c72f9ef"
      },
      "outputs": [
        {
          "name": "stdout",
          "output_type": "stream",
          "text": [
            "True\n"
          ]
        }
      ],
      "source": [
        "print(var1>var2)"
      ]
    },
    {
      "cell_type": "markdown",
      "metadata": {
        "id": "YFMJ_pYzFLHQ"
      },
      "source": [
        "시퀀스 자료형 : String, List, Tuple => numpy,pandas\n",
        "Non 시퀀스 자료형 : Set, Dictionary"
      ]
    },
    {
      "cell_type": "markdown",
      "metadata": {
        "id": "cHNqQovoxhtI"
      },
      "source": [
        "## 오후 수업의 목표\n",
        "- 파이썬 함수 (=Methods) 사용법 익히기\n",
        "- 관련 문서 확인하기(https://docs.python.org/3/search.html?q=capital&check_keywords=yes&area=default)"
      ]
    },
    {
      "cell_type": "code",
      "execution_count": null,
      "metadata": {
        "colab": {
          "base_uri": "https://localhost:8080/"
        },
        "id": "pmd8Uz_AxrK4",
        "outputId": "5c711f18-5019-4d41-9b92-1ee2fcfa3757"
      },
      "outputs": [
        {
          "name": "stdout",
          "output_type": "stream",
          "text": [
            "<class 'str'>\n",
            "I love you\n"
          ]
        }
      ],
      "source": [
        "# Capitalize\n",
        "text = 'i love YOU' # str 클래스 객체\n",
        "print(type(text))\n",
        "result = text.capitalize()\n",
        "print(result)"
      ]
    },
    {
      "cell_type": "code",
      "execution_count": null,
      "metadata": {
        "colab": {
          "base_uri": "https://localhost:8080/",
          "height": 246
        },
        "id": "MsHW8YefzLvC",
        "outputId": "0c3e7dc0-86a7-4ec6-9d4a-9657d3f89a54"
      },
      "outputs": [
        {
          "name": "stdout",
          "output_type": "stream",
          "text": [
            "<class 'str'>\n"
          ]
        },
        {
          "ename": "AttributeError",
          "evalue": "ignored",
          "output_type": "error",
          "traceback": [
            "\u001b[0;31m---------------------------------------------------------------------------\u001b[0m",
            "\u001b[0;31mAttributeError\u001b[0m                            Traceback (most recent call last)",
            "\u001b[0;32m<ipython-input-45-20a72e77c622>\u001b[0m in \u001b[0;36m<module>\u001b[0;34m\u001b[0m\n\u001b[1;32m      2\u001b[0m \u001b[0mtext\u001b[0m \u001b[0;34m=\u001b[0m \u001b[0;34m'i love YOU'\u001b[0m \u001b[0;31m# str 클래스 객체\u001b[0m\u001b[0;34m\u001b[0m\u001b[0;34m\u001b[0m\u001b[0m\n\u001b[1;32m      3\u001b[0m \u001b[0mprint\u001b[0m\u001b[0;34m(\u001b[0m\u001b[0mtype\u001b[0m\u001b[0;34m(\u001b[0m\u001b[0mtext\u001b[0m\u001b[0;34m)\u001b[0m\u001b[0;34m)\u001b[0m\u001b[0;34m\u001b[0m\u001b[0;34m\u001b[0m\u001b[0m\n\u001b[0;32m----> 4\u001b[0;31m \u001b[0mresult\u001b[0m \u001b[0;34m=\u001b[0m \u001b[0mtext\u001b[0m\u001b[0;34m.\u001b[0m\u001b[0mcapital\u001b[0m\u001b[0;34m(\u001b[0m\u001b[0;34m)\u001b[0m\u001b[0;34m\u001b[0m\u001b[0;34m\u001b[0m\u001b[0m\n\u001b[0m\u001b[1;32m      5\u001b[0m \u001b[0mprint\u001b[0m\u001b[0;34m(\u001b[0m\u001b[0mresult\u001b[0m\u001b[0;34m)\u001b[0m\u001b[0;34m\u001b[0m\u001b[0;34m\u001b[0m\u001b[0m\n",
            "\u001b[0;31mAttributeError\u001b[0m: 'str' object has no attribute 'capital'"
          ]
        }
      ],
      "source": [
        "# Capitalize\n",
        "text = 'i love YOU' # str 클래스 객체\n",
        "print(type(text))\n",
        "result = text.capital()\n",
        "print(result)"
      ]
    },
    {
      "cell_type": "code",
      "execution_count": null,
      "metadata": {
        "colab": {
          "base_uri": "https://localhost:8080/"
        },
        "id": "djuFhnBS1Hd5",
        "outputId": "fb8d2d38-f4f2-442b-c7fa-f0047722bbef"
      },
      "outputs": [
        {
          "name": "stdout",
          "output_type": "stream",
          "text": [
            "    python is best    \n",
            "python is best\n"
          ]
        }
      ],
      "source": [
        "text = '    python is best    '\n",
        "print(text)\n",
        "result = text.strip()\n",
        "print(result)"
      ]
    },
    {
      "cell_type": "code",
      "execution_count": null,
      "metadata": {
        "colab": {
          "base_uri": "https://localhost:8080/"
        },
        "id": "kiImkWej2O0q",
        "outputId": "721be60d-405a-4216-ab06-a6b618eb36f4"
      },
      "outputs": [
        {
          "name": "stdout",
          "output_type": "stream",
          "text": [
            "['바퀴에', '대한', '파단면', '분석,', '성분분석', '등을', '조사한', '결과', '사고원인은', '사고바퀴가', '사용한도에', '도달하기', '이전에', '피로파괴로', '파손된', '것으로', '나타났다.']\n"
          ]
        }
      ],
      "source": [
        "# split\n",
        "# 문장을 분리하는 메서드\n",
        "text = \"바퀴에 대한 파단면 분석, 성분분석 등을 조사한 결과 사고원인은 사고바퀴가 사용한도에 도달하기 이전에 피로파괴로 파손된 것으로 나타났다.\"\n",
        "result = text.split(' ')\n",
        "print(result) # 결과값이 list로 나옴"
      ]
    },
    {
      "cell_type": "markdown",
      "metadata": {
        "id": "yuv926Mf5AZB"
      },
      "source": [
        "# 리스트 자료형"
      ]
    },
    {
      "cell_type": "code",
      "execution_count": null,
      "metadata": {
        "colab": {
          "base_uri": "https://localhost:8080/"
        },
        "id": "Mjr3P9f04_Vp",
        "outputId": "b3538f7e-d1d3-4749-b988-bd1371f309fb"
      },
      "outputs": [
        {
          "name": "stdout",
          "output_type": "stream",
          "text": [
            "[100, 200, 300, 400]\n",
            "None\n",
            "[100, 200, 300, 400, [400, 500, 600]]\n"
          ]
        }
      ],
      "source": [
        "a = [100, 200, 300]\n",
        "result = a.append(400)\n",
        "print(a)\n",
        "# 기대값 [100, 200, 300]\n",
        "# 결과값 [100, 200, 300, 400]\n",
        "print(result)\n",
        "# 기대값 [100, 200, 300, 400]\n",
        "# 결과값 None\n",
        "# ==> 리스트에서 자주 발생\n",
        "\n",
        "b = [400, 500, 600]\n",
        "# a.append(400)\n",
        "# a.append(500)\n",
        "# a.append(600)\n",
        "a.append(b)\n",
        "print(a)"
      ]
    },
    {
      "cell_type": "markdown",
      "metadata": {
        "id": "z5vLAg966srC"
      },
      "source": [
        "문자열과 리스트 저장 방식이 다름"
      ]
    },
    {
      "cell_type": "code",
      "execution_count": null,
      "metadata": {
        "colab": {
          "base_uri": "https://localhost:8080/"
        },
        "id": "3fL26Ium_U7x",
        "outputId": "36c8a2d8-fcc3-4db4-931a-e5dd12e1d6da"
      },
      "outputs": [
        {
          "name": "stdout",
          "output_type": "stream",
          "text": [
            "[100, 200, 300, 400, 500, 600]\n"
          ]
        }
      ],
      "source": [
        "a = [100, 200, 300]\n",
        "b = [400, 500, 600]\n",
        "\n",
        "# 반복문 활용(복잡)\n",
        "# extend()\n",
        "a.extend(b)\n",
        "\n",
        "print(a)"
      ]
    },
    {
      "cell_type": "markdown",
      "metadata": {
        "id": "HoDknV0P_s8y"
      },
      "source": [
        "- 리스트 중간에 새로운 값을 추가"
      ]
    },
    {
      "cell_type": "code",
      "execution_count": null,
      "metadata": {
        "colab": {
          "base_uri": "https://localhost:8080/"
        },
        "id": "DMGV084c_vCV",
        "outputId": "5cfefeae-5442-48c4-bd6b-cf6fe7564329"
      },
      "outputs": [
        {
          "name": "stdout",
          "output_type": "stream",
          "text": [
            "[100, 150, 200, 300]\n"
          ]
        }
      ],
      "source": [
        "# insert()\n",
        "a = [100, 200, 300]\n",
        "\n",
        "# 100과 200 사이에 150을 추가\n",
        "# insert(index, value) index자리의 값을 뒤로 밀고 index 자리에 value를 추가\n",
        "a.insert(1,150)\n",
        "print(a)"
      ]
    },
    {
      "cell_type": "markdown",
      "metadata": {
        "id": "TDjmOO1VAors"
      },
      "source": [
        "# 리스트 내 특정 값 삭제"
      ]
    },
    {
      "cell_type": "code",
      "execution_count": null,
      "metadata": {
        "colab": {
          "base_uri": "https://localhost:8080/"
        },
        "id": "KVuRv-liAr8h",
        "outputId": "2b1eac01-506f-4dd3-ab3f-ea4c4c00e13a"
      },
      "outputs": [
        {
          "name": "stdout",
          "output_type": "stream",
          "text": [
            "[2, 1, 2]\n",
            "[2, 2]\n"
          ]
        }
      ],
      "source": [
        "# remove(value) index아님\n",
        "# list안에 없는 value값을 넣을 시 오류 발생\n",
        "# 0자리부터 시작\n",
        "a = [1, 2, 1, 2]\n",
        "a.remove(1)\n",
        "print(a)\n",
        "\n",
        "a.remove(1)\n",
        "print(a)"
      ]
    },
    {
      "cell_type": "code",
      "execution_count": null,
      "metadata": {
        "colab": {
          "base_uri": "https://localhost:8080/"
        },
        "id": "I1yyVdQmBNjj",
        "outputId": "cbf52986-5992-4321-afe8-0290b81b4974"
      },
      "outputs": [
        {
          "name": "stdout",
          "output_type": "stream",
          "text": [
            "[0, 2, 3, 4, 5, 6, 7, 8, 9]\n",
            "[0, 6, 7, 8, 9]\n",
            "[0, 6, 7, 8]\n",
            "[]\n"
          ]
        }
      ],
      "source": [
        "a = [0, 1, 2 , 3, 4, 5, 6, 7, 8, 9]\n",
        "\n",
        "# 1 삭제 del a[index] value아님\n",
        "del a[1]\n",
        "print(a)\n",
        "\n",
        "# 범위로 삭제\n",
        "del a[1:5] # index 1부터 5까지 삭제\n",
        "print(a)\n",
        "\n",
        "a.pop()\n",
        "print(a)\n",
        "\n",
        "# 전체 삭제\n",
        "a.clear()\n",
        "print(a)"
      ]
    },
    {
      "cell_type": "code",
      "execution_count": null,
      "metadata": {
        "colab": {
          "base_uri": "https://localhost:8080/"
        },
        "id": "DiLoqT0UCZVS",
        "outputId": "14235fea-a407-44f3-9dca-7179108a2e1f"
      },
      "outputs": [
        {
          "name": "stdout",
          "output_type": "stream",
          "text": [
            "2\n"
          ]
        }
      ],
      "source": [
        "a = [\"Gold\", \"Gold\", \"Silver\", \"Silver\"]\n",
        "\n",
        "# Silver가 처음 등장하는 index 번호 궁금\n",
        "print(a.index(\"Silver\"))\n"
      ]
    },
    {
      "cell_type": "code",
      "execution_count": null,
      "metadata": {
        "colab": {
          "base_uri": "https://localhost:8080/"
        },
        "id": "eig64endC3Lz",
        "outputId": "f187cb49-8857-43ed-8e25-e69164bdda5c"
      },
      "outputs": [
        {
          "name": "stdout",
          "output_type": "stream",
          "text": [
            "[1, 2, 3, 4, 5, 6]\n",
            "[6, 5, 4, 3, 2, 1]\n"
          ]
        }
      ],
      "source": [
        "# 정렬(오름차순)\n",
        "a = [1, 6, 5, 2, 3, 4]\n",
        "a.sort()\n",
        "print(a)\n",
        "\n",
        "# 내림차순\n",
        "a.sort(reverse=True)\n",
        "# a.reverse() - 순서 거꾸로 함\n",
        "print(a)"
      ]
    },
    {
      "cell_type": "code",
      "execution_count": null,
      "metadata": {
        "colab": {
          "base_uri": "https://localhost:8080/"
        },
        "id": "pVd9dT5XEnbz",
        "outputId": "6af987c5-6421-4fd9-92b1-8818a0d9c1fd"
      },
      "outputs": [
        {
          "name": "stdout",
          "output_type": "stream",
          "text": [
            "['a', 'b', 'c']\n"
          ]
        }
      ],
      "source": [
        "a = [1, 6, 5, 2, 3, 4, \"a\"]\n",
        "a.sort() # sort는 숫자 정렬만 가능\n",
        "b = [\"b\", \"c\", \"a\"]\n",
        "b.sort()\n",
        "print(b)"
      ]
    },
    {
      "cell_type": "code",
      "execution_count": null,
      "metadata": {
        "colab": {
          "base_uri": "https://localhost:8080/"
        },
        "id": "sm8MrlOdFCA7",
        "outputId": "05c68778-f27b-4467-c45b-e7637b8b0038"
      },
      "outputs": [
        {
          "name": "stdout",
          "output_type": "stream",
          "text": [
            "1\n",
            "6\n",
            "6\n"
          ]
        }
      ],
      "source": [
        "a = [1, 6, 5, 2, 3, 4]\n",
        "print(min(a))\n",
        "print(max(a))\n",
        "print(len(a))"
      ]
    },
    {
      "cell_type": "markdown",
      "metadata": {
        "id": "BXX-qyCMFcHT"
      },
      "source": [
        "# List vs Tuple\n",
        "- List : 한번 생성 후, Mutable(수정,삭제,추가 가능), [1, 2, 3] \n",
        "- Tuple : 한번 생성 후, Immutable(수정, 삭제, 추가 불가, (1, 2 ,3)\n",
        "\n",
        "  => 메모리 효율성 측면 : Tuple이 List보다 좋음"
      ]
    },
    {
      "cell_type": "markdown",
      "metadata": {
        "id": "a0vG_i6EGGMF"
      },
      "source": [
        "# 튜플\n",
        "- 튜플 생성"
      ]
    },
    {
      "cell_type": "code",
      "execution_count": null,
      "metadata": {
        "colab": {
          "base_uri": "https://localhost:8080/"
        },
        "id": "x2UiocRUGH2z",
        "outputId": "134f205d-ebb8-4c9e-e537-2ca25ddb69fe"
      },
      "outputs": [
        {
          "name": "stdout",
          "output_type": "stream",
          "text": [
            "(0,)\n",
            "(0, 1, 2)\n",
            "(0, 1, 2, 3)\n",
            "-----------------\n",
            "<class 'tuple'>\n",
            "<class 'tuple'>\n",
            "<class 'tuple'>\n",
            "(0, 0, 1, 2, 3)\n",
            "-----------------\n",
            "1\n",
            "<class 'int'>\n"
          ]
        }
      ],
      "source": [
        "tuple1 = (0, )\n",
        "tuple2 = (0, 1, 2)\n",
        "tuple3 = 0, 1, 2, 3\n",
        "\n",
        "print(tuple1)\n",
        "print(tuple2)\n",
        "print(tuple3)\n",
        "print(\"-----------------\")\n",
        "print(type(tuple1))\n",
        "print(type(tuple2))\n",
        "print(type(tuple3))\n",
        "\n",
        "print(tuple1 + tuple3)\n",
        "print(\"-----------------\")\n",
        "tuple0 = (1) # 소괄호 안에 쉼표가 없으면 int 취급\n",
        "print(tuple0)\n",
        "print(type(tuple0))"
      ]
    },
    {
      "cell_type": "code",
      "execution_count": null,
      "metadata": {
        "colab": {
          "base_uri": "https://localhost:8080/"
        },
        "id": "C0AU1luCGfFz",
        "outputId": "0134dbdc-4705-40c8-b642-0a69960c16ec"
      },
      "outputs": [
        {
          "name": "stdout",
          "output_type": "stream",
          "text": [
            "1\n",
            "<class 'int'>\n"
          ]
        }
      ],
      "source": [
        "tuple0 = (1) # 소괄호 안에 쉼표가 없으면 int 취급\n",
        "print(tuple0)\n",
        "print(type(tuple0))"
      ]
    },
    {
      "cell_type": "code",
      "execution_count": null,
      "metadata": {
        "colab": {
          "base_uri": "https://localhost:8080/",
          "height": 210
        },
        "id": "XxSADrBDcHiW",
        "outputId": "ff7d2630-6fb7-45ad-c15a-7917f05e7f5f"
      },
      "outputs": [
        {
          "ename": "AttributeError",
          "evalue": "ignored",
          "output_type": "error",
          "traceback": [
            "\u001b[0;31m---------------------------------------------------------------------------\u001b[0m",
            "\u001b[0;31mAttributeError\u001b[0m                            Traceback (most recent call last)",
            "\u001b[0;32m<ipython-input-142-640488807d02>\u001b[0m in \u001b[0;36m<module>\u001b[0;34m\u001b[0m\n\u001b[1;32m      1\u001b[0m \u001b[0ma\u001b[0m \u001b[0;34m=\u001b[0m \u001b[0;34m(\u001b[0m\u001b[0;36m0\u001b[0m\u001b[0;34m,\u001b[0m \u001b[0;36m1\u001b[0m\u001b[0;34m,\u001b[0m \u001b[0;36m2\u001b[0m\u001b[0;34m)\u001b[0m\u001b[0;34m\u001b[0m\u001b[0;34m\u001b[0m\u001b[0m\n\u001b[0;32m----> 2\u001b[0;31m \u001b[0ma\u001b[0m\u001b[0;34m.\u001b[0m\u001b[0mappend\u001b[0m\u001b[0;34m(\u001b[0m\u001b[0;36m4\u001b[0m\u001b[0;34m)\u001b[0m\u001b[0;34m\u001b[0m\u001b[0;34m\u001b[0m\u001b[0m\n\u001b[0m\u001b[1;32m      3\u001b[0m \u001b[0mprint\u001b[0m\u001b[0;34m(\u001b[0m\u001b[0ma\u001b[0m\u001b[0;34m)\u001b[0m\u001b[0;34m\u001b[0m\u001b[0;34m\u001b[0m\u001b[0m\n",
            "\u001b[0;31mAttributeError\u001b[0m: 'tuple' object has no attribute 'append'"
          ]
        }
      ],
      "source": [
        "a = (0, 1, 2)\n",
        "a.append(4)\n",
        "print(a)"
      ]
    },
    {
      "cell_type": "code",
      "execution_count": null,
      "metadata": {
        "colab": {
          "base_uri": "https://localhost:8080/",
          "height": 246
        },
        "id": "jPYfsd4QGsUa",
        "outputId": "b11e5d41-cd50-41d4-a9a1-9ef42244c65c"
      },
      "outputs": [
        {
          "name": "stdout",
          "output_type": "stream",
          "text": [
            "(0, 1, 2, 'A')\n"
          ]
        },
        {
          "ename": "AttributeError",
          "evalue": "ignored",
          "output_type": "error",
          "traceback": [
            "\u001b[0;31m---------------------------------------------------------------------------\u001b[0m",
            "\u001b[0;31mAttributeError\u001b[0m                            Traceback (most recent call last)",
            "\u001b[0;32m<ipython-input-99-4aa884287943>\u001b[0m in \u001b[0;36m<module>\u001b[0;34m\u001b[0m\n\u001b[1;32m      2\u001b[0m \u001b[0mprint\u001b[0m\u001b[0;34m(\u001b[0m\u001b[0ma\u001b[0m\u001b[0;34m)\u001b[0m\u001b[0;34m\u001b[0m\u001b[0;34m\u001b[0m\u001b[0m\n\u001b[1;32m      3\u001b[0m \u001b[0;34m\u001b[0m\u001b[0m\n\u001b[0;32m----> 4\u001b[0;31m \u001b[0ma\u001b[0m\u001b[0;34m.\u001b[0m\u001b[0mremove\u001b[0m\u001b[0;34m(\u001b[0m\u001b[0;34m\"A\"\u001b[0m\u001b[0;34m)\u001b[0m \u001b[0;31m# 수정 불가\u001b[0m\u001b[0;34m\u001b[0m\u001b[0;34m\u001b[0m\u001b[0m\n\u001b[0m\u001b[1;32m      5\u001b[0m \u001b[0mprint\u001b[0m\u001b[0;34m(\u001b[0m\u001b[0ma\u001b[0m\u001b[0;34m)\u001b[0m\u001b[0;34m\u001b[0m\u001b[0;34m\u001b[0m\u001b[0m\n",
            "\u001b[0;31mAttributeError\u001b[0m: 'tuple' object has no attribute 'remove'"
          ]
        }
      ],
      "source": [
        "a = (0, 1, 2, \"A\")\n",
        "print(a)\n",
        "\n",
        "a.remove(\"A\") # 수정 불가\n",
        "print(a)"
      ]
    },
    {
      "cell_type": "code",
      "execution_count": null,
      "metadata": {
        "colab": {
          "base_uri": "https://localhost:8080/",
          "height": 210
        },
        "id": "tTdQOC5wHgQi",
        "outputId": "bcf3c85f-355e-40a5-ea08-891f006ee6a9"
      },
      "outputs": [
        {
          "ename": "TypeError",
          "evalue": "ignored",
          "output_type": "error",
          "traceback": [
            "\u001b[0;31m---------------------------------------------------------------------------\u001b[0m",
            "\u001b[0;31mTypeError\u001b[0m                                 Traceback (most recent call last)",
            "\u001b[0;32m<ipython-input-103-4303e94d0c5f>\u001b[0m in \u001b[0;36m<module>\u001b[0;34m\u001b[0m\n\u001b[1;32m      1\u001b[0m \u001b[0ma\u001b[0m \u001b[0;34m=\u001b[0m \u001b[0;34m(\u001b[0m\u001b[0;36m0\u001b[0m\u001b[0;34m,\u001b[0m \u001b[0;36m1\u001b[0m\u001b[0;34m,\u001b[0m \u001b[0;36m2\u001b[0m\u001b[0;34m,\u001b[0m \u001b[0;34m\"A\"\u001b[0m\u001b[0;34m)\u001b[0m\u001b[0;34m\u001b[0m\u001b[0;34m\u001b[0m\u001b[0m\n\u001b[0;32m----> 2\u001b[0;31m \u001b[0;32mdel\u001b[0m \u001b[0ma\u001b[0m\u001b[0;34m[\u001b[0m\u001b[0;36m3\u001b[0m\u001b[0;34m]\u001b[0m\u001b[0;34m\u001b[0m\u001b[0;34m\u001b[0m\u001b[0m\n\u001b[0m\u001b[1;32m      3\u001b[0m \u001b[0mprint\u001b[0m\u001b[0;34m(\u001b[0m\u001b[0ma\u001b[0m\u001b[0;34m)\u001b[0m\u001b[0;34m\u001b[0m\u001b[0;34m\u001b[0m\u001b[0m\n",
            "\u001b[0;31mTypeError\u001b[0m: 'tuple' object doesn't support item deletion"
          ]
        }
      ],
      "source": [
        "a = (0, 1, 2, \"A\")\n",
        "del a[3]\n",
        "print(a)\n"
      ]
    },
    {
      "cell_type": "markdown",
      "metadata": {
        "id": "VO5PJocRILRD"
      },
      "source": [
        "### 튜플 인덱싱 및 슬라이싱"
      ]
    },
    {
      "cell_type": "code",
      "execution_count": null,
      "metadata": {
        "colab": {
          "base_uri": "https://localhost:8080/"
        },
        "id": "mPuR1MIUIJFd",
        "outputId": "d764c46d-7eae-48ed-f9ea-a3549199cb4f"
      },
      "outputs": [
        {
          "name": "stdout",
          "output_type": "stream",
          "text": [
            "0\n",
            "4\n",
            "(0, 3, 6, 9)\n"
          ]
        }
      ],
      "source": [
        "tuple0 = (0, 1, 2, 3, 4, 5, 6, 7, 8, 9)\n",
        "print(tuple0[0])\n",
        "print(tuple0[4])\n",
        "print(tuple0[::3])"
      ]
    },
    {
      "cell_type": "markdown",
      "metadata": {
        "id": "QA19X42DNYDQ"
      },
      "source": [
        "## Dictionary\n",
        "- JSON과 유사한 자료"
      ]
    },
    {
      "cell_type": "code",
      "execution_count": null,
      "metadata": {
        "colab": {
          "base_uri": "https://localhost:8080/"
        },
        "id": "R9pS4TBCNihL",
        "outputId": "b4281972-da38-48bb-9e3f-2cf0b58ddb2c"
      },
      "outputs": [
        {
          "name": "stdout",
          "output_type": "stream",
          "text": [
            "{1: 'One', 2: 'Two', 3: 'Three'}\n"
          ]
        }
      ],
      "source": [
        "# {key:value}\n",
        "numbers = {1 : \"One\", 2 : \"Two\", 3 : \"Three\"}\n",
        "print(numbers)"
      ]
    },
    {
      "cell_type": "code",
      "execution_count": null,
      "metadata": {
        "colab": {
          "base_uri": "https://localhost:8080/"
        },
        "id": "R8wlHivfNxFU",
        "outputId": "eb46bcb3-bc85-4272-fb25-933bbee7dced"
      },
      "outputs": [
        {
          "name": "stdout",
          "output_type": "stream",
          "text": [
            "{'한국': '서울', '일본': '동경', '중국': '북경'}\n"
          ]
        }
      ],
      "source": [
        "country_capital = {\"한국\":\"서울\", \"일본\":\"동경\", \"중국\":\"북경\"}\n",
        "print(country_capital)"
      ]
    },
    {
      "cell_type": "code",
      "execution_count": null,
      "metadata": {
        "colab": {
          "base_uri": "https://localhost:8080/"
        },
        "id": "TdmgIywxOK5W",
        "outputId": "5fe45413-d021-4a67-880f-d2166056eacf"
      },
      "outputs": [
        {
          "name": "stdout",
          "output_type": "stream",
          "text": [
            "One\n",
            "서울\n"
          ]
        }
      ],
      "source": [
        "print(numbers[1])\n",
        "print(country_capital[\"한국\"])"
      ]
    },
    {
      "cell_type": "code",
      "execution_count": null,
      "metadata": {
        "colab": {
          "base_uri": "https://localhost:8080/"
        },
        "id": "HdjU2r6GOS9b",
        "outputId": "c8c572df-fbfd-49b7-9a6b-e8d5b1d4b018"
      },
      "outputs": [
        {
          "name": "stdout",
          "output_type": "stream",
          "text": [
            "{1: 'One', 2: 'Two', 3: 'Three', 4: 'Four'}\n",
            "{'한국': '서울', '일본': '동경', '중국': '북경', '미국': '뉴욕'}\n"
          ]
        }
      ],
      "source": [
        "numbers[4] = \"Four\"\n",
        "print(numbers)\n",
        "\n",
        "country_capital[\"미국\"] = \"뉴욕\"\n",
        "print(country_capital)"
      ]
    },
    {
      "cell_type": "markdown",
      "metadata": {
        "id": "ZSH3jBYCOs2M"
      },
      "source": [
        "- 틀린 값 수정"
      ]
    },
    {
      "cell_type": "code",
      "execution_count": null,
      "metadata": {
        "colab": {
          "base_uri": "https://localhost:8080/"
        },
        "id": "5pmr37hAOt54",
        "outputId": "80abc181-ceb8-46fa-d8c3-282ed390d8f2"
      },
      "outputs": [
        {
          "name": "stdout",
          "output_type": "stream",
          "text": [
            "{'한국': '서울', '일본': '동경', '중국': '북경', '미국': '워싱턴'}\n"
          ]
        }
      ],
      "source": [
        "country_capital[\"미국\"] = \"워싱턴\"\n",
        "print(country_capital)"
      ]
    },
    {
      "cell_type": "markdown",
      "metadata": {
        "id": "ddrMHFndOyOT"
      },
      "source": [
        "- 삭제"
      ]
    },
    {
      "cell_type": "code",
      "execution_count": null,
      "metadata": {
        "colab": {
          "base_uri": "https://localhost:8080/"
        },
        "id": "XRv3T2iWO0ar",
        "outputId": "ff1558e1-e531-4e08-b3e2-5737fb15fb82"
      },
      "outputs": [
        {
          "name": "stdout",
          "output_type": "stream",
          "text": [
            "{'한국': '서울', '일본': '동경', '중국': '북경'}\n"
          ]
        }
      ],
      "source": [
        "del country_capital[\"미국\"]\n",
        "print(country_capital)"
      ]
    },
    {
      "cell_type": "markdown",
      "metadata": {
        "id": "1PT0wGuQPME-"
      },
      "source": [
        "### Dictionary 메서드\n",
        "- keys() : key 값만 출력\n",
        "- values() : value 값만 출력"
      ]
    },
    {
      "cell_type": "code",
      "execution_count": null,
      "metadata": {
        "colab": {
          "base_uri": "https://localhost:8080/"
        },
        "id": "pk5rIIAOPU84",
        "outputId": "7e3849aa-715c-469e-d233-884072e3fc6b"
      },
      "outputs": [
        {
          "name": "stdout",
          "output_type": "stream",
          "text": [
            "['한국', '일본', '중국']\n",
            "<class 'list'>\n"
          ]
        }
      ],
      "source": [
        "result = list(country_capital.keys())\n",
        "print(result)\n",
        "print(type(result))"
      ]
    },
    {
      "cell_type": "code",
      "execution_count": null,
      "metadata": {
        "colab": {
          "base_uri": "https://localhost:8080/"
        },
        "id": "5rTUz9b7Px1J",
        "outputId": "3409858d-3900-4417-f067-abaac083af3e"
      },
      "outputs": [
        {
          "name": "stdout",
          "output_type": "stream",
          "text": [
            "['서울', '동경', '북경']\n",
            "<class 'list'>\n"
          ]
        }
      ],
      "source": [
        "result = list(country_capital.values())\n",
        "print(result)\n",
        "print(type(result))"
      ]
    },
    {
      "cell_type": "code",
      "execution_count": null,
      "metadata": {
        "colab": {
          "base_uri": "https://localhost:8080/"
        },
        "id": "hCLa9xPrP32r",
        "outputId": "70efc818-e09e-42b7-824e-7a7d2cd5477d"
      },
      "outputs": [
        {
          "name": "stdout",
          "output_type": "stream",
          "text": [
            "[('한국', '서울'), ('일본', '동경'), ('중국', '북경')]\n",
            "<class 'list'>\n"
          ]
        }
      ],
      "source": [
        "result = list(country_capital.items())\n",
        "print(result)\n",
        "print(type(result))"
      ]
    },
    {
      "cell_type": "markdown",
      "metadata": {
        "id": "Nid8jfVdQP0t"
      },
      "source": [
        "## 조건문"
      ]
    },
    {
      "cell_type": "code",
      "execution_count": null,
      "metadata": {
        "colab": {
          "base_uri": "https://localhost:8080/"
        },
        "id": "EYJaVbrnQQ6c",
        "outputId": "75b6a985-f10b-4979-eaa8-6f80bc7311cd"
      },
      "outputs": [
        {
          "name": "stdout",
          "output_type": "stream",
          "text": [
            "점수를 입력해주세요 (0~100) : 68\n",
            "68\n",
            "D등급\n"
          ]
        }
      ],
      "source": [
        "score = int(input(\"점수를 입력해주세요 (0~100) : \"))\n",
        "print(score)\n",
        "\n",
        "if score >= 90:\n",
        "  #코드 작성\n",
        "  print('A등급')\n",
        "elif score >= 80:\n",
        "  print('B등급')\n",
        "elif score >= 70:\n",
        "  print('C등급')\n",
        "elif score >= 60:\n",
        "  print('D등급')\n",
        "elif score >= 50:\n",
        "  print('E등급')\n",
        "else :\n",
        "  print('F등급')"
      ]
    },
    {
      "cell_type": "code",
      "execution_count": null,
      "metadata": {
        "id": "7RCYTXvrhd6v"
      },
      "outputs": [],
      "source": []
    },
    {
      "cell_type": "markdown",
      "metadata": {
        "id": "sdo-oDVMSK3s"
      },
      "source": [
        "## 반복문\n",
        "- Hello World 여러번 입력"
      ]
    },
    {
      "cell_type": "code",
      "execution_count": null,
      "metadata": {
        "colab": {
          "base_uri": "https://localhost:8080/"
        },
        "id": "5dDLToEcSfpj",
        "outputId": "86ab3b71-e751-487e-fca1-ff7914c846f8"
      },
      "outputs": [
        {
          "data": {
            "text/plain": [
              "range(0, 3)"
            ]
          },
          "execution_count": 127,
          "metadata": {},
          "output_type": "execute_result"
        }
      ],
      "source": [
        "range(3)"
      ]
    },
    {
      "cell_type": "code",
      "execution_count": null,
      "metadata": {
        "id": "oQ30AhV3Si7c"
      },
      "outputs": [],
      "source": [
        "# for i in 범위가 정해진 값:"
      ]
    },
    {
      "cell_type": "code",
      "execution_count": null,
      "metadata": {
        "colab": {
          "base_uri": "https://localhost:8080/"
        },
        "id": "kd4kM8jQSP-c",
        "outputId": "5ab2a3a3-90ee-4f0e-85fa-a6e4105b81dc"
      },
      "outputs": [
        {
          "name": "stdout",
          "output_type": "stream",
          "text": [
            "1 Hello World\n",
            "2 Hello World\n",
            "3 Hello World\n"
          ]
        }
      ],
      "source": [
        "for i in range(3):\n",
        "  # 코드 작성\n",
        "  print(i+1, \"Hello World\")"
      ]
    },
    {
      "cell_type": "code",
      "execution_count": null,
      "metadata": {
        "colab": {
          "base_uri": "https://localhost:8080/"
        },
        "id": "dBi3d6fzS0vl",
        "outputId": "aadbc48b-beb0-4d48-d19d-4dcd1d64aed8"
      },
      "outputs": [
        {
          "name": "stdout",
          "output_type": "stream",
          "text": [
            "H\n",
            "e\n",
            "l\n",
            "l\n",
            "o\n"
          ]
        }
      ],
      "source": [
        "a = \"Hello\"\n",
        "for x in a:\n",
        "  print(x)"
      ]
    },
    {
      "cell_type": "code",
      "execution_count": null,
      "metadata": {
        "colab": {
          "base_uri": "https://localhost:8080/"
        },
        "id": "sIlo9qNIS8qE",
        "outputId": "04d833a6-ba0a-4e37-c2c1-71250fbf4b4f"
      },
      "outputs": [
        {
          "name": "stdout",
          "output_type": "stream",
          "text": [
            "100\n",
            "200\n",
            "300\n"
          ]
        }
      ],
      "source": [
        "a = [100, 200, 300]\n",
        "for x in a:\n",
        "  print(x)"
      ]
    },
    {
      "cell_type": "code",
      "execution_count": null,
      "metadata": {
        "id": "rLRNAQnuTLW9"
      },
      "outputs": [],
      "source": [
        "# for i in 범위가 정해진 값(=시퀀스 데이터):"
      ]
    },
    {
      "cell_type": "markdown",
      "metadata": {
        "id": "ra0kG_JNTYbU"
      },
      "source": [
        "## 파이썬 반복문 여러가지 방법\n",
        "- 종류 겁나 많음"
      ]
    },
    {
      "cell_type": "code",
      "execution_count": null,
      "metadata": {
        "colab": {
          "base_uri": "https://localhost:8080/"
        },
        "id": "nZlwQDrgTeyv",
        "outputId": "93b5d36b-c7b2-4760-8ba0-335c86f76f95"
      },
      "outputs": [
        {
          "name": "stdout",
          "output_type": "stream",
          "text": [
            "0 A\n",
            "1 B\n",
            "2 C\n"
          ]
        }
      ],
      "source": [
        "a = [\"A\", \"B\", \"C\"]\n",
        "\n",
        "num = 0\n",
        "for idx in a:\n",
        "  print(num, idx)\n",
        "  num = num+1"
      ]
    },
    {
      "cell_type": "code",
      "execution_count": null,
      "metadata": {
        "colab": {
          "base_uri": "https://localhost:8080/"
        },
        "id": "GPLcRcxDT_wN",
        "outputId": "8826d819-e9c1-41d5-f039-6a56b4bde797"
      },
      "outputs": [
        {
          "name": "stdout",
          "output_type": "stream",
          "text": [
            "0 A\n",
            "1 B\n",
            "2 C\n"
          ]
        }
      ],
      "source": [
        "a = [\"A\", \"B\", \"C\"]\n",
        "\n",
        "for idx, value in enumerate(a):\n",
        "  print(idx, value)"
      ]
    },
    {
      "cell_type": "code",
      "execution_count": null,
      "metadata": {
        "colab": {
          "base_uri": "https://localhost:8080/"
        },
        "id": "yUYFuQlLUQZV",
        "outputId": "2c219fc4-eabf-4812-8970-83b8442db651"
      },
      "outputs": [
        {
          "name": "stdout",
          "output_type": "stream",
          "text": [
            "A 1\n",
            "B 2\n",
            "C 3\n"
          ]
        }
      ],
      "source": [
        "str_list = [\"A\", \"B\", \"C\"]\n",
        "num_list = [1, 2, 3]\n",
        "\n",
        "for strs, nums in zip(str_list, num_list):\n",
        "  print(strs, nums)"
      ]
    },
    {
      "cell_type": "markdown",
      "metadata": {
        "id": "w61cWOr1UzL4"
      },
      "source": [
        "## while문"
      ]
    },
    {
      "cell_type": "code",
      "execution_count": null,
      "metadata": {
        "colab": {
          "base_uri": "https://localhost:8080/"
        },
        "id": "8O8mAaRGU1KU",
        "outputId": "ca0d707d-2edf-4f21-e559-5af092f1fecd"
      },
      "outputs": [
        {
          "name": "stdout",
          "output_type": "stream",
          "text": [
            "Hello World\n",
            "Hello World\n",
            "Hello World\n",
            "Hello World\n",
            "Hello World\n",
            "Hello World\n"
          ]
        }
      ],
      "source": [
        "i = 1\n",
        "while i < 7:\n",
        "  print(\"Hello World\")\n",
        "  i = i+1 # i += 1"
      ]
    },
    {
      "cell_type": "markdown",
      "metadata": {
        "id": "lMpmnzyPVDH2"
      },
      "source": [
        "## 파이썬 다운 문법 : 파이써닉 방식\n",
        "- Pythonic way\n",
        "- for loop 반복문을 한 줄로 처리\n",
        "- List Comprehension (리스트 컴프리핸션)"
      ]
    },
    {
      "cell_type": "code",
      "execution_count": null,
      "metadata": {
        "colab": {
          "base_uri": "https://localhost:8080/"
        },
        "id": "I93-t4qvVMFe",
        "outputId": "fe0161b5-31b5-46cf-9625-31a06078efee"
      },
      "outputs": [
        {
          "data": {
            "text/plain": [
              "['apple', 'human']"
            ]
          },
          "execution_count": 136,
          "metadata": {},
          "output_type": "execute_result"
        }
      ],
      "source": [
        "a = ['computer', 'apple', 'human', 'zoo', 'country']\n",
        "\n",
        "# a가 들어간 문자만 리스트에 담기\n",
        "result_list = []\n",
        "for x in a:\n",
        "  if \"a\" in x:\n",
        "    result_list.append(x)\n",
        "result_list"
      ]
    },
    {
      "cell_type": "code",
      "execution_count": null,
      "metadata": {
        "colab": {
          "base_uri": "https://localhost:8080/"
        },
        "id": "a33Px10hVxO-",
        "outputId": "99596fb2-a81b-4f75-8202-a8218e24eb17"
      },
      "outputs": [
        {
          "data": {
            "text/plain": [
              "['apple', 'human']"
            ]
          },
          "execution_count": 137,
          "metadata": {},
          "output_type": "execute_result"
        }
      ],
      "source": [
        "a = ['computer', 'apple', 'human', 'zoo', 'country']\n",
        "result2 = [x for x in a if \"a\" in x]\n",
        "result2"
      ]
    }
  ],
  "metadata": {
    "colab": {
      "provenance": [],
      "toc_visible": true
    },
    "kernelspec": {
      "display_name": "Python 3",
      "name": "python3"
    },
    "language_info": {
      "name": "python"
    }
  },
  "nbformat": 4,
  "nbformat_minor": 0
}
