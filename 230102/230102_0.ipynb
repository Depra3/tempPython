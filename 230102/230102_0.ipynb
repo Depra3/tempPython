{
 "cells": [
  {
   "cell_type": "markdown",
   "id": "16f44e1a",
   "metadata": {},
   "source": [
    "# String"
   ]
  },
  {
   "cell_type": "code",
   "execution_count": null,
   "id": "e0ef111a",
   "metadata": {},
   "outputs": [],
   "source": [
    "print('hello python')"
   ]
  },
  {
   "cell_type": "code",
   "execution_count": 21,
   "id": "965707e4",
   "metadata": {},
   "outputs": [],
   "source": [
    "s ='python programming'"
   ]
  },
  {
   "cell_type": "code",
   "execution_count": 22,
   "id": "501d6efa",
   "metadata": {},
   "outputs": [
    {
     "name": "stdout",
     "output_type": "stream",
     "text": [
      "0\n",
      "7\n"
     ]
    }
   ],
   "source": [
    "# 1. 'p'의 인덱스 값을 출력하시오\n",
    "a = 0\n",
    "for x in s:\n",
    "    if x == 'p':\n",
    "        print(a)\n",
    "    a += 1\n",
    "\n",
    "# s.find('x')"
   ]
  },
  {
   "cell_type": "code",
   "execution_count": 121,
   "id": "91752947",
   "metadata": {},
   "outputs": [
    {
     "data": {
      "text/plain": [
       "'Pro'"
      ]
     },
     "execution_count": 121,
     "metadata": {},
     "output_type": "execute_result"
    }
   ],
   "source": [
    "# 2. 'Pro'를 출력하시오\n",
    "s[7:10].capitalize()"
   ]
  },
  {
   "cell_type": "code",
   "execution_count": 37,
   "id": "ef92ffae",
   "metadata": {},
   "outputs": [
    {
     "data": {
      "text/plain": [
       "'ing'"
      ]
     },
     "execution_count": 37,
     "metadata": {},
     "output_type": "execute_result"
    }
   ],
   "source": [
    "# 3. 'ing'를 출력하시오\n",
    "s[-3:]"
   ]
  },
  {
   "cell_type": "code",
   "execution_count": 38,
   "id": "9bd5884c",
   "metadata": {},
   "outputs": [
    {
     "data": {
      "text/plain": [
       "18"
      ]
     },
     "execution_count": 38,
     "metadata": {},
     "output_type": "execute_result"
    }
   ],
   "source": [
    "# 4. s의 길이를 출력하시오\n",
    "len(s)"
   ]
  },
  {
   "cell_type": "code",
   "execution_count": 39,
   "id": "f14f9f56",
   "metadata": {},
   "outputs": [
    {
     "data": {
      "text/plain": [
       "2"
      ]
     },
     "execution_count": 39,
     "metadata": {},
     "output_type": "execute_result"
    }
   ],
   "source": [
    "# 5. 'o'의 갯수를 출력하시오\n",
    "s.count('o')"
   ]
  },
  {
   "cell_type": "code",
   "execution_count": 41,
   "id": "4715b4c7",
   "metadata": {},
   "outputs": [
    {
     "name": "stdout",
     "output_type": "stream",
     "text": [
      "['python', 'programming']\n"
     ]
    }
   ],
   "source": [
    "# 6. 'python'과 'programming'을 분리해서 리스트에 담으시오\n",
    "list = s.split(' ')\n",
    "print(list)"
   ]
  },
  {
   "cell_type": "code",
   "execution_count": 42,
   "id": "399d1fcd",
   "metadata": {},
   "outputs": [
    {
     "data": {
      "text/plain": [
       "True"
      ]
     },
     "execution_count": 42,
     "metadata": {},
     "output_type": "execute_result"
    }
   ],
   "source": [
    "# 7. 'python'이 s에 포함되어 있는지 확인하시오\n",
    "'python' in s"
   ]
  },
  {
   "cell_type": "code",
   "execution_count": 44,
   "id": "8d41175e",
   "metadata": {},
   "outputs": [
    {
     "name": "stdout",
     "output_type": "stream",
     "text": [
      "이름을 입력하세요. aaa\n",
      "aaa님 환영합니다!!\n"
     ]
    }
   ],
   "source": [
    "# 8. 이름을 입력받은 후 => '이름씨 환영합니다!!'가 출력되도록 하시오\n",
    "name = input('이름을 입력하세요. ')\n",
    "# print(name+'씨 환영합니다!!')\n",
    "print('{}님 환영합니다!!'.format(name))"
   ]
  },
  {
   "cell_type": "code",
   "execution_count": 46,
   "id": "40f625df",
   "metadata": {},
   "outputs": [
    {
     "data": {
      "text/plain": [
       "'PYTHON PROGRAMMING'"
      ]
     },
     "execution_count": 46,
     "metadata": {},
     "output_type": "execute_result"
    }
   ],
   "source": [
    "# 9. s를 모두 대문자로 전환하시오.\n",
    "s.upper()"
   ]
  },
  {
   "cell_type": "code",
   "execution_count": 51,
   "id": "f72c74ce",
   "metadata": {},
   "outputs": [
    {
     "data": {
      "text/plain": [
       "'java programming'"
      ]
     },
     "execution_count": 51,
     "metadata": {},
     "output_type": "execute_result"
    }
   ],
   "source": [
    "# 10. 'python'을 java로 대체하시오\n",
    "# list[0]='java'\n",
    "# print(list)\n",
    "s.replace('python', 'java')"
   ]
  },
  {
   "cell_type": "markdown",
   "id": "a9ee8ce2",
   "metadata": {},
   "source": [
    "# List"
   ]
  },
  {
   "cell_type": "code",
   "execution_count": 109,
   "id": "becf307e",
   "metadata": {},
   "outputs": [],
   "source": [
    "sol = ['태양', '수성', '금성', '지구', '화성', '목성', '지구']\n",
    "sol1 = ['토성', '천왕성', '해왕성']\n",
    "\n",
    "# sol 리스트에서 풀이를 하시오"
   ]
  },
  {
   "cell_type": "code",
   "execution_count": 110,
   "id": "7be23a34",
   "metadata": {},
   "outputs": [
    {
     "data": {
      "text/plain": [
       "['수성', '금성', '지구']"
      ]
     },
     "execution_count": 110,
     "metadata": {},
     "output_type": "execute_result"
    }
   ],
   "source": [
    "# 1. '수성', ' 금성', '지구' 를 출력하시오\n",
    "sol[1:4]"
   ]
  },
  {
   "cell_type": "code",
   "execution_count": 66,
   "id": "548ea0c2",
   "metadata": {},
   "outputs": [],
   "source": [
    "# 2. '지구'의 Index를 출력하시오"
   ]
  },
  {
   "cell_type": "code",
   "execution_count": 111,
   "id": "da48762b",
   "metadata": {},
   "outputs": [
    {
     "data": {
      "text/plain": [
       "3"
      ]
     },
     "execution_count": 111,
     "metadata": {},
     "output_type": "execute_result"
    }
   ],
   "source": [
    "sol.index('지구')"
   ]
  },
  {
   "cell_type": "code",
   "execution_count": 112,
   "id": "00b852df",
   "metadata": {},
   "outputs": [
    {
     "data": {
      "text/plain": [
       "['태양', '수성', '금성', '지구', '해왕성', '목성', '지구']"
      ]
     },
     "execution_count": 112,
     "metadata": {},
     "output_type": "execute_result"
    }
   ],
   "source": [
    "# 3. '화성'을 '해왕성'으로 수정하시오\n",
    "sol[sol.index('화성')] = '해왕성'\n",
    "sol"
   ]
  },
  {
   "cell_type": "code",
   "execution_count": 113,
   "id": "1cb17213",
   "metadata": {},
   "outputs": [
    {
     "data": {
      "text/plain": [
       "['태양', '명왕성', '수성', '금성', '지구', '해왕성', '목성', '지구']"
      ]
     },
     "execution_count": 113,
     "metadata": {},
     "output_type": "execute_result"
    }
   ],
   "source": [
    "# 4. '수성' 자리에 '명왕성' 을 삽입하시오\n",
    "sol.insert(sol.index('수성'),'명왕성')\n",
    "sol"
   ]
  },
  {
   "cell_type": "code",
   "execution_count": 114,
   "id": "5001feb3",
   "metadata": {},
   "outputs": [
    {
     "data": {
      "text/plain": [
       "['태양', '명왕성', '수성', '금성', '지구', '해왕성', '목성', '지구', '토성']"
      ]
     },
     "execution_count": 114,
     "metadata": {},
     "output_type": "execute_result"
    }
   ],
   "source": [
    "# 5. 맨 끝에 '토성' 을 추가하시오\n",
    "sol.append('토성')\n",
    "sol"
   ]
  },
  {
   "cell_type": "code",
   "execution_count": 115,
   "id": "a958e8b9",
   "metadata": {},
   "outputs": [
    {
     "data": {
      "text/plain": [
       "['태양', '명왕성', '수성', '금성', '해왕성', '목성', '지구', '토성']"
      ]
     },
     "execution_count": 115,
     "metadata": {},
     "output_type": "execute_result"
    }
   ],
   "source": [
    "# 6. '지구' 를 삭제하시오\n",
    "sol.remove('지구')\n",
    "sol"
   ]
  },
  {
   "cell_type": "code",
   "execution_count": 244,
   "id": "3c796d6e",
   "metadata": {},
   "outputs": [
    {
     "data": {
      "text/plain": [
       "['금성', '명왕성', '목성', '수성', '지구', '태양', '토성', '해왕성']"
      ]
     },
     "execution_count": 244,
     "metadata": {},
     "output_type": "execute_result"
    }
   ],
   "source": [
    "# 7. 오름차순 정렬하시오\n",
    "# sol.sort()\n",
    "# sol\n",
    "sorted(sol)"
   ]
  },
  {
   "cell_type": "code",
   "execution_count": 118,
   "id": "dba90b91",
   "metadata": {},
   "outputs": [
    {
     "data": {
      "text/plain": [
       "False"
      ]
     },
     "execution_count": 118,
     "metadata": {},
     "output_type": "execute_result"
    }
   ],
   "source": [
    "# 8.'만리장성'이 있는지 확인하시오\n",
    "'만리장성' in sol"
   ]
  },
  {
   "cell_type": "code",
   "execution_count": 119,
   "id": "463b5620",
   "metadata": {},
   "outputs": [
    {
     "data": {
      "text/plain": [
       "8"
      ]
     },
     "execution_count": 119,
     "metadata": {},
     "output_type": "execute_result"
    }
   ],
   "source": [
    "# 9. 길이를 리턴하시오\n",
    "len(sol)"
   ]
  },
  {
   "cell_type": "code",
   "execution_count": 123,
   "id": "21cbc91a",
   "metadata": {},
   "outputs": [
    {
     "data": {
      "text/plain": [
       "['금성', '명왕성', '목성', '수성', '지구', '태양', '토성', '해왕성', '토성', '천왕성', '해왕성']"
      ]
     },
     "execution_count": 123,
     "metadata": {},
     "output_type": "execute_result"
    }
   ],
   "source": [
    "# 10. sol과 sol1을 연결하시오\n",
    "solT = sol+sol1\n",
    "solT\n",
    "# extend"
   ]
  },
  {
   "cell_type": "markdown",
   "id": "3a2523ff",
   "metadata": {},
   "source": [
    "# Dictionary"
   ]
  },
  {
   "cell_type": "code",
   "execution_count": 162,
   "id": "42ddae00",
   "metadata": {},
   "outputs": [],
   "source": [
    "names = {'Mary':1090, 'Sams':2111, 'Aim':9778, 'Tom':5478, 'Micheal':4581, 'Kelly':7891}"
   ]
  },
  {
   "cell_type": "code",
   "execution_count": 163,
   "id": "2cffa354",
   "metadata": {},
   "outputs": [
    {
     "data": {
      "text/plain": [
       "9778"
      ]
     },
     "execution_count": 163,
     "metadata": {},
     "output_type": "execute_result"
    }
   ],
   "source": [
    "# 1. 'Aim'의 값을 출력하시오\n",
    "names['Aim']"
   ]
  },
  {
   "cell_type": "code",
   "execution_count": 164,
   "id": "2360d93e",
   "metadata": {},
   "outputs": [
    {
     "data": {
      "text/plain": [
       "2000"
      ]
     },
     "execution_count": 164,
     "metadata": {},
     "output_type": "execute_result"
    }
   ],
   "source": [
    "# 2. 'Aim'의 값을 2000으로 변경하시오\n",
    "names['Aim'] = 2000\n",
    "names['Aim']"
   ]
  },
  {
   "cell_type": "code",
   "execution_count": 165,
   "id": "66d6395c",
   "metadata": {},
   "outputs": [
    {
     "name": "stdout",
     "output_type": "stream",
     "text": [
      "23151\n"
     ]
    }
   ],
   "source": [
    "# 3. names의 value들의 합을 구하시오\n",
    "# a = 0\n",
    "# for x in names.values():\n",
    "#     a = a + int(x)\n",
    "# a\n",
    "print(sum(names.values()))"
   ]
  },
  {
   "cell_type": "code",
   "execution_count": 166,
   "id": "05636811",
   "metadata": {},
   "outputs": [
    {
     "data": {
      "text/plain": [
       "dict_items([('Mary', 1090), ('Sams', 2111), ('Aim', 2000), ('Tom', 5478), ('Micheal', 4581), ('Kelly', 7891)])"
      ]
     },
     "execution_count": 166,
     "metadata": {},
     "output_type": "execute_result"
    }
   ],
   "source": [
    "# 4. key와 value들의 각 쌍을 tuple로 출력하시오\n",
    "names.items()"
   ]
  },
  {
   "cell_type": "code",
   "execution_count": 167,
   "id": "a164823f",
   "metadata": {},
   "outputs": [
    {
     "data": {
      "text/plain": [
       "{'Mary': 1090,\n",
       " 'Sams': 2111,\n",
       " 'Aim': 2000,\n",
       " 'Tom': 5478,\n",
       " 'Micheal': 4581,\n",
       " 'Kelly': 7891,\n",
       " 'Kim': 1000}"
      ]
     },
     "execution_count": 167,
     "metadata": {},
     "output_type": "execute_result"
    }
   ],
   "source": [
    "# 5. 'Kim'을 key로 value를 1000으로 추가하시오\n",
    "names['Kim'] = 1000\n",
    "names"
   ]
  },
  {
   "cell_type": "code",
   "execution_count": 170,
   "id": "36f7420f",
   "metadata": {},
   "outputs": [
    {
     "name": "stdout",
     "output_type": "stream",
     "text": [
      "이름을 입력하시오.Mi\n"
     ]
    },
    {
     "data": {
      "text/plain": [
       "{'Mary': 1090,\n",
       " 'Sams': 2111,\n",
       " 'Aim': 2000,\n",
       " 'Tom': 5478,\n",
       " 'Micheal': 4581,\n",
       " 'Kelly': 7891,\n",
       " 'Kim': 1000,\n",
       " 'yu': 1000,\n",
       " 'An': 1000,\n",
       " 'Mi': 1000}"
      ]
     },
     "execution_count": 170,
     "metadata": {},
     "output_type": "execute_result"
    }
   ],
   "source": [
    "# 6. 이름을 입력받은 후 이름이 있으면 값을 출력하고 없으면 받은 이름을 값 1000로 추가하시오\n",
    "name = input('이름을 입력하시오.')\n",
    "# if names.keys() == name:\n",
    "#     print(names[name])\n",
    "# else:\n",
    "#     names[name] = 1000\n",
    "#     print(names[name])\n",
    "names.setdefault(name, 1000)\n",
    "names"
   ]
  },
  {
   "cell_type": "code",
   "execution_count": 245,
   "id": "2065986c",
   "metadata": {},
   "outputs": [
    {
     "data": {
      "text/plain": [
       "{'Mary': 1090,\n",
       " 'Sams': 2111,\n",
       " 'Aim': 9778,\n",
       " 'Micheal': 4581,\n",
       " 'Kelly': 7891,\n",
       " 'AN': 1000}"
      ]
     },
     "execution_count": 245,
     "metadata": {},
     "output_type": "execute_result"
    }
   ],
   "source": [
    "# 7. key가 'Tom'인 요소를 제거하시오\n",
    "# del names['Tom']\n",
    "names.pop('Tom')\n",
    "names"
   ]
  },
  {
   "cell_type": "markdown",
   "id": "a61190ce",
   "metadata": {},
   "source": [
    "# If"
   ]
  },
  {
   "cell_type": "code",
   "execution_count": 174,
   "id": "cf10e850",
   "metadata": {},
   "outputs": [],
   "source": [
    "passwd = 1234"
   ]
  },
  {
   "cell_type": "code",
   "execution_count": 180,
   "id": "ff06bf68",
   "metadata": {},
   "outputs": [
    {
     "name": "stdout",
     "output_type": "stream",
     "text": [
      "패스워드를 입력하시오. 1234\n",
      "환영합니다.\n"
     ]
    }
   ],
   "source": [
    "# 1. 패스워드를 입력받은 후 맞으면 '환영합니다', 틀리면 '패스워드가 틀립니다'를 출력하시오\n",
    "pw = int(input('패스워드를 입력하시오. '))\n",
    "if passwd == pw:\n",
    "    print('환영합니다.')\n",
    "else:\n",
    "    print('패스워드가 틀립니다')"
   ]
  },
  {
   "cell_type": "code",
   "execution_count": 191,
   "id": "1a56be53",
   "metadata": {},
   "outputs": [
    {
     "name": "stdout",
     "output_type": "stream",
     "text": [
      "임의의 정수를 입력하시오.6\n",
      "짝수\n"
     ]
    }
   ],
   "source": [
    "# 2. 임의의 정수를 입력받은 후 홀수이면 '홀수', 짝수이면 '짝수'를 출력하시오\n",
    "i = int(input('임의의 정수를 입력하시오.'))\n",
    "if i%2 == 1:\n",
    "\n",
    "    print('홀수')\n",
    "else:\n",
    "    print('짝수')\n",
    "\n",
    "# if i/2 ==0:"
   ]
  },
  {
   "cell_type": "code",
   "execution_count": 192,
   "id": "22413f0b",
   "metadata": {
    "scrolled": true
   },
   "outputs": [
    {
     "name": "stdout",
     "output_type": "stream",
     "text": [
      "점수를 입력하시오. 88\n",
      "B\n"
     ]
    }
   ],
   "source": [
    "# 3. 점수를 입력받은 후 학점을 출력하는 코드를 작성하시오\n",
    "score = int(input('점수를 입력하시오. '))\n",
    "if score >= 90:\n",
    "    print('A')\n",
    "elif score >= 80:\n",
    "    print('B')\n",
    "elif score >= 70:\n",
    "    print('C')\n",
    "elif score >= 60:\n",
    "    print('D')\n",
    "elif score >= 50:\n",
    "    print('E')\n",
    "else:\n",
    "    print('F')"
   ]
  },
  {
   "cell_type": "code",
   "execution_count": 200,
   "id": "a2943185",
   "metadata": {},
   "outputs": [],
   "source": [
    "names = {'Mary':1090, 'Sams':2111, 'Aim':9778, 'Tom':5478, 'Micheal':4581, 'Kelly':7891}"
   ]
  },
  {
   "cell_type": "code",
   "execution_count": 203,
   "id": "ca47d0d8",
   "metadata": {},
   "outputs": [
    {
     "name": "stdout",
     "output_type": "stream",
     "text": [
      "이름을 입력하시오.AN\n",
      "1000\n"
     ]
    },
    {
     "data": {
      "text/plain": [
       "{'Mary': 1090,\n",
       " 'Sams': 2111,\n",
       " 'Aim': 9778,\n",
       " 'Tom': 5478,\n",
       " 'Micheal': 4581,\n",
       " 'Kelly': 7891,\n",
       " 'AN': 1000}"
      ]
     },
     "execution_count": 203,
     "metadata": {},
     "output_type": "execute_result"
    }
   ],
   "source": [
    "# 4. 임의의 이름을 입력받은 후 names에 이름이 있으면 점수를 출력하고, 없으면 점수 1000으로 추가하시오(setdefault 사용 X)\n",
    "name = input('이름을 입력하시오.')\n",
    "if name in names:\n",
    "    print(names[name])\n",
    "else:\n",
    "    names[name] = 1000\n",
    "    print(names[name])\n",
    "\n",
    "names"
   ]
  },
  {
   "cell_type": "markdown",
   "id": "7521f28c",
   "metadata": {},
   "source": [
    "# For"
   ]
  },
  {
   "cell_type": "code",
   "execution_count": 242,
   "id": "4f6e22a1",
   "metadata": {},
   "outputs": [
    {
     "name": "stdout",
     "output_type": "stream",
     "text": [
      "1275\n"
     ]
    }
   ],
   "source": [
    "# 1. 1부터 50까지 합을 구하시오\n",
    "a=0\n",
    "for x in range(51):\n",
    "#     print(x, end=', ')\n",
    "    a = a + x\n",
    "print(a)"
   ]
  },
  {
   "cell_type": "code",
   "execution_count": 230,
   "id": "3871284a",
   "metadata": {},
   "outputs": [
    {
     "name": "stdout",
     "output_type": "stream",
     "text": [
      "650\n"
     ]
    }
   ],
   "source": [
    "# 2. 1부터 50까지 짝수의 합을 구하시오\n",
    "a = 0\n",
    "for x in range(1,51):\n",
    "    if x%2 == 0:\n",
    "        a = a + x\n",
    "        \n",
    "print(a)"
   ]
  },
  {
   "cell_type": "code",
   "execution_count": 231,
   "id": "7af4d93c",
   "metadata": {},
   "outputs": [
    {
     "name": "stdout",
     "output_type": "stream",
     "text": [
      "3, 4, 5, "
     ]
    }
   ],
   "source": [
    "# 3. 1부터 10까지 출력하는 반복문에서 continue와 break를 사용하여 3, 4, 5만을 출력하시오\n",
    "for x in range(11):\n",
    "    if x < 3:\n",
    "        continue\n",
    "    if x > 5:\n",
    "        break\n",
    "    print(x, end=', ')"
   ]
  },
  {
   "cell_type": "code",
   "execution_count": 236,
   "id": "f7898dd4",
   "metadata": {},
   "outputs": [
    {
     "name": "stdout",
     "output_type": "stream",
     "text": [
      "4\n"
     ]
    }
   ],
   "source": [
    "# 4. 'python programming' 에서 모음의 갯수를 출력하시오. 단, 모음은 'aeiou'\n",
    "cnt = 0\n",
    "# str = 'python programming' \n",
    "# for x in str:\n",
    "#     if x == 'a' or x == 'e' or x == 'i' or x == 'o' or x == 'u':\n",
    "#         cnt = cnt + 1\n",
    "\n",
    "for x in 'python programming':\n",
    "    if x in 'aeiou':\n",
    "        cnt += 1\n",
    "    \n",
    "print(cnt)"
   ]
  },
  {
   "cell_type": "code",
   "execution_count": 237,
   "id": "d381fc6d",
   "metadata": {},
   "outputs": [
    {
     "name": "stdout",
     "output_type": "stream",
     "text": [
      "점수를 입력하시오6\n",
      "점수를 입력하시오6\n",
      "점수를 입력하시오6\n",
      "점수를 입력하시오6\n",
      "점수를 입력하시오6\n",
      "6.0\n"
     ]
    }
   ],
   "source": [
    "# 5. 점수를 5회 입력받아서 평균 구하기\n",
    "sc_sum = 0\n",
    "for x in range(1, 6):\n",
    "    score = int(input('점수를 입력하시오'))\n",
    "    sc_sum = sc_sum + score\n",
    "    avg = sc_sum/x\n",
    "    \n",
    "print(avg)"
   ]
  }
 ],
 "metadata": {
  "kernelspec": {
   "display_name": "Python 3 (ipykernel)",
   "language": "python",
   "name": "python3"
  },
  "language_info": {
   "codemirror_mode": {
    "name": "ipython",
    "version": 3
   },
   "file_extension": ".py",
   "mimetype": "text/x-python",
   "name": "python",
   "nbconvert_exporter": "python",
   "pygments_lexer": "ipython3",
   "version": "3.9.13"
  }
 },
 "nbformat": 4,
 "nbformat_minor": 5
}
